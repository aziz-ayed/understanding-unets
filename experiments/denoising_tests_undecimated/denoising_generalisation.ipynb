{
 "cells": [
  {
   "cell_type": "code",
   "execution_count": 1,
   "metadata": {},
   "outputs": [
    {
     "name": "stdout",
     "output_type": "stream",
     "text": [
      "/volatile/home/Zaccharie/workspace/understanding-unets\n"
     ]
    }
   ],
   "source": [
    "%cd ../.."
   ]
  },
  {
   "cell_type": "code",
   "execution_count": 2,
   "metadata": {},
   "outputs": [],
   "source": [
    "# # this just to make sure we are using only on CPU\n",
    "# import os\n",
    "# os.environ[\"CUDA_VISIBLE_DEVICES\"]=\"-1\""
   ]
  },
  {
   "cell_type": "code",
   "execution_count": 3,
   "metadata": {},
   "outputs": [
    {
     "name": "stdout",
     "output_type": "stream",
     "text": [
      "\n",
      "                 .|'''|       /.\\      '||'''|,\n",
      "                 ||          // \\\\      ||   ||\n",
      "'||''|, '||  ||` `|'''|,    //...\\\\     ||...|'\n",
      " ||  ||  `|..||   .   ||   //     \\\\    ||\n",
      " ||..|'      ||   |...|' .//       \\\\. .||\n",
      " ||       ,  |'\n",
      ".||        ''\n",
      "\n",
      "Package version: 0.0.3\n",
      "\n",
      "License: CeCILL-B\n",
      "\n",
      "Authors: \n",
      "\n",
      "Antoine Grigis <antoine.grigis@cea.fr>\n",
      "Samuel Farrens <samuel.farrens@cea.fr>\n",
      "Jean-Luc Starck <jl.stark@cea.fr>\n",
      "Philippe Ciuciu <philippe.ciuciu@cea.fr>\n",
      "\n",
      "Dependencies: \n",
      "\n",
      "scipy          : >=1.3.0   - required | 1.4.1     installed\n",
      "numpy          : >=1.16.4  - required | 1.17.4    installed\n",
      "matplotlib     : >=3.0.0   - required | 3.1.2     installed\n",
      "astropy        : >=3.0.0   - required | 3.2.3     installed\n",
      "nibabel        : >=2.3.2   - required | 2.5.1     installed\n",
      "pyqtgraph      : >=0.10.0  - required | 0.10.0    installed\n",
      "progressbar2   : >=3.34.3  - required | ?         installed\n",
      "modopt         : >=1.4.0   - required | 1.4.1     installed\n",
      "scikit-learn   : >=0.19.1  - required | ?         installed\n",
      "pywt           : >=1.0.0   - required | 1.1.1     installed\n",
      "pysparse       : >=0.0.1   - required | 0.1.0     installed\n",
      "\n"
     ]
    }
   ],
   "source": [
    "%load_ext autoreload\n",
    "%autoreload 2\n",
    "import copy\n",
    "import time\n",
    "\n",
    "import numpy as np\n",
    "import pandas as pd\n",
    "from tqdm import tqdm_notebook\n",
    "\n",
    "from learning_wavelets.data.datasets import im_dataset_bsd68\n",
    "from learning_wavelets.models.learnlet_model import Learnlet\n",
    "from learning_wavelets.models.unet import unet\n",
    "from learning_wavelets.utils.metrics import metrics_from_ds, metrics_original_from_ds"
   ]
  },
  {
   "cell_type": "code",
   "execution_count": 4,
   "metadata": {},
   "outputs": [],
   "source": [
    "np.random.seed(0)"
   ]
  },
  {
   "cell_type": "code",
   "execution_count": 5,
   "metadata": {},
   "outputs": [],
   "source": [
    "def build_learnlet_subclassing(**run_params):\n",
    "    model = Learnlet(**run_params)\n",
    "    model.build([[None, None, None, 1], [None, 1]])\n",
    "    return model"
   ]
  },
  {
   "cell_type": "code",
   "execution_count": 6,
   "metadata": {
    "code_folding": []
   },
   "outputs": [],
   "source": [
    "all_net_params = [\n",
    "    {\n",
    "        'name': 'unet-multiple-stds',\n",
    "        'init_function': unet,\n",
    "        'run_params': {\n",
    "            'n_layers': 5, \n",
    "            'pool': 'max', \n",
    "            \"layers_n_channels\": [64, 128, 256, 512, 1024], \n",
    "            'layers_n_non_lins': 2,\n",
    "            'non_relu_contract': False,\n",
    "            'bn': True,\n",
    "            'input_size': (None, None, 1),\n",
    "        },\n",
    "        'run_id': 'unet_dynamic_st_bsd500_0_55_1576668365',\n",
    "        'epoch': 500,\n",
    "    },\n",
    "]\n",
    "\n",
    "dynamic_denoising_net_params = [\n",
    "    {\n",
    "        'name': 'learnlet',\n",
    "        'init_function': build_learnlet_subclassing,\n",
    "        'run_params': {\n",
    "            'denoising_activation': 'dynamic_soft_thresholding',\n",
    "            'learnlet_analysis_kwargs':{\n",
    "                'n_tiling': 64, \n",
    "                'mixing_details': False,    \n",
    "                'skip_connection': True,\n",
    "                'kernel_size': 11,\n",
    "            },\n",
    "            'learnlet_synthesis_kwargs': {\n",
    "                'res': True,\n",
    "                'kernel_size': 13,\n",
    "            },\n",
    "            'threshold_kwargs':{\n",
    "                'noise_std_norm': True,\n",
    "            },\n",
    "            'n_scales': 5,\n",
    "            'exact_reconstruction': True,\n",
    "            'n_reweights_learn': 1,\n",
    "            'undecimated': True,\n",
    "            'clip': False,\n",
    "        },\n",
    "        'run_id': 'learnlet_subclassed_undecimated_exact_reco_64_dynamic_soft_thresholding_bsd500_0.0_55.0_None_1582907244',\n",
    "        'epoch': 100,\n",
    "    },\n",
    "]"
   ]
  },
  {
   "cell_type": "code",
   "execution_count": 7,
   "metadata": {},
   "outputs": [],
   "source": [
    "noise_stds = [0.0001, 5, 15, 20, 25, 30, 50, 55, 60, 75]"
   ]
  },
  {
   "cell_type": "code",
   "execution_count": 8,
   "metadata": {
    "code_folding": [],
    "scrolled": true
   },
   "outputs": [
    {
     "name": "stderr",
     "output_type": "stream",
     "text": [
      "/volatile/home/Zaccharie/workspace/understanding-unets/venv/lib/python3.6/site-packages/ipykernel_launcher.py:3: TqdmDeprecationWarning: This function will be removed in tqdm==5.0.0\n",
      "Please use `tqdm.notebook.tqdm` instead of `tqdm.tqdm_notebook`\n",
      "  This is separate from the ipykernel package so we can avoid doing imports until\n"
     ]
    },
    {
     "data": {
      "application/vnd.jupyter.widget-view+json": {
       "model_id": "4f9ba8c7aac443abb5bd3fc9f3d261cb",
       "version_major": 2,
       "version_minor": 0
      },
      "text/plain": [
       "HBox(children=(FloatProgress(value=0.0, description='Noise stds', max=10.0, style=ProgressStyle(description_wi…"
      ]
     },
     "metadata": {},
     "output_type": "display_data"
    },
    {
     "data": {
      "application/vnd.jupyter.widget-view+json": {
       "model_id": "db0898a587f0449c8ba5195592602168",
       "version_major": 2,
       "version_minor": 0
      },
      "text/plain": [
       "HBox(children=(FloatProgress(value=1.0, bar_style='info', max=1.0), HTML(value='')))"
      ]
     },
     "metadata": {},
     "output_type": "display_data"
    },
    {
     "name": "stdout",
     "output_type": "stream",
     "text": [
      "\n"
     ]
    },
    {
     "data": {
      "application/vnd.jupyter.widget-view+json": {
       "model_id": "ff80e18b61c84b83aae1b7a2619c40af",
       "version_major": 2,
       "version_minor": 0
      },
      "text/plain": [
       "HBox(children=(FloatProgress(value=0.0, description='Stats for unet-multiple-stds', max=68.0, style=ProgressSt…"
      ]
     },
     "metadata": {},
     "output_type": "display_data"
    },
    {
     "name": "stderr",
     "output_type": "stream",
     "text": [
      "/volatile/home/Zaccharie/workspace/understanding-unets/learning_wavelets/evaluate.py:34: UserWarning: DEPRECATED: skimage.measure.compare_psnr has been moved to skimage.metrics.peak_signal_noise_ratio. It will be removed from skimage.measure in version 0.18.\n",
      "  return compare_psnr(gt, pred, data_range=1)\n",
      "/volatile/home/Zaccharie/workspace/understanding-unets/learning_wavelets/evaluate.py:43: UserWarning: DEPRECATED: skimage.measure.compare_ssim has been moved to skimage.metrics.structural_similarity. It will be removed from skimage.measure in version 0.18.\n",
      "  gt, pred, multichannel=True, data_range=1\n"
     ]
    },
    {
     "name": "stdout",
     "output_type": "stream",
     "text": [
      "\n"
     ]
    },
    {
     "data": {
      "application/vnd.jupyter.widget-view+json": {
       "model_id": "d144e00c28f749359c50919e2a7da04f",
       "version_major": 2,
       "version_minor": 0
      },
      "text/plain": [
       "HBox(children=(FloatProgress(value=1.0, bar_style='info', max=1.0), HTML(value='')))"
      ]
     },
     "metadata": {},
     "output_type": "display_data"
    },
    {
     "name": "stdout",
     "output_type": "stream",
     "text": [
      "\n"
     ]
    },
    {
     "data": {
      "application/vnd.jupyter.widget-view+json": {
       "model_id": "2b4721a8d472410a81e20a4253fefec4",
       "version_major": 2,
       "version_minor": 0
      },
      "text/plain": [
       "HBox(children=(FloatProgress(value=0.0, description='Stats for original noisy images', max=68.0, style=Progres…"
      ]
     },
     "metadata": {},
     "output_type": "display_data"
    },
    {
     "name": "stdout",
     "output_type": "stream",
     "text": [
      "\n"
     ]
    },
    {
     "data": {
      "application/vnd.jupyter.widget-view+json": {
       "model_id": "17562d5ff0fe457e8ee8ec49418b58b5",
       "version_major": 2,
       "version_minor": 0
      },
      "text/plain": [
       "HBox(children=(FloatProgress(value=1.0, bar_style='info', max=1.0), HTML(value='')))"
      ]
     },
     "metadata": {},
     "output_type": "display_data"
    },
    {
     "name": "stdout",
     "output_type": "stream",
     "text": [
      "\n"
     ]
    },
    {
     "data": {
      "application/vnd.jupyter.widget-view+json": {
       "model_id": "803ebdfbec984ea3ab24ec747d9dfe04",
       "version_major": 2,
       "version_minor": 0
      },
      "text/plain": [
       "HBox(children=(FloatProgress(value=0.0, description='Stats for learnlet', max=68.0, style=ProgressStyle(descri…"
      ]
     },
     "metadata": {},
     "output_type": "display_data"
    },
    {
     "name": "stdout",
     "output_type": "stream",
     "text": [
      "\n"
     ]
    },
    {
     "data": {
      "application/vnd.jupyter.widget-view+json": {
       "model_id": "e74fddfa4a254a7d8cdc7eb14ff45ded",
       "version_major": 2,
       "version_minor": 0
      },
      "text/plain": [
       "HBox(children=(FloatProgress(value=1.0, bar_style='info', max=1.0), HTML(value='')))"
      ]
     },
     "metadata": {},
     "output_type": "display_data"
    },
    {
     "name": "stdout",
     "output_type": "stream",
     "text": [
      "\n"
     ]
    },
    {
     "data": {
      "application/vnd.jupyter.widget-view+json": {
       "model_id": "2f0a6d5e0cf345229c0d9db86bbfaec6",
       "version_major": 2,
       "version_minor": 0
      },
      "text/plain": [
       "HBox(children=(FloatProgress(value=0.0, description='Stats for unet-multiple-stds', max=68.0, style=ProgressSt…"
      ]
     },
     "metadata": {},
     "output_type": "display_data"
    },
    {
     "name": "stdout",
     "output_type": "stream",
     "text": [
      "\n"
     ]
    },
    {
     "data": {
      "application/vnd.jupyter.widget-view+json": {
       "model_id": "00ea79b2986b4114971d6b9ebf7cb2b5",
       "version_major": 2,
       "version_minor": 0
      },
      "text/plain": [
       "HBox(children=(FloatProgress(value=1.0, bar_style='info', max=1.0), HTML(value='')))"
      ]
     },
     "metadata": {},
     "output_type": "display_data"
    },
    {
     "name": "stdout",
     "output_type": "stream",
     "text": [
      "\n"
     ]
    },
    {
     "data": {
      "application/vnd.jupyter.widget-view+json": {
       "model_id": "2998330aa2914dfbad026aec991e41ef",
       "version_major": 2,
       "version_minor": 0
      },
      "text/plain": [
       "HBox(children=(FloatProgress(value=0.0, description='Stats for original noisy images', max=68.0, style=Progres…"
      ]
     },
     "metadata": {},
     "output_type": "display_data"
    },
    {
     "name": "stdout",
     "output_type": "stream",
     "text": [
      "\n"
     ]
    },
    {
     "data": {
      "application/vnd.jupyter.widget-view+json": {
       "model_id": "17665e6fb7654182b4729ebc99b06733",
       "version_major": 2,
       "version_minor": 0
      },
      "text/plain": [
       "HBox(children=(FloatProgress(value=1.0, bar_style='info', max=1.0), HTML(value='')))"
      ]
     },
     "metadata": {},
     "output_type": "display_data"
    },
    {
     "name": "stdout",
     "output_type": "stream",
     "text": [
      "\n"
     ]
    },
    {
     "data": {
      "application/vnd.jupyter.widget-view+json": {
       "model_id": "0c876fd11af74f578c24892a7fe3be77",
       "version_major": 2,
       "version_minor": 0
      },
      "text/plain": [
       "HBox(children=(FloatProgress(value=0.0, description='Stats for learnlet', max=68.0, style=ProgressStyle(descri…"
      ]
     },
     "metadata": {},
     "output_type": "display_data"
    },
    {
     "name": "stdout",
     "output_type": "stream",
     "text": [
      "\n"
     ]
    },
    {
     "data": {
      "application/vnd.jupyter.widget-view+json": {
       "model_id": "b4499fb45c48408c865a1d15313ba1a0",
       "version_major": 2,
       "version_minor": 0
      },
      "text/plain": [
       "HBox(children=(FloatProgress(value=1.0, bar_style='info', max=1.0), HTML(value='')))"
      ]
     },
     "metadata": {},
     "output_type": "display_data"
    },
    {
     "name": "stdout",
     "output_type": "stream",
     "text": [
      "\n"
     ]
    },
    {
     "data": {
      "application/vnd.jupyter.widget-view+json": {
       "model_id": "639ed2a93b2a492a8ba9b9de1b9400b5",
       "version_major": 2,
       "version_minor": 0
      },
      "text/plain": [
       "HBox(children=(FloatProgress(value=0.0, description='Stats for unet-multiple-stds', max=68.0, style=ProgressSt…"
      ]
     },
     "metadata": {},
     "output_type": "display_data"
    },
    {
     "name": "stdout",
     "output_type": "stream",
     "text": [
      "\n"
     ]
    },
    {
     "data": {
      "application/vnd.jupyter.widget-view+json": {
       "model_id": "9bced0c05259437aaaa3dbfbf031532b",
       "version_major": 2,
       "version_minor": 0
      },
      "text/plain": [
       "HBox(children=(FloatProgress(value=1.0, bar_style='info', max=1.0), HTML(value='')))"
      ]
     },
     "metadata": {},
     "output_type": "display_data"
    },
    {
     "name": "stdout",
     "output_type": "stream",
     "text": [
      "\n"
     ]
    },
    {
     "data": {
      "application/vnd.jupyter.widget-view+json": {
       "model_id": "6daf2aa37cab46208df278324e6ed848",
       "version_major": 2,
       "version_minor": 0
      },
      "text/plain": [
       "HBox(children=(FloatProgress(value=0.0, description='Stats for original noisy images', max=68.0, style=Progres…"
      ]
     },
     "metadata": {},
     "output_type": "display_data"
    },
    {
     "name": "stdout",
     "output_type": "stream",
     "text": [
      "\n"
     ]
    },
    {
     "data": {
      "application/vnd.jupyter.widget-view+json": {
       "model_id": "1a3591676ecf444594da059ed420af7a",
       "version_major": 2,
       "version_minor": 0
      },
      "text/plain": [
       "HBox(children=(FloatProgress(value=1.0, bar_style='info', max=1.0), HTML(value='')))"
      ]
     },
     "metadata": {},
     "output_type": "display_data"
    },
    {
     "name": "stdout",
     "output_type": "stream",
     "text": [
      "\n"
     ]
    },
    {
     "data": {
      "application/vnd.jupyter.widget-view+json": {
       "model_id": "78e9b7f164e14f99a67b35a45858e4ca",
       "version_major": 2,
       "version_minor": 0
      },
      "text/plain": [
       "HBox(children=(FloatProgress(value=0.0, description='Stats for learnlet', max=68.0, style=ProgressStyle(descri…"
      ]
     },
     "metadata": {},
     "output_type": "display_data"
    },
    {
     "name": "stdout",
     "output_type": "stream",
     "text": [
      "\n"
     ]
    },
    {
     "data": {
      "application/vnd.jupyter.widget-view+json": {
       "model_id": "526c102ffc5e4c1daa7e3ec286cee29e",
       "version_major": 2,
       "version_minor": 0
      },
      "text/plain": [
       "HBox(children=(FloatProgress(value=1.0, bar_style='info', max=1.0), HTML(value='')))"
      ]
     },
     "metadata": {},
     "output_type": "display_data"
    },
    {
     "name": "stdout",
     "output_type": "stream",
     "text": [
      "\n"
     ]
    },
    {
     "data": {
      "application/vnd.jupyter.widget-view+json": {
       "model_id": "772f0cdc2af742b0b27f2c43e429e11f",
       "version_major": 2,
       "version_minor": 0
      },
      "text/plain": [
       "HBox(children=(FloatProgress(value=0.0, description='Stats for unet-multiple-stds', max=68.0, style=ProgressSt…"
      ]
     },
     "metadata": {},
     "output_type": "display_data"
    },
    {
     "name": "stdout",
     "output_type": "stream",
     "text": [
      "\n"
     ]
    },
    {
     "data": {
      "application/vnd.jupyter.widget-view+json": {
       "model_id": "c811833019154772ac9ab61e89b51261",
       "version_major": 2,
       "version_minor": 0
      },
      "text/plain": [
       "HBox(children=(FloatProgress(value=1.0, bar_style='info', max=1.0), HTML(value='')))"
      ]
     },
     "metadata": {},
     "output_type": "display_data"
    },
    {
     "name": "stdout",
     "output_type": "stream",
     "text": [
      "\n"
     ]
    },
    {
     "data": {
      "application/vnd.jupyter.widget-view+json": {
       "model_id": "8a8a8273728c4ed3a84af680c9cf23ce",
       "version_major": 2,
       "version_minor": 0
      },
      "text/plain": [
       "HBox(children=(FloatProgress(value=0.0, description='Stats for original noisy images', max=68.0, style=Progres…"
      ]
     },
     "metadata": {},
     "output_type": "display_data"
    },
    {
     "name": "stdout",
     "output_type": "stream",
     "text": [
      "\n"
     ]
    },
    {
     "data": {
      "application/vnd.jupyter.widget-view+json": {
       "model_id": "62516d41054e46d5992532c77a62307c",
       "version_major": 2,
       "version_minor": 0
      },
      "text/plain": [
       "HBox(children=(FloatProgress(value=1.0, bar_style='info', max=1.0), HTML(value='')))"
      ]
     },
     "metadata": {},
     "output_type": "display_data"
    },
    {
     "name": "stdout",
     "output_type": "stream",
     "text": [
      "\n"
     ]
    },
    {
     "data": {
      "application/vnd.jupyter.widget-view+json": {
       "model_id": "56438c450dca4353806ee93321e1347f",
       "version_major": 2,
       "version_minor": 0
      },
      "text/plain": [
       "HBox(children=(FloatProgress(value=0.0, description='Stats for learnlet', max=68.0, style=ProgressStyle(descri…"
      ]
     },
     "metadata": {},
     "output_type": "display_data"
    },
    {
     "name": "stdout",
     "output_type": "stream",
     "text": [
      "\n"
     ]
    },
    {
     "data": {
      "application/vnd.jupyter.widget-view+json": {
       "model_id": "da4f91dc451f4de1978b2e76ecb3cc73",
       "version_major": 2,
       "version_minor": 0
      },
      "text/plain": [
       "HBox(children=(FloatProgress(value=1.0, bar_style='info', max=1.0), HTML(value='')))"
      ]
     },
     "metadata": {},
     "output_type": "display_data"
    },
    {
     "name": "stdout",
     "output_type": "stream",
     "text": [
      "\n"
     ]
    },
    {
     "data": {
      "application/vnd.jupyter.widget-view+json": {
       "model_id": "53eda53bb5f2405a84b54670e5a9388d",
       "version_major": 2,
       "version_minor": 0
      },
      "text/plain": [
       "HBox(children=(FloatProgress(value=0.0, description='Stats for unet-multiple-stds', max=68.0, style=ProgressSt…"
      ]
     },
     "metadata": {},
     "output_type": "display_data"
    },
    {
     "name": "stdout",
     "output_type": "stream",
     "text": [
      "\n"
     ]
    },
    {
     "data": {
      "application/vnd.jupyter.widget-view+json": {
       "model_id": "81dd1fcea6d2450d92272cd190f3e667",
       "version_major": 2,
       "version_minor": 0
      },
      "text/plain": [
       "HBox(children=(FloatProgress(value=1.0, bar_style='info', max=1.0), HTML(value='')))"
      ]
     },
     "metadata": {},
     "output_type": "display_data"
    },
    {
     "name": "stdout",
     "output_type": "stream",
     "text": [
      "\n"
     ]
    },
    {
     "data": {
      "application/vnd.jupyter.widget-view+json": {
       "model_id": "a850efcb2cbc4f07b223a594bebfef4a",
       "version_major": 2,
       "version_minor": 0
      },
      "text/plain": [
       "HBox(children=(FloatProgress(value=0.0, description='Stats for original noisy images', max=68.0, style=Progres…"
      ]
     },
     "metadata": {},
     "output_type": "display_data"
    },
    {
     "name": "stdout",
     "output_type": "stream",
     "text": [
      "\n"
     ]
    },
    {
     "data": {
      "application/vnd.jupyter.widget-view+json": {
       "model_id": "d843e9a2c050427fa850cf11a074570f",
       "version_major": 2,
       "version_minor": 0
      },
      "text/plain": [
       "HBox(children=(FloatProgress(value=1.0, bar_style='info', max=1.0), HTML(value='')))"
      ]
     },
     "metadata": {},
     "output_type": "display_data"
    },
    {
     "name": "stdout",
     "output_type": "stream",
     "text": [
      "\n"
     ]
    },
    {
     "data": {
      "application/vnd.jupyter.widget-view+json": {
       "model_id": "e2e4e739d91b4e6bbe472c52ee2781a3",
       "version_major": 2,
       "version_minor": 0
      },
      "text/plain": [
       "HBox(children=(FloatProgress(value=0.0, description='Stats for learnlet', max=68.0, style=ProgressStyle(descri…"
      ]
     },
     "metadata": {},
     "output_type": "display_data"
    },
    {
     "name": "stdout",
     "output_type": "stream",
     "text": [
      "\n"
     ]
    },
    {
     "data": {
      "application/vnd.jupyter.widget-view+json": {
       "model_id": "343a4e276767494cbf92b3193558d615",
       "version_major": 2,
       "version_minor": 0
      },
      "text/plain": [
       "HBox(children=(FloatProgress(value=1.0, bar_style='info', max=1.0), HTML(value='')))"
      ]
     },
     "metadata": {},
     "output_type": "display_data"
    },
    {
     "name": "stdout",
     "output_type": "stream",
     "text": [
      "\n"
     ]
    },
    {
     "data": {
      "application/vnd.jupyter.widget-view+json": {
       "model_id": "8cfb1222e9004e08b76bed8db0ccdbbc",
       "version_major": 2,
       "version_minor": 0
      },
      "text/plain": [
       "HBox(children=(FloatProgress(value=0.0, description='Stats for unet-multiple-stds', max=68.0, style=ProgressSt…"
      ]
     },
     "metadata": {},
     "output_type": "display_data"
    },
    {
     "name": "stdout",
     "output_type": "stream",
     "text": [
      "\n"
     ]
    },
    {
     "data": {
      "application/vnd.jupyter.widget-view+json": {
       "model_id": "3137e6a5aba843ae9ef1af9a9e09103e",
       "version_major": 2,
       "version_minor": 0
      },
      "text/plain": [
       "HBox(children=(FloatProgress(value=1.0, bar_style='info', max=1.0), HTML(value='')))"
      ]
     },
     "metadata": {},
     "output_type": "display_data"
    },
    {
     "name": "stdout",
     "output_type": "stream",
     "text": [
      "\n"
     ]
    },
    {
     "data": {
      "application/vnd.jupyter.widget-view+json": {
       "model_id": "e8cf61a68ca74756b05a060353f0d79d",
       "version_major": 2,
       "version_minor": 0
      },
      "text/plain": [
       "HBox(children=(FloatProgress(value=0.0, description='Stats for original noisy images', max=68.0, style=Progres…"
      ]
     },
     "metadata": {},
     "output_type": "display_data"
    },
    {
     "name": "stdout",
     "output_type": "stream",
     "text": [
      "\n"
     ]
    },
    {
     "data": {
      "application/vnd.jupyter.widget-view+json": {
       "model_id": "8cdf012747724781aac4f0e5aba62ae0",
       "version_major": 2,
       "version_minor": 0
      },
      "text/plain": [
       "HBox(children=(FloatProgress(value=1.0, bar_style='info', max=1.0), HTML(value='')))"
      ]
     },
     "metadata": {},
     "output_type": "display_data"
    },
    {
     "name": "stdout",
     "output_type": "stream",
     "text": [
      "\n"
     ]
    },
    {
     "data": {
      "application/vnd.jupyter.widget-view+json": {
       "model_id": "f6aab1e0f6cc4002b39f17cec120a804",
       "version_major": 2,
       "version_minor": 0
      },
      "text/plain": [
       "HBox(children=(FloatProgress(value=0.0, description='Stats for learnlet', max=68.0, style=ProgressStyle(descri…"
      ]
     },
     "metadata": {},
     "output_type": "display_data"
    },
    {
     "name": "stdout",
     "output_type": "stream",
     "text": [
      "\n"
     ]
    },
    {
     "data": {
      "application/vnd.jupyter.widget-view+json": {
       "model_id": "f3e78cf4b2ce49658f02803f20e2f801",
       "version_major": 2,
       "version_minor": 0
      },
      "text/plain": [
       "HBox(children=(FloatProgress(value=1.0, bar_style='info', max=1.0), HTML(value='')))"
      ]
     },
     "metadata": {},
     "output_type": "display_data"
    },
    {
     "name": "stdout",
     "output_type": "stream",
     "text": [
      "\n"
     ]
    },
    {
     "data": {
      "application/vnd.jupyter.widget-view+json": {
       "model_id": "5b4a35c336d441248c3b7b1a3933f416",
       "version_major": 2,
       "version_minor": 0
      },
      "text/plain": [
       "HBox(children=(FloatProgress(value=0.0, description='Stats for unet-multiple-stds', max=68.0, style=ProgressSt…"
      ]
     },
     "metadata": {},
     "output_type": "display_data"
    },
    {
     "name": "stdout",
     "output_type": "stream",
     "text": [
      "\n"
     ]
    },
    {
     "data": {
      "application/vnd.jupyter.widget-view+json": {
       "model_id": "062e1e72f4544e14bdd27b5e36c3ba60",
       "version_major": 2,
       "version_minor": 0
      },
      "text/plain": [
       "HBox(children=(FloatProgress(value=1.0, bar_style='info', max=1.0), HTML(value='')))"
      ]
     },
     "metadata": {},
     "output_type": "display_data"
    },
    {
     "name": "stdout",
     "output_type": "stream",
     "text": [
      "\n"
     ]
    },
    {
     "data": {
      "application/vnd.jupyter.widget-view+json": {
       "model_id": "581d01d983864b1bb9e52a01bd8183a6",
       "version_major": 2,
       "version_minor": 0
      },
      "text/plain": [
       "HBox(children=(FloatProgress(value=0.0, description='Stats for original noisy images', max=68.0, style=Progres…"
      ]
     },
     "metadata": {},
     "output_type": "display_data"
    },
    {
     "name": "stdout",
     "output_type": "stream",
     "text": [
      "\n"
     ]
    },
    {
     "data": {
      "application/vnd.jupyter.widget-view+json": {
       "model_id": "f3d84d9fd62a4bd993d2342d0cfb8ee2",
       "version_major": 2,
       "version_minor": 0
      },
      "text/plain": [
       "HBox(children=(FloatProgress(value=1.0, bar_style='info', max=1.0), HTML(value='')))"
      ]
     },
     "metadata": {},
     "output_type": "display_data"
    },
    {
     "name": "stdout",
     "output_type": "stream",
     "text": [
      "\n"
     ]
    },
    {
     "data": {
      "application/vnd.jupyter.widget-view+json": {
       "model_id": "bce70be9c9e54ac0845d7b860f558bf3",
       "version_major": 2,
       "version_minor": 0
      },
      "text/plain": [
       "HBox(children=(FloatProgress(value=0.0, description='Stats for learnlet', max=68.0, style=ProgressStyle(descri…"
      ]
     },
     "metadata": {},
     "output_type": "display_data"
    },
    {
     "name": "stdout",
     "output_type": "stream",
     "text": [
      "\n"
     ]
    },
    {
     "data": {
      "application/vnd.jupyter.widget-view+json": {
       "model_id": "45c9e8edf39441859d4fe4f337252c5a",
       "version_major": 2,
       "version_minor": 0
      },
      "text/plain": [
       "HBox(children=(FloatProgress(value=1.0, bar_style='info', max=1.0), HTML(value='')))"
      ]
     },
     "metadata": {},
     "output_type": "display_data"
    },
    {
     "name": "stdout",
     "output_type": "stream",
     "text": [
      "\n"
     ]
    },
    {
     "data": {
      "application/vnd.jupyter.widget-view+json": {
       "model_id": "8e82365cf47846de80cb700a90b73206",
       "version_major": 2,
       "version_minor": 0
      },
      "text/plain": [
       "HBox(children=(FloatProgress(value=0.0, description='Stats for unet-multiple-stds', max=68.0, style=ProgressSt…"
      ]
     },
     "metadata": {},
     "output_type": "display_data"
    },
    {
     "name": "stdout",
     "output_type": "stream",
     "text": [
      "\n"
     ]
    },
    {
     "data": {
      "application/vnd.jupyter.widget-view+json": {
       "model_id": "d1d9c82b8aa440ac8e21c76d21b45332",
       "version_major": 2,
       "version_minor": 0
      },
      "text/plain": [
       "HBox(children=(FloatProgress(value=1.0, bar_style='info', max=1.0), HTML(value='')))"
      ]
     },
     "metadata": {},
     "output_type": "display_data"
    },
    {
     "name": "stdout",
     "output_type": "stream",
     "text": [
      "\n"
     ]
    },
    {
     "data": {
      "application/vnd.jupyter.widget-view+json": {
       "model_id": "d58d63f6949145ec87cdfd21b354e197",
       "version_major": 2,
       "version_minor": 0
      },
      "text/plain": [
       "HBox(children=(FloatProgress(value=0.0, description='Stats for original noisy images', max=68.0, style=Progres…"
      ]
     },
     "metadata": {},
     "output_type": "display_data"
    },
    {
     "name": "stdout",
     "output_type": "stream",
     "text": [
      "\n"
     ]
    },
    {
     "data": {
      "application/vnd.jupyter.widget-view+json": {
       "model_id": "3eab881704fc4b72b23f82b517fbecc4",
       "version_major": 2,
       "version_minor": 0
      },
      "text/plain": [
       "HBox(children=(FloatProgress(value=1.0, bar_style='info', max=1.0), HTML(value='')))"
      ]
     },
     "metadata": {},
     "output_type": "display_data"
    },
    {
     "name": "stdout",
     "output_type": "stream",
     "text": [
      "\n"
     ]
    },
    {
     "data": {
      "application/vnd.jupyter.widget-view+json": {
       "model_id": "666e449b117b4e9faf11201eb188fae7",
       "version_major": 2,
       "version_minor": 0
      },
      "text/plain": [
       "HBox(children=(FloatProgress(value=0.0, description='Stats for learnlet', max=68.0, style=ProgressStyle(descri…"
      ]
     },
     "metadata": {},
     "output_type": "display_data"
    },
    {
     "name": "stdout",
     "output_type": "stream",
     "text": [
      "\n"
     ]
    },
    {
     "data": {
      "application/vnd.jupyter.widget-view+json": {
       "model_id": "abf4f0ed9b544f2b80e54dfe0aaa60d9",
       "version_major": 2,
       "version_minor": 0
      },
      "text/plain": [
       "HBox(children=(FloatProgress(value=1.0, bar_style='info', max=1.0), HTML(value='')))"
      ]
     },
     "metadata": {},
     "output_type": "display_data"
    },
    {
     "name": "stdout",
     "output_type": "stream",
     "text": [
      "\n"
     ]
    },
    {
     "data": {
      "application/vnd.jupyter.widget-view+json": {
       "model_id": "cc99bb875fd941f19eac570ea0c22494",
       "version_major": 2,
       "version_minor": 0
      },
      "text/plain": [
       "HBox(children=(FloatProgress(value=0.0, description='Stats for unet-multiple-stds', max=68.0, style=ProgressSt…"
      ]
     },
     "metadata": {},
     "output_type": "display_data"
    },
    {
     "name": "stdout",
     "output_type": "stream",
     "text": [
      "\n"
     ]
    },
    {
     "data": {
      "application/vnd.jupyter.widget-view+json": {
       "model_id": "8ebf0c05c56b42ee886980c8971dde91",
       "version_major": 2,
       "version_minor": 0
      },
      "text/plain": [
       "HBox(children=(FloatProgress(value=1.0, bar_style='info', max=1.0), HTML(value='')))"
      ]
     },
     "metadata": {},
     "output_type": "display_data"
    },
    {
     "name": "stdout",
     "output_type": "stream",
     "text": [
      "\n"
     ]
    },
    {
     "data": {
      "application/vnd.jupyter.widget-view+json": {
       "model_id": "1702368f945f4d1baa392da44d4a40fd",
       "version_major": 2,
       "version_minor": 0
      },
      "text/plain": [
       "HBox(children=(FloatProgress(value=0.0, description='Stats for original noisy images', max=68.0, style=Progres…"
      ]
     },
     "metadata": {},
     "output_type": "display_data"
    },
    {
     "name": "stdout",
     "output_type": "stream",
     "text": [
      "\n"
     ]
    },
    {
     "data": {
      "application/vnd.jupyter.widget-view+json": {
       "model_id": "be7ccacd3d0f48c6986f6c61ba9cfa63",
       "version_major": 2,
       "version_minor": 0
      },
      "text/plain": [
       "HBox(children=(FloatProgress(value=1.0, bar_style='info', max=1.0), HTML(value='')))"
      ]
     },
     "metadata": {},
     "output_type": "display_data"
    },
    {
     "name": "stdout",
     "output_type": "stream",
     "text": [
      "\n"
     ]
    },
    {
     "data": {
      "application/vnd.jupyter.widget-view+json": {
       "model_id": "ba9b3113e40f49d987bb0520e4dc2252",
       "version_major": 2,
       "version_minor": 0
      },
      "text/plain": [
       "HBox(children=(FloatProgress(value=0.0, description='Stats for learnlet', max=68.0, style=ProgressStyle(descri…"
      ]
     },
     "metadata": {},
     "output_type": "display_data"
    },
    {
     "name": "stdout",
     "output_type": "stream",
     "text": [
      "\n"
     ]
    },
    {
     "data": {
      "application/vnd.jupyter.widget-view+json": {
       "model_id": "e0b3c5c4438445c8823cb7a4c4de382d",
       "version_major": 2,
       "version_minor": 0
      },
      "text/plain": [
       "HBox(children=(FloatProgress(value=1.0, bar_style='info', max=1.0), HTML(value='')))"
      ]
     },
     "metadata": {},
     "output_type": "display_data"
    },
    {
     "name": "stdout",
     "output_type": "stream",
     "text": [
      "\n"
     ]
    },
    {
     "data": {
      "application/vnd.jupyter.widget-view+json": {
       "model_id": "ca376ca1dc3d421482b478da76ddaba1",
       "version_major": 2,
       "version_minor": 0
      },
      "text/plain": [
       "HBox(children=(FloatProgress(value=0.0, description='Stats for unet-multiple-stds', max=68.0, style=ProgressSt…"
      ]
     },
     "metadata": {},
     "output_type": "display_data"
    },
    {
     "name": "stdout",
     "output_type": "stream",
     "text": [
      "\n"
     ]
    },
    {
     "data": {
      "application/vnd.jupyter.widget-view+json": {
       "model_id": "10594ccc8df14f91ba6c1f823586cfb4",
       "version_major": 2,
       "version_minor": 0
      },
      "text/plain": [
       "HBox(children=(FloatProgress(value=1.0, bar_style='info', max=1.0), HTML(value='')))"
      ]
     },
     "metadata": {},
     "output_type": "display_data"
    },
    {
     "name": "stdout",
     "output_type": "stream",
     "text": [
      "\n"
     ]
    },
    {
     "data": {
      "application/vnd.jupyter.widget-view+json": {
       "model_id": "d317379ce6bb46aab3b3bfb091ed7fcc",
       "version_major": 2,
       "version_minor": 0
      },
      "text/plain": [
       "HBox(children=(FloatProgress(value=0.0, description='Stats for original noisy images', max=68.0, style=Progres…"
      ]
     },
     "metadata": {},
     "output_type": "display_data"
    },
    {
     "name": "stdout",
     "output_type": "stream",
     "text": [
      "\n"
     ]
    },
    {
     "data": {
      "application/vnd.jupyter.widget-view+json": {
       "model_id": "8ef7eaf8e21f4bfe96c44d681a8aaf5d",
       "version_major": 2,
       "version_minor": 0
      },
      "text/plain": [
       "HBox(children=(FloatProgress(value=1.0, bar_style='info', max=1.0), HTML(value='')))"
      ]
     },
     "metadata": {},
     "output_type": "display_data"
    },
    {
     "name": "stdout",
     "output_type": "stream",
     "text": [
      "\n"
     ]
    },
    {
     "data": {
      "application/vnd.jupyter.widget-view+json": {
       "model_id": "b5e403622e1a4ea69370a206a8d8511a",
       "version_major": 2,
       "version_minor": 0
      },
      "text/plain": [
       "HBox(children=(FloatProgress(value=0.0, description='Stats for learnlet', max=68.0, style=ProgressStyle(descri…"
      ]
     },
     "metadata": {},
     "output_type": "display_data"
    },
    {
     "name": "stdout",
     "output_type": "stream",
     "text": [
      "\n",
      "\n"
     ]
    }
   ],
   "source": [
    "noise_std_metrics = {}\n",
    "n_samples = None\n",
    "for noise_std in tqdm_notebook(noise_stds, 'Noise stds'):\n",
    "    metrics = []\n",
    "    for net_params in all_net_params:\n",
    "        im_ds = im_dataset_bsd68(\n",
    "            mode='testing', \n",
    "            batch_size=1, \n",
    "            patch_size=None, \n",
    "            noise_std=noise_std, \n",
    "            return_noise_level=False,\n",
    "            n_pooling=5,\n",
    "            n_samples=n_samples,\n",
    "        )\n",
    "        metrics.append((net_params['name'], metrics_from_ds(im_ds, **net_params)))\n",
    "    im_ds = im_dataset_bsd68(\n",
    "        mode='testing', \n",
    "        batch_size=1, \n",
    "        patch_size=None, \n",
    "        noise_std=noise_std, \n",
    "        return_noise_level=False,\n",
    "        n_pooling=5,\n",
    "        n_samples=n_samples,\n",
    "    )\n",
    "    metrics.append(('original', metrics_original_from_ds(im_ds)))\n",
    "        \n",
    "    for net_params in dynamic_denoising_net_params:\n",
    "        im_ds = im_dataset_bsd68(\n",
    "            mode='testing', \n",
    "            batch_size=1, \n",
    "            patch_size=None, \n",
    "            noise_std=noise_std, \n",
    "            return_noise_level=True,\n",
    "            n_pooling=5,\n",
    "            n_samples=n_samples,\n",
    "        )\n",
    "        metrics.append((net_params['name'], metrics_from_ds(im_ds, **net_params)))\n",
    "\n",
    "\n",
    "    noise_std_metrics[noise_std] = metrics"
   ]
  },
  {
   "cell_type": "code",
   "execution_count": 9,
   "metadata": {},
   "outputs": [],
   "source": [
    "noise_std_metrics;"
   ]
  },
  {
   "cell_type": "code",
   "execution_count": 14,
   "metadata": {},
   "outputs": [],
   "source": [
    "BM3D_psnr_results = {\n",
    "    0.0001: 127.0,\n",
    "    5: 37.57,\n",
    "    15: 31.07,\n",
    "    20: 29.60,\n",
    "    25: 28.57,\n",
    "    30: 27.74,\n",
    "    50: 25.62,\n",
    "    55: 25.26,\n",
    "    60: 25.02,\n",
    "    75: 24.21,\n",
    "}\n",
    "\n",
    "wavelets_psnr_results = {\n",
    "    0.0001: (127.3,  0.3614),\n",
    "    5: (35.76,  1.937),\n",
    "    15: (29.56,  2.553),\n",
    "    20: (28.25,  2.645),\n",
    "    25: (27.32,  2.684),\n",
    "    30: (26.61,  2.694),\n",
    "    50: (24.79,  2.673),\n",
    "    55: (24.46, 2.642),\n",
    "    60: (24.18, 2.624),\n",
    "    75: (23.46,  2.574),\n",
    "}"
   ]
  },
  {
   "cell_type": "code",
   "execution_count": 15,
   "metadata": {},
   "outputs": [
    {
     "data": {
      "text/html": [
       "<div>\n",
       "<style scoped>\n",
       "    .dataframe tbody tr th:only-of-type {\n",
       "        vertical-align: middle;\n",
       "    }\n",
       "\n",
       "    .dataframe tbody tr th {\n",
       "        vertical-align: top;\n",
       "    }\n",
       "\n",
       "    .dataframe thead th {\n",
       "        text-align: right;\n",
       "    }\n",
       "</style>\n",
       "<table border=\"1\" class=\"dataframe\">\n",
       "  <thead>\n",
       "    <tr style=\"text-align: right;\">\n",
       "      <th></th>\n",
       "      <th>noise_std</th>\n",
       "      <th>unet-multiple-stds</th>\n",
       "      <th>learnlet</th>\n",
       "      <th>original</th>\n",
       "      <th>wavelets_24</th>\n",
       "      <th>bm3d</th>\n",
       "    </tr>\n",
       "  </thead>\n",
       "  <tbody>\n",
       "    <tr>\n",
       "      <th>0</th>\n",
       "      <td>0.0001</td>\n",
       "      <td>51.88 (3.037)</td>\n",
       "      <td>124.9 (0.2378)</td>\n",
       "      <td>128.1 (0.01528)</td>\n",
       "      <td>127.3 (0.3614)</td>\n",
       "      <td>127.1</td>\n",
       "    </tr>\n",
       "    <tr>\n",
       "      <th>1</th>\n",
       "      <td>5</td>\n",
       "      <td>37.61 (1.853)</td>\n",
       "      <td>36.56 (1.978)</td>\n",
       "      <td>34.15 (0.01634)</td>\n",
       "      <td>35.76 (1.937)</td>\n",
       "      <td>37.57</td>\n",
       "    </tr>\n",
       "    <tr>\n",
       "      <th>2</th>\n",
       "      <td>15</td>\n",
       "      <td>31.59 (2.439)</td>\n",
       "      <td>30.87 (2.412)</td>\n",
       "      <td>24.61 (0.01391)</td>\n",
       "      <td>29.56 (2.553)</td>\n",
       "      <td>31.07</td>\n",
       "    </tr>\n",
       "    <tr>\n",
       "      <th>3</th>\n",
       "      <td>20</td>\n",
       "      <td>30.2 (2.544)</td>\n",
       "      <td>29.53 (2.459)</td>\n",
       "      <td>22.11 (0.0161)</td>\n",
       "      <td>28.25 (2.645)</td>\n",
       "      <td>29.6</td>\n",
       "    </tr>\n",
       "    <tr>\n",
       "      <th>4</th>\n",
       "      <td>25</td>\n",
       "      <td>29.18 (2.619)</td>\n",
       "      <td>28.54 (2.486)</td>\n",
       "      <td>20.17 (0.01689)</td>\n",
       "      <td>27.32 (2.684)</td>\n",
       "      <td>28.57</td>\n",
       "    </tr>\n",
       "    <tr>\n",
       "      <th>5</th>\n",
       "      <td>30</td>\n",
       "      <td>28.38 (2.669)</td>\n",
       "      <td>27.75 (2.48)</td>\n",
       "      <td>18.59 (0.01477)</td>\n",
       "      <td>26.61 (2.694)</td>\n",
       "      <td>27.74</td>\n",
       "    </tr>\n",
       "    <tr>\n",
       "      <th>6</th>\n",
       "      <td>50</td>\n",
       "      <td>26.28 (2.708)</td>\n",
       "      <td>25.59 (2.403)</td>\n",
       "      <td>14.16 (0.01445)</td>\n",
       "      <td>24.79 (2.673)</td>\n",
       "      <td>25.62</td>\n",
       "    </tr>\n",
       "    <tr>\n",
       "      <th>7</th>\n",
       "      <td>55</td>\n",
       "      <td>25.91 (2.71)</td>\n",
       "      <td>25.18 (2.351)</td>\n",
       "      <td>13.32 (0.01744)</td>\n",
       "      <td>24.46 (2.642)</td>\n",
       "      <td>25.26</td>\n",
       "    </tr>\n",
       "    <tr>\n",
       "      <th>8</th>\n",
       "      <td>60</td>\n",
       "      <td>25.45 (2.683)</td>\n",
       "      <td>24.82 (2.327)</td>\n",
       "      <td>12.57 (0.0158)</td>\n",
       "      <td>24.18 (2.624)</td>\n",
       "      <td>NaN</td>\n",
       "    </tr>\n",
       "    <tr>\n",
       "      <th>9</th>\n",
       "      <td>75</td>\n",
       "      <td>22.31 (1.446)</td>\n",
       "      <td>23.87 (2.222)</td>\n",
       "      <td>10.63 (0.01599)</td>\n",
       "      <td>23.46 (2.574)</td>\n",
       "      <td>24.21</td>\n",
       "    </tr>\n",
       "  </tbody>\n",
       "</table>\n",
       "</div>"
      ],
      "text/plain": [
       "  noise_std unet-multiple-stds        learnlet         original  \\\n",
       "0    0.0001      51.88 (3.037)  124.9 (0.2378)  128.1 (0.01528)   \n",
       "1         5      37.61 (1.853)   36.56 (1.978)  34.15 (0.01634)   \n",
       "2        15      31.59 (2.439)   30.87 (2.412)  24.61 (0.01391)   \n",
       "3        20       30.2 (2.544)   29.53 (2.459)   22.11 (0.0161)   \n",
       "4        25      29.18 (2.619)   28.54 (2.486)  20.17 (0.01689)   \n",
       "5        30      28.38 (2.669)    27.75 (2.48)  18.59 (0.01477)   \n",
       "6        50      26.28 (2.708)   25.59 (2.403)  14.16 (0.01445)   \n",
       "7        55       25.91 (2.71)   25.18 (2.351)  13.32 (0.01744)   \n",
       "8        60      25.45 (2.683)   24.82 (2.327)   12.57 (0.0158)   \n",
       "9        75      22.31 (1.446)   23.87 (2.222)  10.63 (0.01599)   \n",
       "\n",
       "      wavelets_24   bm3d  \n",
       "0  127.3 (0.3614)  127.1  \n",
       "1   35.76 (1.937)  37.57  \n",
       "2   29.56 (2.553)  31.07  \n",
       "3   28.25 (2.645)   29.6  \n",
       "4   27.32 (2.684)  28.57  \n",
       "5   26.61 (2.694)  27.74  \n",
       "6   24.79 (2.673)  25.62  \n",
       "7   24.46 (2.642)  25.26  \n",
       "8   24.18 (2.624)    NaN  \n",
       "9   23.46 (2.574)  24.21  "
      ]
     },
     "execution_count": 15,
     "metadata": {},
     "output_type": "execute_result"
    }
   ],
   "source": [
    "# PSNR table\n",
    "psnr_metrics_table = pd.DataFrame(\n",
    "    columns=['noise_std'] + [p['name'] for p in all_net_params] + [p['name'] for p in dynamic_denoising_net_params] + ['original', 'wavelets_24', 'bm3d'],\n",
    ")\n",
    "for i, (noise_std, metrics) in enumerate(noise_std_metrics.items()):\n",
    "    psnr_metrics_table.loc[i, 'noise_std'] = noise_std\n",
    "    for name, m in metrics:\n",
    "        psnr_metrics_table.loc[i, name] = \"{mean:.4} ({std:.4})\".format(\n",
    "            mean=m.metrics['PSNR'].mean(), \n",
    "            std=m.metrics['PSNR'].stddev(),\n",
    "        )\n",
    "    psnr_metrics_table.loc[i, 'bm3d'] = BM3D_psnr_results.get(noise_std, np.nan)\n",
    "    psnr_metrics_table.loc[i, 'wavelets_24'] = \"{mean:.4} ({std:.4})\".format(\n",
    "        mean=wavelets_psnr_results[noise_std][0], \n",
    "        std=wavelets_psnr_results[noise_std][1],\n",
    "    )\n",
    "psnr_metrics_table"
   ]
  },
  {
   "cell_type": "code",
   "execution_count": null,
   "metadata": {},
   "outputs": [],
   "source": [
    "# SSIM table\n",
    "ssim_metrics_table = pd.DataFrame(\n",
    "    columns=['noise_std'] + [p['name'] for p in all_net_params] + [p['name'] for p in dynamic_denoising_net_params] + ['original', 'wavelets_24', 'bm3d'],\n",
    ")\n",
    "for i, (noise_std, metrics) in enumerate(noise_std_metrics.items()):\n",
    "    ssim_metrics_table.loc[i, 'noise_std'] = noise_std\n",
    "    for name, m in metrics:\n",
    "        ssim_metrics_table.loc[i, name] = \"{mean:.4} ({std:.4})\".format(\n",
    "            mean=m.metrics['SSIM'].mean(), \n",
    "            std=m.metrics['SSIM'].stddev(),\n",
    "        )\n",
    "ssim_metrics_table;"
   ]
  },
  {
   "cell_type": "code",
   "execution_count": null,
   "metadata": {},
   "outputs": [],
   "source": [
    "%matplotlib nbagg\n",
    "import matplotlib.pyplot as plt\n",
    "import seaborn as sns"
   ]
  },
  {
   "cell_type": "code",
   "execution_count": null,
   "metadata": {},
   "outputs": [],
   "source": [
    "sns.set(style=\"whitegrid\", palette=\"muted\", rc={'figure.figsize': (9, 5), 'image.cmap': 'gray'})"
   ]
  },
  {
   "cell_type": "code",
   "execution_count": null,
   "metadata": {
    "scrolled": true
   },
   "outputs": [],
   "source": [
    "relative_to_original = True\n",
    "\n",
    "\n",
    "model_family_str = r'$\\bf{Model}$'\n",
    "train_stds_str = r'$\\bf{Train}$  $\\bf{std}$'\n",
    "noise_std_str = r'$\\sigma$'\n",
    "psnr_str = 'PSNR'\n",
    "# PSNR to plot\n",
    "psnr_to_plot = pd.DataFrame(\n",
    "    columns=[noise_std_str, psnr_str, 'model_name', model_family_str, train_stds_str]\n",
    ")\n",
    "\n",
    "def from_name_to_family(model_name):\n",
    "    if 'learnlet' in model_name:\n",
    "        return 'Learnlets'\n",
    "    elif 'unet' in model_name:\n",
    "        return 'U-net'\n",
    "    elif 'bm3d' in model_name:\n",
    "        return 'BM3D'\n",
    "    elif 'wavelets' in model_name:\n",
    "        return 'Wavelets'\n",
    "    else:\n",
    "        return 'Original'\n",
    "    \n",
    "def from_name_to_train_stds(model_name):\n",
    "    if '30' in model_name:\n",
    "        return '30'\n",
    "    elif '20_40' in model_name:\n",
    "        return '[20; 40]'\n",
    "    else:\n",
    "        return '[0; 55]'\n",
    "\n",
    "family_model_to_color = {\n",
    "    'U-net': 'C0',\n",
    "    'Learnlets': 'C1',\n",
    "    'BM3D': 'C2',\n",
    "    'Wavelets': 'C3',\n",
    "}\n",
    "index = 0\n",
    "orig_psnrs = {}\n",
    "for i_noise, (noise_std, metrics) in enumerate(noise_std_metrics.items()):\n",
    "    for j_model, (name, m) in enumerate(metrics):\n",
    "        if relative_to_original and name == 'original':\n",
    "            orig_psnrs[noise_std] = m.metrics['PSNR'].mean()\n",
    "        else:\n",
    "            psnr_to_plot.loc[index, noise_std_str] = noise_std\n",
    "            psnr_to_plot.loc[index, psnr_str] = m.metrics['PSNR'].mean()\n",
    "            psnr_to_plot.loc[index, 'model_name'] = name\n",
    "            psnr_to_plot.loc[index, train_stds_str] = from_name_to_train_stds(name)\n",
    "            psnr_to_plot.loc[index, model_family_str] = from_name_to_family(name)\n",
    "            index += 1\n",
    "    name = 'bm3d'\n",
    "    psnr_to_plot.loc[index, noise_std_str] = noise_std\n",
    "    psnr_to_plot.loc[index, psnr_str] = BM3D_psnr_results.get(noise_std, np.nan)\n",
    "    psnr_to_plot.loc[index, 'model_name'] = name\n",
    "    psnr_to_plot.loc[index, train_stds_str] = from_name_to_train_stds(name)\n",
    "    psnr_to_plot.loc[index, model_family_str] = from_name_to_family(name)\n",
    "    index += 1\n",
    "    name = 'wavelets_24'\n",
    "    psnr_to_plot.loc[index, noise_std_str] = noise_std\n",
    "    psnr_to_plot.loc[index, psnr_str] = wavelets_psnr_results.get(noise_std, [np.nan]*2)[0]\n",
    "    psnr_to_plot.loc[index, 'model_name'] = name\n",
    "    psnr_to_plot.loc[index, train_stds_str] = from_name_to_train_stds(name)\n",
    "    psnr_to_plot.loc[index, model_family_str] = from_name_to_family(name)\n",
    "    index += 1\n",
    "\n",
    "if relative_to_original:\n",
    "    for noise_std, orig_psnr in orig_psnrs.items():\n",
    "        psnr_to_plot.loc[psnr_to_plot[noise_std_str] == noise_std, psnr_str] = psnr_to_plot[psnr_to_plot[noise_std_str] == noise_std][psnr_str] / orig_psnr\n",
    "    \n",
    "psnr_to_plot"
   ]
  },
  {
   "cell_type": "code",
   "execution_count": null,
   "metadata": {
    "scrolled": false
   },
   "outputs": [],
   "source": [
    "plt.figure()\n",
    "psnr_to_plot[psnr_str] = psnr_to_plot[psnr_str].astype(float)\n",
    "lplot = sns.lineplot(\n",
    "    x=noise_std_str, \n",
    "    y=psnr_str, \n",
    "    hue=model_family_str,\n",
    "    data=psnr_to_plot,\n",
    "    palette=family_model_to_color,\n",
    ")\n",
    "plt.legend(bbox_to_anchor=(0., 1.01, 1., .05), loc='center', borderaxespad=0., ncol=5, fontsize=13.35)\n",
    "plt.tight_layout()\n",
    "plt.savefig(f'gen_wo_error_bars.png')"
   ]
  },
  {
   "cell_type": "code",
   "execution_count": null,
   "metadata": {},
   "outputs": [],
   "source": []
  }
 ],
 "metadata": {
  "kernelspec": {
   "display_name": "Python 3",
   "language": "python",
   "name": "python3"
  },
  "language_info": {
   "codemirror_mode": {
    "name": "ipython",
    "version": 3
   },
   "file_extension": ".py",
   "mimetype": "text/x-python",
   "name": "python",
   "nbconvert_exporter": "python",
   "pygments_lexer": "ipython3",
   "version": "3.6.8"
  },
  "notify_time": "30"
 },
 "nbformat": 4,
 "nbformat_minor": 2
}
