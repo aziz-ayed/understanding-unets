{
 "cells": [
  {
   "cell_type": "code",
   "execution_count": 1,
   "metadata": {},
   "outputs": [
    {
     "name": "stdout",
     "output_type": "stream",
     "text": [
      "/volatile/home/Zaccharie/workspace/understanding-unets\n"
     ]
    }
   ],
   "source": [
    "%cd ../.."
   ]
  },
  {
   "cell_type": "code",
   "execution_count": 2,
   "metadata": {},
   "outputs": [],
   "source": [
    "# # this just to make sure we are using only on CPU\n",
    "# import os\n",
    "# os.environ[\"CUDA_VISIBLE_DEVICES\"]=\"-1\""
   ]
  },
  {
   "cell_type": "code",
   "execution_count": 3,
   "metadata": {},
   "outputs": [
    {
     "name": "stdout",
     "output_type": "stream",
     "text": [
      "\n",
      "                 .|'''|       /.\\      '||'''|,\n",
      "                 ||          // \\\\      ||   ||\n",
      "'||''|, '||  ||` `|'''|,    //...\\\\     ||...|'\n",
      " ||  ||  `|..||   .   ||   //     \\\\    ||\n",
      " ||..|'      ||   |...|' .//       \\\\. .||\n",
      " ||       ,  |'\n",
      ".||        ''\n",
      "\n",
      "Package version: 0.0.3\n",
      "\n",
      "License: CeCILL-B\n",
      "\n",
      "Authors: \n",
      "\n",
      "Antoine Grigis <antoine.grigis@cea.fr>\n",
      "Samuel Farrens <samuel.farrens@cea.fr>\n",
      "Jean-Luc Starck <jl.stark@cea.fr>\n",
      "Philippe Ciuciu <philippe.ciuciu@cea.fr>\n",
      "\n",
      "Dependencies: \n",
      "\n",
      "scipy          : >=1.3.0   - required | 1.4.1     installed\n",
      "numpy          : >=1.16.4  - required | 1.17.4    installed\n",
      "matplotlib     : >=3.0.0   - required | 3.1.2     installed\n",
      "astropy        : >=3.0.0   - required | 3.2.3     installed\n",
      "nibabel        : >=2.3.2   - required | 2.5.1     installed\n",
      "pyqtgraph      : >=0.10.0  - required | 0.10.0    installed\n",
      "progressbar2   : >=3.34.3  - required | ?         installed\n",
      "modopt         : >=1.4.0   - required | 1.4.1     installed\n",
      "scikit-learn   : >=0.19.1  - required | ?         installed\n",
      "pywt           : >=1.0.0   - required | 1.1.1     installed\n",
      "pysparse       : >=0.0.1   - required | 0.1.0     installed\n",
      "\n"
     ]
    }
   ],
   "source": [
    "%load_ext autoreload\n",
    "%autoreload 2\n",
    "import copy\n",
    "import time\n",
    "\n",
    "import numpy as np\n",
    "import pandas as pd\n",
    "from tqdm import tqdm_notebook\n",
    "\n",
    "from learning_wavelets.data.datasets import im_dataset_bsd68\n",
    "from learning_wavelets.models.learnlet_model import Learnlet\n",
    "from learning_wavelets.utils.metrics import metrics_from_ds, metrics_original_from_ds"
   ]
  },
  {
   "cell_type": "code",
   "execution_count": 4,
   "metadata": {},
   "outputs": [],
   "source": [
    "np.random.seed(0)"
   ]
  },
  {
   "cell_type": "code",
   "execution_count": 5,
   "metadata": {
    "code_folding": []
   },
   "outputs": [],
   "source": [
    "all_net_params = [\n",
    "]\n",
    "\n",
    "def build_learnlet_subclassing(**run_params):\n",
    "    model = Learnlet(**run_params)\n",
    "    model.build([[None, None, None, 1], [None, 1]])\n",
    "    return model\n",
    "\n",
    "dynamic_denoising_net_params = [\n",
    "    {\n",
    "        'name': 'learnlet_0_55_no_exact_reco',\n",
    "        'init_function': build_learnlet_subclassing,\n",
    "        'run_params': {\n",
    "            'denoising_activation': 'dynamic_soft_thresholding',\n",
    "            'learnlet_analysis_kwargs':{\n",
    "                'n_tiling': 64, \n",
    "                'mixing_details': False,    \n",
    "                'skip_connection': True,\n",
    "                'kernel_size': 11,\n",
    "            },\n",
    "            'learnlet_synthesis_kwargs': {\n",
    "                'res': True,\n",
    "                'kernel_size': 13,\n",
    "            },\n",
    "            'threshold_kwargs':{\n",
    "                'noise_std_norm': True,\n",
    "            },\n",
    "            'n_scales': 5,\n",
    "            'exact_reconstruction': False,\n",
    "            'n_reweights_learn': 1,\n",
    "            'undecimated': True,\n",
    "            'clip': False,\n",
    "        },\n",
    "        'run_id': 'learnlet_subclassed_undecimated_64_dynamic_soft_thresholding_bsd500_0.0_55.0_None_1582899694',\n",
    "        'epoch': 100,\n",
    "    },\n",
    "    {\n",
    "        'name': 'learnlet_0_55_reweight',\n",
    "        'init_function': build_learnlet_subclassing,\n",
    "        'run_params': {\n",
    "            'denoising_activation': 'dynamic_soft_thresholding',\n",
    "            'learnlet_analysis_kwargs':{\n",
    "                'n_tiling': 64, \n",
    "                'mixing_details': False,    \n",
    "                'skip_connection': True,\n",
    "                'kernel_size': 11,\n",
    "            },\n",
    "            'learnlet_synthesis_kwargs': {\n",
    "                'res': True,\n",
    "                'kernel_size': 13,\n",
    "            },\n",
    "            'threshold_kwargs':{\n",
    "                'noise_std_norm': True,\n",
    "            },\n",
    "            'n_scales': 5,\n",
    "            'exact_reconstruction': True,\n",
    "            'n_reweights_learn': 1,\n",
    "            'undecimated': True,\n",
    "            'clip': False,\n",
    "        },\n",
    "        'run_id': 'learnlet_subclassed_undecimated_exact_reco_64_dynamic_soft_thresholding_bsd500_0.0_55.0_None_1582907244',\n",
    "        'epoch': 100,\n",
    "    },  \n",
    "]"
   ]
  },
  {
   "cell_type": "code",
   "execution_count": 6,
   "metadata": {},
   "outputs": [],
   "source": [
    "noise_stds = [0.0001, 5, 15, 20, 25, 30, 50, 55, 60, 75]\n",
    "# noise_stds = [15, 20, 30]\n",
    "# noise_stds = [0.0001]"
   ]
  },
  {
   "cell_type": "code",
   "execution_count": 7,
   "metadata": {
    "code_folding": [],
    "scrolled": true
   },
   "outputs": [
    {
     "name": "stderr",
     "output_type": "stream",
     "text": [
      "/volatile/home/Zaccharie/workspace/understanding-unets/venv/lib/python3.6/site-packages/ipykernel_launcher.py:3: TqdmDeprecationWarning: This function will be removed in tqdm==5.0.0\n",
      "Please use `tqdm.notebook.tqdm` instead of `tqdm.tqdm_notebook`\n",
      "  This is separate from the ipykernel package so we can avoid doing imports until\n"
     ]
    },
    {
     "data": {
      "application/vnd.jupyter.widget-view+json": {
       "model_id": "45c9d4b88f6b44bab40c112cf4c107e1",
       "version_major": 2,
       "version_minor": 0
      },
      "text/plain": [
       "HBox(children=(FloatProgress(value=0.0, description='Noise stds', max=10.0, style=ProgressStyle(description_wi…"
      ]
     },
     "metadata": {},
     "output_type": "display_data"
    },
    {
     "data": {
      "application/vnd.jupyter.widget-view+json": {
       "model_id": "47531588a5bc430c8ff4ea7fecfa4c19",
       "version_major": 2,
       "version_minor": 0
      },
      "text/plain": [
       "HBox(children=(FloatProgress(value=1.0, bar_style='info', max=1.0), HTML(value='')))"
      ]
     },
     "metadata": {},
     "output_type": "display_data"
    },
    {
     "name": "stdout",
     "output_type": "stream",
     "text": [
      "\n"
     ]
    },
    {
     "data": {
      "application/vnd.jupyter.widget-view+json": {
       "model_id": "7a9af610eb8f47028c253c74ead748fc",
       "version_major": 2,
       "version_minor": 0
      },
      "text/plain": [
       "HBox(children=(FloatProgress(value=0.0, description='Stats for original noisy images', max=68.0, style=Progres…"
      ]
     },
     "metadata": {},
     "output_type": "display_data"
    },
    {
     "name": "stderr",
     "output_type": "stream",
     "text": [
      "/volatile/home/Zaccharie/workspace/understanding-unets/learning_wavelets/evaluate.py:34: UserWarning: DEPRECATED: skimage.measure.compare_psnr has been moved to skimage.metrics.peak_signal_noise_ratio. It will be removed from skimage.measure in version 0.18.\n",
      "  return compare_psnr(gt, pred, data_range=1)\n",
      "/volatile/home/Zaccharie/workspace/understanding-unets/learning_wavelets/evaluate.py:43: UserWarning: DEPRECATED: skimage.measure.compare_ssim has been moved to skimage.metrics.structural_similarity. It will be removed from skimage.measure in version 0.18.\n",
      "  gt, pred, multichannel=True, data_range=1\n"
     ]
    },
    {
     "name": "stdout",
     "output_type": "stream",
     "text": [
      "\n"
     ]
    },
    {
     "data": {
      "application/vnd.jupyter.widget-view+json": {
       "model_id": "e5aab73b517f41a2aa3f6c060cf9f819",
       "version_major": 2,
       "version_minor": 0
      },
      "text/plain": [
       "HBox(children=(FloatProgress(value=1.0, bar_style='info', max=1.0), HTML(value='')))"
      ]
     },
     "metadata": {},
     "output_type": "display_data"
    },
    {
     "name": "stdout",
     "output_type": "stream",
     "text": [
      "\n"
     ]
    },
    {
     "data": {
      "application/vnd.jupyter.widget-view+json": {
       "model_id": "af28098416cc404cbd528cda4814fb65",
       "version_major": 2,
       "version_minor": 0
      },
      "text/plain": [
       "HBox(children=(FloatProgress(value=0.0, description='Stats for learnlet_0_55_no_exact_reco', max=68.0, style=P…"
      ]
     },
     "metadata": {},
     "output_type": "display_data"
    },
    {
     "name": "stdout",
     "output_type": "stream",
     "text": [
      "\n"
     ]
    },
    {
     "data": {
      "application/vnd.jupyter.widget-view+json": {
       "model_id": "7c1f2abeb99d4da6840020fe0a677d08",
       "version_major": 2,
       "version_minor": 0
      },
      "text/plain": [
       "HBox(children=(FloatProgress(value=1.0, bar_style='info', max=1.0), HTML(value='')))"
      ]
     },
     "metadata": {},
     "output_type": "display_data"
    },
    {
     "name": "stdout",
     "output_type": "stream",
     "text": [
      "\n"
     ]
    },
    {
     "data": {
      "application/vnd.jupyter.widget-view+json": {
       "model_id": "2f6457621c6b44c79f2bc7f9c7f399a8",
       "version_major": 2,
       "version_minor": 0
      },
      "text/plain": [
       "HBox(children=(FloatProgress(value=0.0, description='Stats for learnlet_0_55_reweight', max=68.0, style=Progre…"
      ]
     },
     "metadata": {},
     "output_type": "display_data"
    },
    {
     "name": "stdout",
     "output_type": "stream",
     "text": [
      "\n"
     ]
    },
    {
     "data": {
      "application/vnd.jupyter.widget-view+json": {
       "model_id": "a2691b4a129a44668bf5b32b94a2f173",
       "version_major": 2,
       "version_minor": 0
      },
      "text/plain": [
       "HBox(children=(FloatProgress(value=1.0, bar_style='info', max=1.0), HTML(value='')))"
      ]
     },
     "metadata": {},
     "output_type": "display_data"
    },
    {
     "name": "stdout",
     "output_type": "stream",
     "text": [
      "\n"
     ]
    },
    {
     "data": {
      "application/vnd.jupyter.widget-view+json": {
       "model_id": "c3b65bcadc01472cadd9dabe57bc7cf9",
       "version_major": 2,
       "version_minor": 0
      },
      "text/plain": [
       "HBox(children=(FloatProgress(value=0.0, description='Stats for original noisy images', max=68.0, style=Progres…"
      ]
     },
     "metadata": {},
     "output_type": "display_data"
    },
    {
     "name": "stdout",
     "output_type": "stream",
     "text": [
      "\n"
     ]
    },
    {
     "data": {
      "application/vnd.jupyter.widget-view+json": {
       "model_id": "811341765e164371a38af59ee7896575",
       "version_major": 2,
       "version_minor": 0
      },
      "text/plain": [
       "HBox(children=(FloatProgress(value=1.0, bar_style='info', max=1.0), HTML(value='')))"
      ]
     },
     "metadata": {},
     "output_type": "display_data"
    },
    {
     "name": "stdout",
     "output_type": "stream",
     "text": [
      "\n"
     ]
    },
    {
     "data": {
      "application/vnd.jupyter.widget-view+json": {
       "model_id": "4b4ed099c187462a958cb8c4fa98baec",
       "version_major": 2,
       "version_minor": 0
      },
      "text/plain": [
       "HBox(children=(FloatProgress(value=0.0, description='Stats for learnlet_0_55_no_exact_reco', max=68.0, style=P…"
      ]
     },
     "metadata": {},
     "output_type": "display_data"
    },
    {
     "name": "stdout",
     "output_type": "stream",
     "text": [
      "\n"
     ]
    },
    {
     "data": {
      "application/vnd.jupyter.widget-view+json": {
       "model_id": "09ac2c2a9c48419fb66c4a42ec1dc66b",
       "version_major": 2,
       "version_minor": 0
      },
      "text/plain": [
       "HBox(children=(FloatProgress(value=1.0, bar_style='info', max=1.0), HTML(value='')))"
      ]
     },
     "metadata": {},
     "output_type": "display_data"
    },
    {
     "name": "stdout",
     "output_type": "stream",
     "text": [
      "\n"
     ]
    },
    {
     "data": {
      "application/vnd.jupyter.widget-view+json": {
       "model_id": "cacc99004c334cb3913397c677259f8f",
       "version_major": 2,
       "version_minor": 0
      },
      "text/plain": [
       "HBox(children=(FloatProgress(value=0.0, description='Stats for learnlet_0_55_reweight', max=68.0, style=Progre…"
      ]
     },
     "metadata": {},
     "output_type": "display_data"
    },
    {
     "name": "stdout",
     "output_type": "stream",
     "text": [
      "\n"
     ]
    },
    {
     "data": {
      "application/vnd.jupyter.widget-view+json": {
       "model_id": "f491cfbdde724c73bf1e54606306d49f",
       "version_major": 2,
       "version_minor": 0
      },
      "text/plain": [
       "HBox(children=(FloatProgress(value=1.0, bar_style='info', max=1.0), HTML(value='')))"
      ]
     },
     "metadata": {},
     "output_type": "display_data"
    },
    {
     "name": "stdout",
     "output_type": "stream",
     "text": [
      "\n"
     ]
    },
    {
     "data": {
      "application/vnd.jupyter.widget-view+json": {
       "model_id": "eb57933049f84f19a196d06e03609a73",
       "version_major": 2,
       "version_minor": 0
      },
      "text/plain": [
       "HBox(children=(FloatProgress(value=0.0, description='Stats for original noisy images', max=68.0, style=Progres…"
      ]
     },
     "metadata": {},
     "output_type": "display_data"
    },
    {
     "name": "stdout",
     "output_type": "stream",
     "text": [
      "\n"
     ]
    },
    {
     "data": {
      "application/vnd.jupyter.widget-view+json": {
       "model_id": "519c528bbbbd4fa48ea18bd07a1edd5f",
       "version_major": 2,
       "version_minor": 0
      },
      "text/plain": [
       "HBox(children=(FloatProgress(value=1.0, bar_style='info', max=1.0), HTML(value='')))"
      ]
     },
     "metadata": {},
     "output_type": "display_data"
    },
    {
     "name": "stdout",
     "output_type": "stream",
     "text": [
      "\n"
     ]
    },
    {
     "data": {
      "application/vnd.jupyter.widget-view+json": {
       "model_id": "25696f10caf04cab8897f2c3cd1dcf91",
       "version_major": 2,
       "version_minor": 0
      },
      "text/plain": [
       "HBox(children=(FloatProgress(value=0.0, description='Stats for learnlet_0_55_no_exact_reco', max=68.0, style=P…"
      ]
     },
     "metadata": {},
     "output_type": "display_data"
    },
    {
     "name": "stdout",
     "output_type": "stream",
     "text": [
      "\n"
     ]
    },
    {
     "data": {
      "application/vnd.jupyter.widget-view+json": {
       "model_id": "33683b453ef64b148d7083a1edb60ea1",
       "version_major": 2,
       "version_minor": 0
      },
      "text/plain": [
       "HBox(children=(FloatProgress(value=1.0, bar_style='info', max=1.0), HTML(value='')))"
      ]
     },
     "metadata": {},
     "output_type": "display_data"
    },
    {
     "name": "stdout",
     "output_type": "stream",
     "text": [
      "\n"
     ]
    },
    {
     "data": {
      "application/vnd.jupyter.widget-view+json": {
       "model_id": "e0f99b257af04296bca46d4cd12a1019",
       "version_major": 2,
       "version_minor": 0
      },
      "text/plain": [
       "HBox(children=(FloatProgress(value=0.0, description='Stats for learnlet_0_55_reweight', max=68.0, style=Progre…"
      ]
     },
     "metadata": {},
     "output_type": "display_data"
    },
    {
     "name": "stdout",
     "output_type": "stream",
     "text": [
      "\n"
     ]
    },
    {
     "data": {
      "application/vnd.jupyter.widget-view+json": {
       "model_id": "d97e544db67f448b9b7fb90295836b9a",
       "version_major": 2,
       "version_minor": 0
      },
      "text/plain": [
       "HBox(children=(FloatProgress(value=1.0, bar_style='info', max=1.0), HTML(value='')))"
      ]
     },
     "metadata": {},
     "output_type": "display_data"
    },
    {
     "name": "stdout",
     "output_type": "stream",
     "text": [
      "\n"
     ]
    },
    {
     "data": {
      "application/vnd.jupyter.widget-view+json": {
       "model_id": "5733b53a53f24dcd9257d2402ccc858e",
       "version_major": 2,
       "version_minor": 0
      },
      "text/plain": [
       "HBox(children=(FloatProgress(value=0.0, description='Stats for original noisy images', max=68.0, style=Progres…"
      ]
     },
     "metadata": {},
     "output_type": "display_data"
    },
    {
     "name": "stdout",
     "output_type": "stream",
     "text": [
      "\n"
     ]
    },
    {
     "data": {
      "application/vnd.jupyter.widget-view+json": {
       "model_id": "1c0d78404715489fa19c635b98ce0bcc",
       "version_major": 2,
       "version_minor": 0
      },
      "text/plain": [
       "HBox(children=(FloatProgress(value=1.0, bar_style='info', max=1.0), HTML(value='')))"
      ]
     },
     "metadata": {},
     "output_type": "display_data"
    },
    {
     "name": "stdout",
     "output_type": "stream",
     "text": [
      "\n"
     ]
    },
    {
     "data": {
      "application/vnd.jupyter.widget-view+json": {
       "model_id": "296ad5bbcb494c9ba5069f4041220773",
       "version_major": 2,
       "version_minor": 0
      },
      "text/plain": [
       "HBox(children=(FloatProgress(value=0.0, description='Stats for learnlet_0_55_no_exact_reco', max=68.0, style=P…"
      ]
     },
     "metadata": {},
     "output_type": "display_data"
    },
    {
     "name": "stdout",
     "output_type": "stream",
     "text": [
      "\n"
     ]
    },
    {
     "data": {
      "application/vnd.jupyter.widget-view+json": {
       "model_id": "a0349652685c45e78fe7dc5c7582691f",
       "version_major": 2,
       "version_minor": 0
      },
      "text/plain": [
       "HBox(children=(FloatProgress(value=1.0, bar_style='info', max=1.0), HTML(value='')))"
      ]
     },
     "metadata": {},
     "output_type": "display_data"
    },
    {
     "name": "stdout",
     "output_type": "stream",
     "text": [
      "\n"
     ]
    },
    {
     "data": {
      "application/vnd.jupyter.widget-view+json": {
       "model_id": "598777cf1ab844978e637bcde5cf1cb4",
       "version_major": 2,
       "version_minor": 0
      },
      "text/plain": [
       "HBox(children=(FloatProgress(value=0.0, description='Stats for learnlet_0_55_reweight', max=68.0, style=Progre…"
      ]
     },
     "metadata": {},
     "output_type": "display_data"
    },
    {
     "name": "stdout",
     "output_type": "stream",
     "text": [
      "\n"
     ]
    },
    {
     "data": {
      "application/vnd.jupyter.widget-view+json": {
       "model_id": "5b70b0fb59154ced914890201329c5a9",
       "version_major": 2,
       "version_minor": 0
      },
      "text/plain": [
       "HBox(children=(FloatProgress(value=1.0, bar_style='info', max=1.0), HTML(value='')))"
      ]
     },
     "metadata": {},
     "output_type": "display_data"
    },
    {
     "name": "stdout",
     "output_type": "stream",
     "text": [
      "\n"
     ]
    },
    {
     "data": {
      "application/vnd.jupyter.widget-view+json": {
       "model_id": "89a6166d2ad143f9bef84b510d8e9bd9",
       "version_major": 2,
       "version_minor": 0
      },
      "text/plain": [
       "HBox(children=(FloatProgress(value=0.0, description='Stats for original noisy images', max=68.0, style=Progres…"
      ]
     },
     "metadata": {},
     "output_type": "display_data"
    },
    {
     "name": "stdout",
     "output_type": "stream",
     "text": [
      "\n"
     ]
    },
    {
     "data": {
      "application/vnd.jupyter.widget-view+json": {
       "model_id": "63c850c0218148b9b3c50fd6e073a68a",
       "version_major": 2,
       "version_minor": 0
      },
      "text/plain": [
       "HBox(children=(FloatProgress(value=1.0, bar_style='info', max=1.0), HTML(value='')))"
      ]
     },
     "metadata": {},
     "output_type": "display_data"
    },
    {
     "name": "stdout",
     "output_type": "stream",
     "text": [
      "\n"
     ]
    },
    {
     "data": {
      "application/vnd.jupyter.widget-view+json": {
       "model_id": "586e819238ed4d0f859a491e72d220af",
       "version_major": 2,
       "version_minor": 0
      },
      "text/plain": [
       "HBox(children=(FloatProgress(value=0.0, description='Stats for learnlet_0_55_no_exact_reco', max=68.0, style=P…"
      ]
     },
     "metadata": {},
     "output_type": "display_data"
    },
    {
     "name": "stdout",
     "output_type": "stream",
     "text": [
      "\n"
     ]
    },
    {
     "data": {
      "application/vnd.jupyter.widget-view+json": {
       "model_id": "aae1554803cd4b528d7a900c284cde8c",
       "version_major": 2,
       "version_minor": 0
      },
      "text/plain": [
       "HBox(children=(FloatProgress(value=1.0, bar_style='info', max=1.0), HTML(value='')))"
      ]
     },
     "metadata": {},
     "output_type": "display_data"
    },
    {
     "name": "stdout",
     "output_type": "stream",
     "text": [
      "\n"
     ]
    },
    {
     "data": {
      "application/vnd.jupyter.widget-view+json": {
       "model_id": "0dff773ac05146d598722a4a99b2463b",
       "version_major": 2,
       "version_minor": 0
      },
      "text/plain": [
       "HBox(children=(FloatProgress(value=0.0, description='Stats for learnlet_0_55_reweight', max=68.0, style=Progre…"
      ]
     },
     "metadata": {},
     "output_type": "display_data"
    },
    {
     "name": "stdout",
     "output_type": "stream",
     "text": [
      "\n"
     ]
    },
    {
     "data": {
      "application/vnd.jupyter.widget-view+json": {
       "model_id": "b3e79b8112ca4d3988382ebe9be2869a",
       "version_major": 2,
       "version_minor": 0
      },
      "text/plain": [
       "HBox(children=(FloatProgress(value=1.0, bar_style='info', max=1.0), HTML(value='')))"
      ]
     },
     "metadata": {},
     "output_type": "display_data"
    },
    {
     "name": "stdout",
     "output_type": "stream",
     "text": [
      "\n"
     ]
    },
    {
     "data": {
      "application/vnd.jupyter.widget-view+json": {
       "model_id": "fce6a4c7c040488aa2eb4ba1756e757d",
       "version_major": 2,
       "version_minor": 0
      },
      "text/plain": [
       "HBox(children=(FloatProgress(value=0.0, description='Stats for original noisy images', max=68.0, style=Progres…"
      ]
     },
     "metadata": {},
     "output_type": "display_data"
    },
    {
     "name": "stdout",
     "output_type": "stream",
     "text": [
      "\n"
     ]
    },
    {
     "data": {
      "application/vnd.jupyter.widget-view+json": {
       "model_id": "5dc31ca7161543e69ed51e76c4d77221",
       "version_major": 2,
       "version_minor": 0
      },
      "text/plain": [
       "HBox(children=(FloatProgress(value=1.0, bar_style='info', max=1.0), HTML(value='')))"
      ]
     },
     "metadata": {},
     "output_type": "display_data"
    },
    {
     "name": "stdout",
     "output_type": "stream",
     "text": [
      "\n"
     ]
    },
    {
     "data": {
      "application/vnd.jupyter.widget-view+json": {
       "model_id": "3cd7a8180e464320b80660b66a64db99",
       "version_major": 2,
       "version_minor": 0
      },
      "text/plain": [
       "HBox(children=(FloatProgress(value=0.0, description='Stats for learnlet_0_55_no_exact_reco', max=68.0, style=P…"
      ]
     },
     "metadata": {},
     "output_type": "display_data"
    },
    {
     "name": "stdout",
     "output_type": "stream",
     "text": [
      "\n"
     ]
    },
    {
     "data": {
      "application/vnd.jupyter.widget-view+json": {
       "model_id": "ff2830e5780042e68a1af08d827d1397",
       "version_major": 2,
       "version_minor": 0
      },
      "text/plain": [
       "HBox(children=(FloatProgress(value=1.0, bar_style='info', max=1.0), HTML(value='')))"
      ]
     },
     "metadata": {},
     "output_type": "display_data"
    },
    {
     "name": "stdout",
     "output_type": "stream",
     "text": [
      "\n"
     ]
    },
    {
     "data": {
      "application/vnd.jupyter.widget-view+json": {
       "model_id": "dc508bd5c0ef4fcfbd9ebc5890077706",
       "version_major": 2,
       "version_minor": 0
      },
      "text/plain": [
       "HBox(children=(FloatProgress(value=0.0, description='Stats for learnlet_0_55_reweight', max=68.0, style=Progre…"
      ]
     },
     "metadata": {},
     "output_type": "display_data"
    },
    {
     "name": "stdout",
     "output_type": "stream",
     "text": [
      "\n"
     ]
    },
    {
     "data": {
      "application/vnd.jupyter.widget-view+json": {
       "model_id": "999bdb930128402cab57eb840c726626",
       "version_major": 2,
       "version_minor": 0
      },
      "text/plain": [
       "HBox(children=(FloatProgress(value=1.0, bar_style='info', max=1.0), HTML(value='')))"
      ]
     },
     "metadata": {},
     "output_type": "display_data"
    },
    {
     "name": "stdout",
     "output_type": "stream",
     "text": [
      "\n"
     ]
    },
    {
     "data": {
      "application/vnd.jupyter.widget-view+json": {
       "model_id": "529c239980d04616becd8092f92eb74f",
       "version_major": 2,
       "version_minor": 0
      },
      "text/plain": [
       "HBox(children=(FloatProgress(value=0.0, description='Stats for original noisy images', max=68.0, style=Progres…"
      ]
     },
     "metadata": {},
     "output_type": "display_data"
    },
    {
     "name": "stdout",
     "output_type": "stream",
     "text": [
      "\n"
     ]
    },
    {
     "data": {
      "application/vnd.jupyter.widget-view+json": {
       "model_id": "f0c64514dc8641dda4d53d9726a46355",
       "version_major": 2,
       "version_minor": 0
      },
      "text/plain": [
       "HBox(children=(FloatProgress(value=1.0, bar_style='info', max=1.0), HTML(value='')))"
      ]
     },
     "metadata": {},
     "output_type": "display_data"
    },
    {
     "name": "stdout",
     "output_type": "stream",
     "text": [
      "\n"
     ]
    },
    {
     "data": {
      "application/vnd.jupyter.widget-view+json": {
       "model_id": "4e432245050c4645aaa5c1a6e7c519f0",
       "version_major": 2,
       "version_minor": 0
      },
      "text/plain": [
       "HBox(children=(FloatProgress(value=0.0, description='Stats for learnlet_0_55_no_exact_reco', max=68.0, style=P…"
      ]
     },
     "metadata": {},
     "output_type": "display_data"
    },
    {
     "name": "stdout",
     "output_type": "stream",
     "text": [
      "\n"
     ]
    },
    {
     "data": {
      "application/vnd.jupyter.widget-view+json": {
       "model_id": "f86e7c72237d4b84bb8882811276f797",
       "version_major": 2,
       "version_minor": 0
      },
      "text/plain": [
       "HBox(children=(FloatProgress(value=1.0, bar_style='info', max=1.0), HTML(value='')))"
      ]
     },
     "metadata": {},
     "output_type": "display_data"
    },
    {
     "name": "stdout",
     "output_type": "stream",
     "text": [
      "\n"
     ]
    },
    {
     "data": {
      "application/vnd.jupyter.widget-view+json": {
       "model_id": "19628a751c094bdda1889091264a3fed",
       "version_major": 2,
       "version_minor": 0
      },
      "text/plain": [
       "HBox(children=(FloatProgress(value=0.0, description='Stats for learnlet_0_55_reweight', max=68.0, style=Progre…"
      ]
     },
     "metadata": {},
     "output_type": "display_data"
    },
    {
     "name": "stdout",
     "output_type": "stream",
     "text": [
      "\n"
     ]
    },
    {
     "data": {
      "application/vnd.jupyter.widget-view+json": {
       "model_id": "88a1c8951ef047ef9d58eca9f098fb3b",
       "version_major": 2,
       "version_minor": 0
      },
      "text/plain": [
       "HBox(children=(FloatProgress(value=1.0, bar_style='info', max=1.0), HTML(value='')))"
      ]
     },
     "metadata": {},
     "output_type": "display_data"
    },
    {
     "name": "stdout",
     "output_type": "stream",
     "text": [
      "\n"
     ]
    },
    {
     "data": {
      "application/vnd.jupyter.widget-view+json": {
       "model_id": "60b44ff79914491489ebe07d77304b62",
       "version_major": 2,
       "version_minor": 0
      },
      "text/plain": [
       "HBox(children=(FloatProgress(value=0.0, description='Stats for original noisy images', max=68.0, style=Progres…"
      ]
     },
     "metadata": {},
     "output_type": "display_data"
    },
    {
     "name": "stdout",
     "output_type": "stream",
     "text": [
      "\n"
     ]
    },
    {
     "data": {
      "application/vnd.jupyter.widget-view+json": {
       "model_id": "d894bd60308e4c7385cfbd0c9984f594",
       "version_major": 2,
       "version_minor": 0
      },
      "text/plain": [
       "HBox(children=(FloatProgress(value=1.0, bar_style='info', max=1.0), HTML(value='')))"
      ]
     },
     "metadata": {},
     "output_type": "display_data"
    },
    {
     "name": "stdout",
     "output_type": "stream",
     "text": [
      "\n"
     ]
    },
    {
     "data": {
      "application/vnd.jupyter.widget-view+json": {
       "model_id": "a541c9117d934edca8a339c9b8a383f7",
       "version_major": 2,
       "version_minor": 0
      },
      "text/plain": [
       "HBox(children=(FloatProgress(value=0.0, description='Stats for learnlet_0_55_no_exact_reco', max=68.0, style=P…"
      ]
     },
     "metadata": {},
     "output_type": "display_data"
    },
    {
     "name": "stdout",
     "output_type": "stream",
     "text": [
      "\n"
     ]
    },
    {
     "data": {
      "application/vnd.jupyter.widget-view+json": {
       "model_id": "ad130c3868d3455f9f60d130ccdb7985",
       "version_major": 2,
       "version_minor": 0
      },
      "text/plain": [
       "HBox(children=(FloatProgress(value=1.0, bar_style='info', max=1.0), HTML(value='')))"
      ]
     },
     "metadata": {},
     "output_type": "display_data"
    },
    {
     "name": "stdout",
     "output_type": "stream",
     "text": [
      "\n"
     ]
    },
    {
     "data": {
      "application/vnd.jupyter.widget-view+json": {
       "model_id": "899ebb7dd159441f82ad33f950afdeb3",
       "version_major": 2,
       "version_minor": 0
      },
      "text/plain": [
       "HBox(children=(FloatProgress(value=0.0, description='Stats for learnlet_0_55_reweight', max=68.0, style=Progre…"
      ]
     },
     "metadata": {},
     "output_type": "display_data"
    },
    {
     "name": "stdout",
     "output_type": "stream",
     "text": [
      "\n"
     ]
    },
    {
     "data": {
      "application/vnd.jupyter.widget-view+json": {
       "model_id": "d50b22ac31ed436dadf0599d3a846403",
       "version_major": 2,
       "version_minor": 0
      },
      "text/plain": [
       "HBox(children=(FloatProgress(value=1.0, bar_style='info', max=1.0), HTML(value='')))"
      ]
     },
     "metadata": {},
     "output_type": "display_data"
    },
    {
     "name": "stdout",
     "output_type": "stream",
     "text": [
      "\n"
     ]
    },
    {
     "data": {
      "application/vnd.jupyter.widget-view+json": {
       "model_id": "6adc482f038444bc9eb5f8a182852359",
       "version_major": 2,
       "version_minor": 0
      },
      "text/plain": [
       "HBox(children=(FloatProgress(value=0.0, description='Stats for original noisy images', max=68.0, style=Progres…"
      ]
     },
     "metadata": {},
     "output_type": "display_data"
    },
    {
     "name": "stdout",
     "output_type": "stream",
     "text": [
      "\n"
     ]
    },
    {
     "data": {
      "application/vnd.jupyter.widget-view+json": {
       "model_id": "0d4828e48c19496d853d5602ea0906c6",
       "version_major": 2,
       "version_minor": 0
      },
      "text/plain": [
       "HBox(children=(FloatProgress(value=1.0, bar_style='info', max=1.0), HTML(value='')))"
      ]
     },
     "metadata": {},
     "output_type": "display_data"
    },
    {
     "name": "stdout",
     "output_type": "stream",
     "text": [
      "\n"
     ]
    },
    {
     "data": {
      "application/vnd.jupyter.widget-view+json": {
       "model_id": "2c78b1df49f94b16afd47c162bde8ca7",
       "version_major": 2,
       "version_minor": 0
      },
      "text/plain": [
       "HBox(children=(FloatProgress(value=0.0, description='Stats for learnlet_0_55_no_exact_reco', max=68.0, style=P…"
      ]
     },
     "metadata": {},
     "output_type": "display_data"
    },
    {
     "name": "stdout",
     "output_type": "stream",
     "text": [
      "\n"
     ]
    },
    {
     "data": {
      "application/vnd.jupyter.widget-view+json": {
       "model_id": "7b5616e866a44ab8aca485bda3b65662",
       "version_major": 2,
       "version_minor": 0
      },
      "text/plain": [
       "HBox(children=(FloatProgress(value=1.0, bar_style='info', max=1.0), HTML(value='')))"
      ]
     },
     "metadata": {},
     "output_type": "display_data"
    },
    {
     "name": "stdout",
     "output_type": "stream",
     "text": [
      "\n"
     ]
    },
    {
     "data": {
      "application/vnd.jupyter.widget-view+json": {
       "model_id": "96e6b08a48634de6bf1ab13154f96dad",
       "version_major": 2,
       "version_minor": 0
      },
      "text/plain": [
       "HBox(children=(FloatProgress(value=0.0, description='Stats for learnlet_0_55_reweight', max=68.0, style=Progre…"
      ]
     },
     "metadata": {},
     "output_type": "display_data"
    },
    {
     "name": "stdout",
     "output_type": "stream",
     "text": [
      "\n"
     ]
    },
    {
     "data": {
      "application/vnd.jupyter.widget-view+json": {
       "model_id": "c801df5e982e434b9cc68ea2535b6d49",
       "version_major": 2,
       "version_minor": 0
      },
      "text/plain": [
       "HBox(children=(FloatProgress(value=1.0, bar_style='info', max=1.0), HTML(value='')))"
      ]
     },
     "metadata": {},
     "output_type": "display_data"
    },
    {
     "name": "stdout",
     "output_type": "stream",
     "text": [
      "\n"
     ]
    },
    {
     "data": {
      "application/vnd.jupyter.widget-view+json": {
       "model_id": "730f196ba54c4d919950f543f2f02b4e",
       "version_major": 2,
       "version_minor": 0
      },
      "text/plain": [
       "HBox(children=(FloatProgress(value=0.0, description='Stats for original noisy images', max=68.0, style=Progres…"
      ]
     },
     "metadata": {},
     "output_type": "display_data"
    },
    {
     "name": "stdout",
     "output_type": "stream",
     "text": [
      "\n"
     ]
    },
    {
     "data": {
      "application/vnd.jupyter.widget-view+json": {
       "model_id": "34e5b70b75d449e2ae3ddc59bd3812cd",
       "version_major": 2,
       "version_minor": 0
      },
      "text/plain": [
       "HBox(children=(FloatProgress(value=1.0, bar_style='info', max=1.0), HTML(value='')))"
      ]
     },
     "metadata": {},
     "output_type": "display_data"
    },
    {
     "name": "stdout",
     "output_type": "stream",
     "text": [
      "\n"
     ]
    },
    {
     "data": {
      "application/vnd.jupyter.widget-view+json": {
       "model_id": "514780ac1b414134baa62777c5501f23",
       "version_major": 2,
       "version_minor": 0
      },
      "text/plain": [
       "HBox(children=(FloatProgress(value=0.0, description='Stats for learnlet_0_55_no_exact_reco', max=68.0, style=P…"
      ]
     },
     "metadata": {},
     "output_type": "display_data"
    },
    {
     "name": "stdout",
     "output_type": "stream",
     "text": [
      "\n"
     ]
    },
    {
     "data": {
      "application/vnd.jupyter.widget-view+json": {
       "model_id": "9f91b16f5ae3469a8cf4f5a02848af7c",
       "version_major": 2,
       "version_minor": 0
      },
      "text/plain": [
       "HBox(children=(FloatProgress(value=1.0, bar_style='info', max=1.0), HTML(value='')))"
      ]
     },
     "metadata": {},
     "output_type": "display_data"
    },
    {
     "name": "stdout",
     "output_type": "stream",
     "text": [
      "\n"
     ]
    },
    {
     "data": {
      "application/vnd.jupyter.widget-view+json": {
       "model_id": "2a91e5bc73424cbfbd08d5f8ca68173e",
       "version_major": 2,
       "version_minor": 0
      },
      "text/plain": [
       "HBox(children=(FloatProgress(value=0.0, description='Stats for learnlet_0_55_reweight', max=68.0, style=Progre…"
      ]
     },
     "metadata": {},
     "output_type": "display_data"
    },
    {
     "name": "stdout",
     "output_type": "stream",
     "text": [
      "\n",
      "\n"
     ]
    }
   ],
   "source": [
    "noise_std_metrics = {}\n",
    "n_samples = None\n",
    "for noise_std in tqdm_notebook(noise_stds, 'Noise stds'):\n",
    "    metrics = []\n",
    "    for net_params in all_net_params:\n",
    "        im_ds = im_dataset_bsd68(\n",
    "            mode='testing', \n",
    "            batch_size=1, \n",
    "            patch_size=None, \n",
    "            noise_std=noise_std, \n",
    "            return_noise_level=False,\n",
    "            n_pooling=5,\n",
    "            n_samples=n_samples,\n",
    "        )\n",
    "        metrics.append((net_params['name'], metrics_from_ds(im_ds, **net_params)))\n",
    "    im_ds = im_dataset_bsd68(\n",
    "        mode='testing', \n",
    "        batch_size=1, \n",
    "        patch_size=None, \n",
    "        noise_std=noise_std, \n",
    "        return_noise_level=False,\n",
    "        n_pooling=5,\n",
    "        n_samples=n_samples,\n",
    "    )\n",
    "    metrics.append(('original', metrics_original_from_ds(im_ds)))\n",
    "        \n",
    "    for net_params in dynamic_denoising_net_params:\n",
    "        im_ds = im_dataset_bsd68(\n",
    "            mode='testing', \n",
    "            batch_size=1, \n",
    "            patch_size=None, \n",
    "            noise_std=noise_std, \n",
    "            return_noise_level=True,\n",
    "            n_pooling=5,\n",
    "            n_samples=n_samples,\n",
    "        )\n",
    "        metrics.append((net_params['name'], metrics_from_ds(im_ds, **net_params)))\n",
    "\n",
    "#     metrics.append(('bm3d', metrics_bm3d(im_gen_test)))\n",
    "#     metrics.append(('wavelets_24', metrics_wavelets(im_gen_test, '24', noise_std=noise_std)))\n",
    "#     metrics.sort(key=lambda x: x[1].metrics['PSNR'].mean())\n",
    "    noise_std_metrics[noise_std] = metrics"
   ]
  },
  {
   "cell_type": "code",
   "execution_count": 14,
   "metadata": {},
   "outputs": [
    {
     "data": {
      "text/html": [
       "<div>\n",
       "<style scoped>\n",
       "    .dataframe tbody tr th:only-of-type {\n",
       "        vertical-align: middle;\n",
       "    }\n",
       "\n",
       "    .dataframe tbody tr th {\n",
       "        vertical-align: top;\n",
       "    }\n",
       "\n",
       "    .dataframe thead th {\n",
       "        text-align: right;\n",
       "    }\n",
       "</style>\n",
       "<table border=\"1\" class=\"dataframe\">\n",
       "  <thead>\n",
       "    <tr style=\"text-align: right;\">\n",
       "      <th></th>\n",
       "      <th>noise_std</th>\n",
       "      <th>learnlet_0_55_no_exact_reco</th>\n",
       "      <th>learnlet_0_55_reweight</th>\n",
       "      <th>original</th>\n",
       "    </tr>\n",
       "  </thead>\n",
       "  <tbody>\n",
       "    <tr>\n",
       "      <th>0</th>\n",
       "      <td>0.0001</td>\n",
       "      <td>40.35 (3.7)</td>\n",
       "      <td>124.9 (0.24)</td>\n",
       "      <td>128.1 (0.017)</td>\n",
       "    </tr>\n",
       "    <tr>\n",
       "      <th>1</th>\n",
       "      <td>5</td>\n",
       "      <td>36.32 (1.9)</td>\n",
       "      <td>36.56 (2.0)</td>\n",
       "      <td>34.15 (0.015)</td>\n",
       "    </tr>\n",
       "    <tr>\n",
       "      <th>2</th>\n",
       "      <td>15</td>\n",
       "      <td>30.82 (2.4)</td>\n",
       "      <td>30.86 (2.4)</td>\n",
       "      <td>24.61 (0.019)</td>\n",
       "    </tr>\n",
       "    <tr>\n",
       "      <th>3</th>\n",
       "      <td>20</td>\n",
       "      <td>29.5 (2.5)</td>\n",
       "      <td>29.54 (2.5)</td>\n",
       "      <td>22.11 (0.016)</td>\n",
       "    </tr>\n",
       "    <tr>\n",
       "      <th>4</th>\n",
       "      <td>25</td>\n",
       "      <td>28.51 (2.5)</td>\n",
       "      <td>28.54 (2.5)</td>\n",
       "      <td>20.17 (0.015)</td>\n",
       "    </tr>\n",
       "    <tr>\n",
       "      <th>5</th>\n",
       "      <td>30</td>\n",
       "      <td>27.72 (2.5)</td>\n",
       "      <td>27.75 (2.5)</td>\n",
       "      <td>18.59 (0.016)</td>\n",
       "    </tr>\n",
       "    <tr>\n",
       "      <th>6</th>\n",
       "      <td>50</td>\n",
       "      <td>25.57 (2.4)</td>\n",
       "      <td>25.57 (2.4)</td>\n",
       "      <td>14.15 (0.016)</td>\n",
       "    </tr>\n",
       "    <tr>\n",
       "      <th>7</th>\n",
       "      <td>55</td>\n",
       "      <td>25.19 (2.4)</td>\n",
       "      <td>25.17 (2.3)</td>\n",
       "      <td>13.32 (0.016)</td>\n",
       "    </tr>\n",
       "    <tr>\n",
       "      <th>8</th>\n",
       "      <td>60</td>\n",
       "      <td>24.82 (2.3)</td>\n",
       "      <td>24.81 (2.3)</td>\n",
       "      <td>12.57 (0.012)</td>\n",
       "    </tr>\n",
       "    <tr>\n",
       "      <th>9</th>\n",
       "      <td>75</td>\n",
       "      <td>23.91 (2.2)</td>\n",
       "      <td>23.88 (2.2)</td>\n",
       "      <td>10.63 (0.016)</td>\n",
       "    </tr>\n",
       "  </tbody>\n",
       "</table>\n",
       "</div>"
      ],
      "text/plain": [
       "  noise_std learnlet_0_55_no_exact_reco learnlet_0_55_reweight       original\n",
       "0    0.0001                 40.35 (3.7)           124.9 (0.24)  128.1 (0.017)\n",
       "1         5                 36.32 (1.9)            36.56 (2.0)  34.15 (0.015)\n",
       "2        15                 30.82 (2.4)            30.86 (2.4)  24.61 (0.019)\n",
       "3        20                  29.5 (2.5)            29.54 (2.5)  22.11 (0.016)\n",
       "4        25                 28.51 (2.5)            28.54 (2.5)  20.17 (0.015)\n",
       "5        30                 27.72 (2.5)            27.75 (2.5)  18.59 (0.016)\n",
       "6        50                 25.57 (2.4)            25.57 (2.4)  14.15 (0.016)\n",
       "7        55                 25.19 (2.4)            25.17 (2.3)  13.32 (0.016)\n",
       "8        60                 24.82 (2.3)            24.81 (2.3)  12.57 (0.012)\n",
       "9        75                 23.91 (2.2)            23.88 (2.2)  10.63 (0.016)"
      ]
     },
     "execution_count": 14,
     "metadata": {},
     "output_type": "execute_result"
    }
   ],
   "source": [
    "# PSNR table\n",
    "psnr_metrics_table = pd.DataFrame(\n",
    "    columns=['noise_std'] + [p['name'] for p in all_net_params] + [p['name'] for p in dynamic_denoising_net_params] + ['original'],\n",
    ")\n",
    "for i, (noise_std, metrics) in enumerate(noise_std_metrics.items()):\n",
    "    psnr_metrics_table.loc[i, 'noise_std'] = noise_std\n",
    "    for name, m in metrics:\n",
    "        psnr_metrics_table.loc[i, name] = \"{mean:.4} ({std:.2})\".format(\n",
    "            mean=m.metrics['PSNR'].mean(), \n",
    "            std=m.metrics['PSNR'].stddev(),\n",
    "        )\n",
    "psnr_metrics_table"
   ]
  },
  {
   "cell_type": "code",
   "execution_count": 9,
   "metadata": {},
   "outputs": [],
   "source": [
    "# SSIM table\n",
    "ssim_metrics_table = pd.DataFrame(\n",
    "    columns=['noise_std'] + [p['name'] for p in all_net_params] + [p['name'] for p in dynamic_denoising_net_params] + ['original', 'wavelets_24', 'bm3d'],\n",
    ")\n",
    "for i, (noise_std, metrics) in enumerate(noise_std_metrics.items()):\n",
    "    ssim_metrics_table.loc[i, 'noise_std'] = noise_std\n",
    "    for name, m in metrics:\n",
    "        ssim_metrics_table.loc[i, name] = \"{mean:.4} ({std:.4})\".format(\n",
    "            mean=m.metrics['SSIM'].mean(), \n",
    "            std=m.metrics['SSIM'].stddev(),\n",
    "        )\n",
    "ssim_metrics_table;"
   ]
  },
  {
   "cell_type": "code",
   "execution_count": 10,
   "metadata": {},
   "outputs": [],
   "source": [
    "%matplotlib inline\n",
    "import matplotlib.pyplot as plt\n",
    "import seaborn as sns"
   ]
  },
  {
   "cell_type": "code",
   "execution_count": 11,
   "metadata": {},
   "outputs": [],
   "source": [
    "sns.set(style=\"whitegrid\", palette=\"muted\", rc={'figure.figsize': (9, 5), 'image.cmap': 'gray'})"
   ]
  },
  {
   "cell_type": "code",
   "execution_count": 12,
   "metadata": {
    "scrolled": false
   },
   "outputs": [
    {
     "data": {
      "text/html": [
       "<div>\n",
       "<style scoped>\n",
       "    .dataframe tbody tr th:only-of-type {\n",
       "        vertical-align: middle;\n",
       "    }\n",
       "\n",
       "    .dataframe tbody tr th {\n",
       "        vertical-align: top;\n",
       "    }\n",
       "\n",
       "    .dataframe thead th {\n",
       "        text-align: right;\n",
       "    }\n",
       "</style>\n",
       "<table border=\"1\" class=\"dataframe\">\n",
       "  <thead>\n",
       "    <tr style=\"text-align: right;\">\n",
       "      <th></th>\n",
       "      <th>$\\sigma$</th>\n",
       "      <th>Ratio over original PSNR</th>\n",
       "      <th>psnr-std-dev</th>\n",
       "      <th>model_name</th>\n",
       "      <th>$\\bf{Learnlets}$</th>\n",
       "    </tr>\n",
       "  </thead>\n",
       "  <tbody>\n",
       "    <tr>\n",
       "      <th>0</th>\n",
       "      <td>0.0001</td>\n",
       "      <td>0.314956</td>\n",
       "      <td>1.8518</td>\n",
       "      <td>learnlet_0_55_no_exact_reco</td>\n",
       "      <td>no Exact reconstruction</td>\n",
       "    </tr>\n",
       "    <tr>\n",
       "      <th>1</th>\n",
       "      <td>0.0001</td>\n",
       "      <td>0.974546</td>\n",
       "      <td>0.119737</td>\n",
       "      <td>learnlet_0_55_reweight</td>\n",
       "      <td>Exact reconstruction</td>\n",
       "    </tr>\n",
       "    <tr>\n",
       "      <th>2</th>\n",
       "      <td>5</td>\n",
       "      <td>1.06362</td>\n",
       "      <td>0.968172</td>\n",
       "      <td>learnlet_0_55_no_exact_reco</td>\n",
       "      <td>no Exact reconstruction</td>\n",
       "    </tr>\n",
       "    <tr>\n",
       "      <th>3</th>\n",
       "      <td>5</td>\n",
       "      <td>1.07057</td>\n",
       "      <td>0.987687</td>\n",
       "      <td>learnlet_0_55_reweight</td>\n",
       "      <td>Exact reconstruction</td>\n",
       "    </tr>\n",
       "    <tr>\n",
       "      <th>4</th>\n",
       "      <td>15</td>\n",
       "      <td>1.25243</td>\n",
       "      <td>1.19349</td>\n",
       "      <td>learnlet_0_55_no_exact_reco</td>\n",
       "      <td>no Exact reconstruction</td>\n",
       "    </tr>\n",
       "    <tr>\n",
       "      <th>5</th>\n",
       "      <td>15</td>\n",
       "      <td>1.25411</td>\n",
       "      <td>1.20526</td>\n",
       "      <td>learnlet_0_55_reweight</td>\n",
       "      <td>Exact reconstruction</td>\n",
       "    </tr>\n",
       "    <tr>\n",
       "      <th>6</th>\n",
       "      <td>20</td>\n",
       "      <td>1.33397</td>\n",
       "      <td>1.23655</td>\n",
       "      <td>learnlet_0_55_no_exact_reco</td>\n",
       "      <td>no Exact reconstruction</td>\n",
       "    </tr>\n",
       "    <tr>\n",
       "      <th>7</th>\n",
       "      <td>20</td>\n",
       "      <td>1.33587</td>\n",
       "      <td>1.23438</td>\n",
       "      <td>learnlet_0_55_reweight</td>\n",
       "      <td>Exact reconstruction</td>\n",
       "    </tr>\n",
       "    <tr>\n",
       "      <th>8</th>\n",
       "      <td>25</td>\n",
       "      <td>1.41326</td>\n",
       "      <td>1.24531</td>\n",
       "      <td>learnlet_0_55_no_exact_reco</td>\n",
       "      <td>no Exact reconstruction</td>\n",
       "    </tr>\n",
       "    <tr>\n",
       "      <th>9</th>\n",
       "      <td>25</td>\n",
       "      <td>1.41499</td>\n",
       "      <td>1.24066</td>\n",
       "      <td>learnlet_0_55_reweight</td>\n",
       "      <td>Exact reconstruction</td>\n",
       "    </tr>\n",
       "    <tr>\n",
       "      <th>10</th>\n",
       "      <td>30</td>\n",
       "      <td>1.491</td>\n",
       "      <td>1.24201</td>\n",
       "      <td>learnlet_0_55_no_exact_reco</td>\n",
       "      <td>no Exact reconstruction</td>\n",
       "    </tr>\n",
       "    <tr>\n",
       "      <th>11</th>\n",
       "      <td>30</td>\n",
       "      <td>1.49283</td>\n",
       "      <td>1.23961</td>\n",
       "      <td>learnlet_0_55_reweight</td>\n",
       "      <td>Exact reconstruction</td>\n",
       "    </tr>\n",
       "    <tr>\n",
       "      <th>12</th>\n",
       "      <td>50</td>\n",
       "      <td>1.80697</td>\n",
       "      <td>1.19794</td>\n",
       "      <td>learnlet_0_55_no_exact_reco</td>\n",
       "      <td>no Exact reconstruction</td>\n",
       "    </tr>\n",
       "    <tr>\n",
       "      <th>13</th>\n",
       "      <td>50</td>\n",
       "      <td>1.80655</td>\n",
       "      <td>1.19402</td>\n",
       "      <td>learnlet_0_55_reweight</td>\n",
       "      <td>Exact reconstruction</td>\n",
       "    </tr>\n",
       "    <tr>\n",
       "      <th>14</th>\n",
       "      <td>55</td>\n",
       "      <td>1.89058</td>\n",
       "      <td>1.1935</td>\n",
       "      <td>learnlet_0_55_no_exact_reco</td>\n",
       "      <td>no Exact reconstruction</td>\n",
       "    </tr>\n",
       "    <tr>\n",
       "      <th>15</th>\n",
       "      <td>55</td>\n",
       "      <td>1.88896</td>\n",
       "      <td>1.17395</td>\n",
       "      <td>learnlet_0_55_reweight</td>\n",
       "      <td>Exact reconstruction</td>\n",
       "    </tr>\n",
       "    <tr>\n",
       "      <th>16</th>\n",
       "      <td>60</td>\n",
       "      <td>1.97498</td>\n",
       "      <td>1.16542</td>\n",
       "      <td>learnlet_0_55_no_exact_reco</td>\n",
       "      <td>no Exact reconstruction</td>\n",
       "    </tr>\n",
       "    <tr>\n",
       "      <th>17</th>\n",
       "      <td>60</td>\n",
       "      <td>1.97385</td>\n",
       "      <td>1.15946</td>\n",
       "      <td>learnlet_0_55_reweight</td>\n",
       "      <td>Exact reconstruction</td>\n",
       "    </tr>\n",
       "    <tr>\n",
       "      <th>18</th>\n",
       "      <td>75</td>\n",
       "      <td>2.24927</td>\n",
       "      <td>1.1172</td>\n",
       "      <td>learnlet_0_55_no_exact_reco</td>\n",
       "      <td>no Exact reconstruction</td>\n",
       "    </tr>\n",
       "    <tr>\n",
       "      <th>19</th>\n",
       "      <td>75</td>\n",
       "      <td>2.24683</td>\n",
       "      <td>1.10919</td>\n",
       "      <td>learnlet_0_55_reweight</td>\n",
       "      <td>Exact reconstruction</td>\n",
       "    </tr>\n",
       "  </tbody>\n",
       "</table>\n",
       "</div>"
      ],
      "text/plain": [
       "   $\\sigma$ Ratio over original PSNR psnr-std-dev  \\\n",
       "0    0.0001                 0.314956       1.8518   \n",
       "1    0.0001                 0.974546     0.119737   \n",
       "2         5                  1.06362     0.968172   \n",
       "3         5                  1.07057     0.987687   \n",
       "4        15                  1.25243      1.19349   \n",
       "5        15                  1.25411      1.20526   \n",
       "6        20                  1.33397      1.23655   \n",
       "7        20                  1.33587      1.23438   \n",
       "8        25                  1.41326      1.24531   \n",
       "9        25                  1.41499      1.24066   \n",
       "10       30                    1.491      1.24201   \n",
       "11       30                  1.49283      1.23961   \n",
       "12       50                  1.80697      1.19794   \n",
       "13       50                  1.80655      1.19402   \n",
       "14       55                  1.89058       1.1935   \n",
       "15       55                  1.88896      1.17395   \n",
       "16       60                  1.97498      1.16542   \n",
       "17       60                  1.97385      1.15946   \n",
       "18       75                  2.24927       1.1172   \n",
       "19       75                  2.24683      1.10919   \n",
       "\n",
       "                     model_name         $\\bf{Learnlets}$  \n",
       "0   learnlet_0_55_no_exact_reco  no Exact reconstruction  \n",
       "1        learnlet_0_55_reweight     Exact reconstruction  \n",
       "2   learnlet_0_55_no_exact_reco  no Exact reconstruction  \n",
       "3        learnlet_0_55_reweight     Exact reconstruction  \n",
       "4   learnlet_0_55_no_exact_reco  no Exact reconstruction  \n",
       "5        learnlet_0_55_reweight     Exact reconstruction  \n",
       "6   learnlet_0_55_no_exact_reco  no Exact reconstruction  \n",
       "7        learnlet_0_55_reweight     Exact reconstruction  \n",
       "8   learnlet_0_55_no_exact_reco  no Exact reconstruction  \n",
       "9        learnlet_0_55_reweight     Exact reconstruction  \n",
       "10  learnlet_0_55_no_exact_reco  no Exact reconstruction  \n",
       "11       learnlet_0_55_reweight     Exact reconstruction  \n",
       "12  learnlet_0_55_no_exact_reco  no Exact reconstruction  \n",
       "13       learnlet_0_55_reweight     Exact reconstruction  \n",
       "14  learnlet_0_55_no_exact_reco  no Exact reconstruction  \n",
       "15       learnlet_0_55_reweight     Exact reconstruction  \n",
       "16  learnlet_0_55_no_exact_reco  no Exact reconstruction  \n",
       "17       learnlet_0_55_reweight     Exact reconstruction  \n",
       "18  learnlet_0_55_no_exact_reco  no Exact reconstruction  \n",
       "19       learnlet_0_55_reweight     Exact reconstruction  "
      ]
     },
     "execution_count": 12,
     "metadata": {},
     "output_type": "execute_result"
    }
   ],
   "source": [
    "relative_to_original = True\n",
    "\n",
    "model_family_str = r'$\\bf{Learnlets}$'\n",
    "noise_std_str = r'$\\sigma$'\n",
    "psnr_str = 'Ratio over original PSNR'\n",
    "# PSNR to plot\n",
    "psnr_to_plot = pd.DataFrame(\n",
    "    columns=[noise_std_str, psnr_str, 'psnr-std-dev', 'model_name', model_family_str]\n",
    ")\n",
    "\n",
    "def from_name_to_exact_reco(model_name):\n",
    "    if 'no_exact_reco' in model_name:\n",
    "        return 'no Exact reconstruction'\n",
    "    else:\n",
    "        return 'Exact reconstruction'\n",
    "\n",
    "index = 0\n",
    "orig_psnrs = {}\n",
    "for i_noise, (noise_std, metrics) in enumerate(noise_std_metrics.items()):\n",
    "    for j_model, (name, m) in enumerate(metrics):\n",
    "        if relative_to_original and name == 'original':\n",
    "            orig_psnrs[noise_std] = m.metrics['PSNR'].mean()\n",
    "        else:\n",
    "            psnr_to_plot.loc[index, noise_std_str] = noise_std\n",
    "            psnr_to_plot.loc[index, psnr_str] = m.metrics['PSNR'].mean()\n",
    "            psnr_to_plot.loc[index, 'psnr-std-dev'] = m.metrics['PSNR'].stddev() / 2\n",
    "            psnr_to_plot.loc[index, 'model_name'] = name\n",
    "            psnr_to_plot.loc[index, model_family_str] = from_name_to_exact_reco(name)\n",
    "            index += 1    \n",
    "\n",
    "if relative_to_original:\n",
    "    for noise_std, orig_psnr in orig_psnrs.items():\n",
    "        psnr_to_plot.loc[psnr_to_plot[noise_std_str] == noise_std, psnr_str] = psnr_to_plot[psnr_to_plot[noise_std_str] == noise_std][psnr_str] / orig_psnr\n",
    "    \n",
    "psnr_to_plot"
   ]
  },
  {
   "cell_type": "code",
   "execution_count": 13,
   "metadata": {
    "scrolled": false
   },
   "outputs": [
    {
     "data": {
      "image/png": "[encoded data removed]",
      "text/plain": [
       "<Figure size 648x360 with 1 Axes>"
      ]
     },
     "metadata": {},
     "output_type": "display_data"
    }
   ],
   "source": [
    "plt.figure()\n",
    "psnr_to_plot[psnr_str] = psnr_to_plot[psnr_str].astype(float)\n",
    "lplot = sns.lineplot(\n",
    "    x=noise_std_str, \n",
    "    y=psnr_str, \n",
    "    style=model_family_str,\n",
    "    data=psnr_to_plot,\n",
    "    color='C1',\n",
    ")\n",
    "plt.legend(bbox_to_anchor=(0., 1.02, 1., .05), loc='center', borderaxespad=0., ncol=3, fontsize=13.35)\n",
    "plt.tight_layout()\n",
    "plt.savefig(f'gen_wo_error_bars_exact_recon.png')"
   ]
  },
  {
   "cell_type": "code",
   "execution_count": null,
   "metadata": {},
   "outputs": [],
   "source": []
  }
 ],
 "metadata": {
  "kernelspec": {
   "display_name": "Python 3",
   "language": "python",
   "name": "python3"
  },
  "language_info": {
   "codemirror_mode": {
    "name": "ipython",
    "version": 3
   },
   "file_extension": ".py",
   "mimetype": "text/x-python",
   "name": "python",
   "nbconvert_exporter": "python",
   "pygments_lexer": "ipython3",
   "version": "3.6.8"
  },
  "notify_time": "30"
 },
 "nbformat": 4,
 "nbformat_minor": 2
}
