{
 "cells": [
  {
   "cell_type": "code",
   "execution_count": 1,
   "metadata": {},
   "outputs": [
    {
     "name": "stdout",
     "output_type": "stream",
     "text": [
      "/volatile/home/Zaccharie/workspace/understanding-unets\n"
     ]
    }
   ],
   "source": [
    "%cd ../.."
   ]
  },
  {
   "cell_type": "code",
   "execution_count": 2,
   "metadata": {},
   "outputs": [],
   "source": [
    "%matplotlib inline\n",
    "import matplotlib.pyplot as plt\n",
    "import numpy as np\n",
    "import tensorflow as tf\n",
    "\n",
    "from learning_wavelets.data.datasets import im_dataset_bsd68\n",
    "from learning_wavelets.image_utils import trim_padding\n",
    "from learning_wavelets.keras_utils.load_model import unpack_model\n",
    "from learning_wavelets.models.learnlet_model import Learnlet\n",
    "from learning_wavelets.models.unet import unet"
   ]
  },
  {
   "cell_type": "code",
   "execution_count": 3,
   "metadata": {},
   "outputs": [],
   "source": [
    "im_shape = (64, 64)\n",
    "plt.rcParams['figure.figsize'] = tuple(x//8 for x in im_shape)\n",
    "plt.rcParams['image.cmap'] = 'gray'"
   ]
  },
  {
   "cell_type": "code",
   "execution_count": 4,
   "metadata": {},
   "outputs": [],
   "source": [
    "tf.random.set_seed(0)"
   ]
  },
  {
   "cell_type": "code",
   "execution_count": 5,
   "metadata": {},
   "outputs": [],
   "source": [
    "def build_learnlet_subclassing(**run_params):\n",
    "    model = Learnlet(**run_params)\n",
    "    model.build([[None, None, None, 1], [None, 1]])\n",
    "    return model"
   ]
  },
  {
   "cell_type": "code",
   "execution_count": 6,
   "metadata": {},
   "outputs": [],
   "source": [
    "all_net_params = [\n",
    "    {\n",
    "        'name': 'unet_0_55',\n",
    "        'init_function': unet,\n",
    "        'run_params': {\n",
    "            'n_layers': 5, \n",
    "            'pool': 'max', \n",
    "            \"layers_n_channels\": [64, 128, 256, 512, 1024], \n",
    "            'layers_n_non_lins': 2,\n",
    "            'non_relu_contract': False,\n",
    "            'bn': True,\n",
    "            'input_size': (None, None, 1),\n",
    "        },\n",
    "        'run_id': 'unet_dynamic_st_bsd500_0_55_1576668365',\n",
    "        'epoch': 500,\n",
    "    },\n",
    "]\n",
    "\n",
    "dynamic_denoising_net_params = [\n",
    "{\n",
    "        'name': 'learnlet',\n",
    "        'init_function': build_learnlet_subclassing,\n",
    "        'run_params': {\n",
    "            'denoising_activation': 'dynamic_soft_thresholding',\n",
    "            'learnlet_analysis_kwargs':{\n",
    "                'n_tiling': 64, \n",
    "                'mixing_details': False,    \n",
    "                'skip_connection': True,\n",
    "                'kernel_size': 11,\n",
    "            },\n",
    "            'learnlet_synthesis_kwargs': {\n",
    "                'res': True,\n",
    "                'kernel_size': 13,\n",
    "            },\n",
    "            'threshold_kwargs':{\n",
    "                'noise_std_norm': True,\n",
    "            },\n",
    "            'n_scales': 5,\n",
    "            'exact_reconstruction': True,\n",
    "            'n_reweights_learn': 1,\n",
    "            'undecimated': True,\n",
    "            'clip': False,\n",
    "        },\n",
    "        'run_id': 'learnlet_subclassed_undecimated_exact_reco_64_dynamic_soft_thresholding_bsd500_0.0_55.0_None_1582907244',\n",
    "        'epoch': 100,\n",
    "    },\n",
    "]"
   ]
  },
  {
   "cell_type": "code",
   "execution_count": 7,
   "metadata": {},
   "outputs": [
    {
     "name": "stdout",
     "output_type": "stream",
     "text": [
      "tf.Tensor(40.95352, shape=(), dtype=float32)\n"
     ]
    }
   ],
   "source": [
    "noise_std = [1.]\n",
    "dirac = np.zeros(im_shape, dtype=np.float32)\n",
    "dirac[im_shape[0]//2, im_shape[1]//2] = 255\n",
    "im_gt = tf.convert_to_tensor(dirac)[None, ..., None]\n",
    "tf_noise_std = tf.convert_to_tensor(noise_std)\n",
    "noise = tf.random.normal(im_shape, stddev=tf_noise_std)[None, ..., None]\n",
    "print(tf.reduce_sum(noise))\n",
    "im_noisy = im_gt + noise\n",
    "im_noisy = (im_noisy / 255) - 0.5\n",
    "im_gt = (im_gt / 255) - 0.5\n",
    "tf_noise_std = tf_noise_std[None, ...] / 255"
   ]
  },
  {
   "cell_type": "code",
   "execution_count": 8,
   "metadata": {},
   "outputs": [],
   "source": [
    "unet_model = unpack_model(**all_net_params[0])\n",
    "im_denoised_unet = unet_model(im_noisy)\n",
    "learnlet_model = unpack_model(**dynamic_denoising_net_params[0])\n",
    "im_denoised_learnlet = learnlet_model([im_noisy, tf_noise_std])"
   ]
  },
  {
   "cell_type": "code",
   "execution_count": 9,
   "metadata": {},
   "outputs": [],
   "source": [
    "images_to_plot = {\n",
    "#     'original': im_gt,\n",
    "#     'noisy': im_noisy,\n",
    "    'unet': im_denoised_unet,\n",
    "    'learnlets': im_denoised_learnlet,\n",
    "}"
   ]
  },
  {
   "cell_type": "code",
   "execution_count": 14,
   "metadata": {},
   "outputs": [
    {
     "data": {
      "text/plain": [
       "<tf.Tensor: shape=(), dtype=float32, numpy=0.03762266>"
      ]
     },
     "execution_count": 14,
     "metadata": {},
     "output_type": "execute_result"
    }
   ],
   "source": [
    "tf.reduce_max(im_denoised_unet - im_gt)"
   ]
  },
  {
   "cell_type": "code",
   "execution_count": 16,
   "metadata": {
    "scrolled": false
   },
   "outputs": [
    {
     "data": {
      "image/png": "[encoded data removed]",
      "text/plain": [
       "<Figure size 576x576 with 1 Axes>"
      ]
     },
     "metadata": {
      "needs_background": "light"
     },
     "output_type": "display_data"
    },
    {
     "data": {
      "image/png": "[encoded data removed]",
      "text/plain": [
       "<Figure size 576x576 with 1 Axes>"
      ]
     },
     "metadata": {
      "needs_background": "light"
     },
     "output_type": "display_data"
    }
   ],
   "source": [
    "for name, im in images_to_plot.items():\n",
    "    plt.figure()\n",
    "    im_squeezed = (np.squeeze((im - im_gt).numpy())) * 255\n",
    "    plt.imshow(im_squeezed, vmax=0.03 * 255, vmin=-0.03 * 255, aspect='auto')\n",
    "    plt.axis('off')\n",
    "    plt.title(f'{name} Error')\n",
    "    plt.savefig(f'denoising_dirac_{name}_error.png', bbox_inches='tight')"
   ]
  },
  {
   "cell_type": "code",
   "execution_count": 11,
   "metadata": {
    "scrolled": false
   },
   "outputs": [],
   "source": [
    "# for name, im in images_to_plot.items():\n",
    "#     plt.figure()\n",
    "#     im_squeezed = (np.squeeze(im.numpy()) + 0.5) * 255\n",
    "#     plt.imshow(im_squeezed, vmin=0, vmax=255, aspect='auto')\n",
    "#     plt.axis('off')\n",
    "#     plt.title(f'{name}, with max  {np.max(im_squeezed)}, and sum {np.sum(im_squeezed)}')\n",
    "#     plt.savefig(f'denoising_dirac_{name}.png', bbox_inches='tight')"
   ]
  },
  {
   "cell_type": "code",
   "execution_count": null,
   "metadata": {},
   "outputs": [],
   "source": []
  }
 ],
 "metadata": {
  "kernelspec": {
   "display_name": "Python 3",
   "language": "python",
   "name": "python3"
  },
  "language_info": {
   "codemirror_mode": {
    "name": "ipython",
    "version": 3
   },
   "file_extension": ".py",
   "mimetype": "text/x-python",
   "name": "python",
   "nbconvert_exporter": "python",
   "pygments_lexer": "ipython3",
   "version": "3.6.8"
  }
 },
 "nbformat": 4,
 "nbformat_minor": 2
}
