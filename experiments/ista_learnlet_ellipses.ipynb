{
 "cells": [
  {
   "cell_type": "code",
   "execution_count": 1,
   "metadata": {},
   "outputs": [
    {
     "name": "stdout",
     "output_type": "stream",
     "text": [
      "/home/zaccharie/workspace/understanding-unets\n"
     ]
    }
   ],
   "source": [
    "%cd .."
   ]
  },
  {
   "cell_type": "code",
   "execution_count": 2,
   "metadata": {},
   "outputs": [],
   "source": [
    "import os.path as op\n",
    "import time\n",
    "\n",
    "from tensorflow.keras.callbacks import TensorBoard, ModelCheckpoint, LearningRateScheduler\n",
    "import tensorflow_addons as tfa\n",
    "import tensorflow as tf\n",
    "from tensorflow.keras.optimizers import Adam\n",
    "from tqdm import tqdm_notebook\n",
    "\n",
    "from learning_wavelets.data.toy_datasets import masked_kspace_ellipse_dataset\n",
    "from learning_wavelets.evaluate import keras_psnr, keras_ssim\n",
    "from learning_wavelets.keras_utils.fourier import tf_masked_shifted_normed_fft2d, tf_masked_shifted_normed_ifft2d\n",
    "from learning_wavelets.models.ista import IstaLearnlet"
   ]
  },
  {
   "cell_type": "code",
   "execution_count": 3,
   "metadata": {},
   "outputs": [],
   "source": [
    "im_size = 128\n",
    "af = 1.5\n",
    "kspace_ds_train = masked_kspace_ellipse_dataset(im_size, af=af, batch_size=1)\n",
    "kspace_ds_val = masked_kspace_ellipse_dataset(im_size, af=af)"
   ]
  },
  {
   "cell_type": "code",
   "execution_count": 4,
   "metadata": {},
   "outputs": [],
   "source": [
    "learnlet_params = {\n",
    "    'denoising_activation': 'dynamic_soft_thresholding',\n",
    "    'learnlet_analysis_kwargs':{\n",
    "        'n_tiling': 32, \n",
    "        'mixing_details': False,    \n",
    "        'skip_connection': True,\n",
    "        'kernel_size': 5,\n",
    "    },\n",
    "    'learnlet_synthesis_kwargs': {\n",
    "        'res': True,\n",
    "        'kernel_size': 7,\n",
    "    },\n",
    "    'threshold_kwargs':{\n",
    "        'noise_std_norm': False,\n",
    "    },\n",
    "    'n_scales': 4,\n",
    "    'exact_reconstruction': True,\n",
    "    'undecimated': False,\n",
    "    'clip': False,\n",
    "}\n",
    "\n",
    "model = IstaLearnlet(\n",
    "    n_iterations=10,\n",
    "    forward_operator=tf_masked_shifted_normed_fft2d,\n",
    "    adjoint_operator=tf_masked_shifted_normed_ifft2d,\n",
    "    **learnlet_params,\n",
    ")\n",
    "model.compile(\n",
    "    optimizer=Adam(lr=1e-3),\n",
    "    loss='mse',\n",
    "    metrics=[keras_psnr, keras_ssim,],\n",
    ")"
   ]
  },
  {
   "cell_type": "code",
   "execution_count": 5,
   "metadata": {},
   "outputs": [
    {
     "name": "stdout",
     "output_type": "stream",
     "text": [
      "ista_learnlet_ellipses_1583422610\n"
     ]
    }
   ],
   "source": [
    "n_epochs = 500\n",
    "run_id = f'ista_learnlet_ellipses_{int(time.time())}'\n",
    "chkpt_path = f'checkpoints/{run_id}' + '-{epoch:02d}.hdf5'\n",
    "print(run_id)"
   ]
  },
  {
   "cell_type": "code",
   "execution_count": 6,
   "metadata": {},
   "outputs": [],
   "source": [
    "def l_rate_schedule(epoch):\n",
    "    return max(1e-3 / 2**(epoch//25), 1e-5)\n",
    "lrate_cback = LearningRateScheduler(l_rate_schedule)"
   ]
  },
  {
   "cell_type": "code",
   "execution_count": 7,
   "metadata": {},
   "outputs": [
    {
     "name": "stderr",
     "output_type": "stream",
     "text": [
      "WARNING: Logging before flag parsing goes to stderr.\n",
      "W0305 16:36:50.018442 140518637909760 callbacks.py:886] `period` argument is deprecated. Please use `save_freq` to specify the frequency in number of samples seen.\n"
     ]
    }
   ],
   "source": [
    "chkpt_cback = ModelCheckpoint(chkpt_path, period=n_epochs, save_weights_only=False)\n",
    "log_dir = op.join('logs', run_id)\n",
    "tboard_cback = TensorBoard(\n",
    "    log_dir=log_dir, \n",
    "    histogram_freq=0, \n",
    "    write_graph=False, \n",
    "    write_images=False, \n",
    "    profile_batch=0,\n",
    ")\n",
    "tqdm_cb = tfa.callbacks.TQDMProgressBar(metrics_format=\"{name}: {value:e}\")\n",
    "# val_noisy, val_gt = next(iter(im_ds_val))\n",
    "# tboard_image_cback = TensorBoardImage(\n",
    "#     log_dir=log_dir + '/images',\n",
    "#     image=val_gt[0:1],\n",
    "#     noisy_image=val_noisy[0:1],\n",
    "# )"
   ]
  },
  {
   "cell_type": "code",
   "execution_count": 8,
   "metadata": {
    "scrolled": false
   },
   "outputs": [
    {
     "name": "stdout",
     "output_type": "stream",
     "text": [
      "Train on 1 samples\n"
     ]
    },
    {
     "data": {
      "application/vnd.jupyter.widget-view+json": {
       "model_id": "26a50d489f774b32bad701808172d323",
       "version_major": 2,
       "version_minor": 0
      },
      "text/plain": [
       "HBox(children=(FloatProgress(value=0.0, description='Training', layout=Layout(flex='2'), max=5.0, style=Progre…"
      ]
     },
     "metadata": {},
     "output_type": "display_data"
    },
    {
     "name": "stdout",
     "output_type": "stream",
     "text": [
      "Epoch 1/5\n"
     ]
    },
    {
     "data": {
      "application/vnd.jupyter.widget-view+json": {
       "model_id": "22b86eb0feb5470ba6401049de3d0745",
       "version_major": 2,
       "version_minor": 0
      },
      "text/plain": [
       "HBox(children=(FloatProgress(value=0.0, layout=Layout(flex='2'), max=1.0), HTML(value='')), layout=Layout(disp…"
      ]
     },
     "metadata": {},
     "output_type": "display_data"
    },
    {
     "name": "stdout",
     "output_type": "stream",
     "text": [
      "Epoch 1/5\n",
      "\n",
      "1/1 - 22s - loss: 11.6582 - keras_psnr: -1.0666e+01 - keras_ssim: 0.0401\n",
      "Epoch 2/5\n"
     ]
    },
    {
     "data": {
      "application/vnd.jupyter.widget-view+json": {
       "model_id": "ba002e7259f842b5acc0cb27cb1ae0ce",
       "version_major": 2,
       "version_minor": 0
      },
      "text/plain": [
       "HBox(children=(FloatProgress(value=0.0, layout=Layout(flex='2'), max=1.0), HTML(value='')), layout=Layout(disp…"
      ]
     },
     "metadata": {},
     "output_type": "display_data"
    },
    {
     "name": "stdout",
     "output_type": "stream",
     "text": [
      "Epoch 2/5\n",
      "\n",
      "1/1 - 1s - loss: 13.9506 - keras_psnr: -1.1446e+01 - keras_ssim: 0.0419\n",
      "Epoch 3/5\n"
     ]
    },
    {
     "data": {
      "application/vnd.jupyter.widget-view+json": {
       "model_id": "841bb5422509450c87f97f1b1214736a",
       "version_major": 2,
       "version_minor": 0
      },
      "text/plain": [
       "HBox(children=(FloatProgress(value=0.0, layout=Layout(flex='2'), max=1.0), HTML(value='')), layout=Layout(disp…"
      ]
     },
     "metadata": {},
     "output_type": "display_data"
    },
    {
     "name": "stdout",
     "output_type": "stream",
     "text": [
      "Epoch 3/5\n",
      "\n",
      "1/1 - 1s - loss: 13.2389 - keras_psnr: -1.1219e+01 - keras_ssim: 0.0413\n",
      "Epoch 4/5\n"
     ]
    },
    {
     "data": {
      "application/vnd.jupyter.widget-view+json": {
       "model_id": "afca33c761f844f5b9cfb7c457d5ba5f",
       "version_major": 2,
       "version_minor": 0
      },
      "text/plain": [
       "HBox(children=(FloatProgress(value=0.0, layout=Layout(flex='2'), max=1.0), HTML(value='')), layout=Layout(disp…"
      ]
     },
     "metadata": {},
     "output_type": "display_data"
    },
    {
     "name": "stdout",
     "output_type": "stream",
     "text": [
      "Epoch 4/5\n",
      "\n",
      "1/1 - 1s - loss: 12.3783 - keras_psnr: -1.0927e+01 - keras_ssim: 0.0403\n",
      "Epoch 5/5\n"
     ]
    },
    {
     "data": {
      "application/vnd.jupyter.widget-view+json": {
       "model_id": "aa9635df65514ff0b8d83481d3f9309b",
       "version_major": 2,
       "version_minor": 0
      },
      "text/plain": [
       "HBox(children=(FloatProgress(value=0.0, layout=Layout(flex='2'), max=1.0), HTML(value='')), layout=Layout(disp…"
      ]
     },
     "metadata": {},
     "output_type": "display_data"
    },
    {
     "name": "stdout",
     "output_type": "stream",
     "text": [
      "Epoch 5/5\n",
      "\n",
      "1/1 - 1s - loss: 11.5033 - keras_psnr: -1.0608e+01 - keras_ssim: 0.0393\n",
      "\n",
      "CPU times: user 1min, sys: 9.71 s, total: 1min 10s\n",
      "Wall time: 33.8 s\n"
     ]
    }
   ],
   "source": [
    "%%time\n",
    "# overfitting trials\n",
    "data = next(iter(kspace_ds_train))\n",
    "val_data = next(iter(kspace_ds_val))\n",
    "model.fit(\n",
    "    x=data[0], \n",
    "    y=data[1], \n",
    "#     validation_data=val_data, \n",
    "    batch_size=1, \n",
    "#     callbacks=[tqdm_cb, tboard_cback, tboard_image_cback, norm_cback, lrate_cback],\n",
    "    callbacks=[tqdm_cb, tboard_cback, lrate_cback],\n",
    "    epochs=5, \n",
    "    verbose=2, \n",
    "    shuffle=False,\n",
    ")"
   ]
  },
  {
   "cell_type": "code",
   "execution_count": 9,
   "metadata": {},
   "outputs": [
    {
     "name": "stderr",
     "output_type": "stream",
     "text": [
      "E0305 16:37:23.808835 140518637909760 interactiveshell.py:1178] No traceback has been produced, nothing to debug.\n"
     ]
    }
   ],
   "source": [
    "%debug"
   ]
  }
 ],
 "metadata": {
  "kernelspec": {
   "display_name": "Python 3",
   "language": "python",
   "name": "python3"
  },
  "language_info": {
   "codemirror_mode": {
    "name": "ipython",
    "version": 3
   },
   "file_extension": ".py",
   "mimetype": "text/x-python",
   "name": "python",
   "nbconvert_exporter": "python",
   "pygments_lexer": "ipython3",
   "version": "3.6.7"
  }
 },
 "nbformat": 4,
 "nbformat_minor": 2
}
