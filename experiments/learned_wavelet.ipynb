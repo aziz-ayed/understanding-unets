{
 "cells": [
  {
   "cell_type": "code",
   "execution_count": 1,
   "metadata": {},
   "outputs": [
    {
     "name": "stdout",
     "output_type": "stream",
     "text": [
      "/volatile/home/Zaccharie/workspace/understanding-unets\n"
     ]
    }
   ],
   "source": [
    "%cd .."
   ]
  },
  {
   "cell_type": "code",
   "execution_count": 2,
   "metadata": {},
   "outputs": [],
   "source": [
    "# # this just to make sure we are using only on CPU\n",
    "# import os\n",
    "# os.environ[\"CUDA_VISIBLE_DEVICES\"]=\"-1\""
   ]
  },
  {
   "cell_type": "code",
   "execution_count": 3,
   "metadata": {},
   "outputs": [
    {
     "name": "stderr",
     "output_type": "stream",
     "text": [
      "Using TensorFlow backend.\n"
     ]
    }
   ],
   "source": [
    "%load_ext autoreload\n",
    "%autoreload 2\n",
    "import os.path as op\n",
    "import time\n",
    "\n",
    "from tensorflow.keras.callbacks import TensorBoard, ModelCheckpoint\n",
    "from keras_tqdm import TQDMNotebookCallback\n",
    "import tensorflow as tf\n",
    "from tqdm import tqdm_notebook\n",
    "\n",
    "from learning_wavelets.data import im_generators\n",
    "from learning_wavelets.evaluate import psnr, ssim\n",
    "from learning_wavelets.keras_utils.filters_cback import NormalizeWeights\n",
    "from learning_wavelets.keras_utils.image_tboard_cback import TensorBoardImage\n",
    "from learning_wavelets.keras_utils.normalisation import NormalisationAdjustment\n",
    "from learning_wavelets.keras_utils.thresholding import SoftThresholding\n",
    "from learning_wavelets.learned_wavelet import learned_wavelet"
   ]
  },
  {
   "cell_type": "code",
   "execution_count": 4,
   "metadata": {},
   "outputs": [],
   "source": [
    "tf.random.set_seed(1)"
   ]
  },
  {
   "cell_type": "code",
   "execution_count": 5,
   "metadata": {},
   "outputs": [
    {
     "name": "stdout",
     "output_type": "stream",
     "text": [
      "Found 720 images belonging to 1 classes.\n",
      "Found 720 images belonging to 1 classes.\n",
      "Found 80 images belonging to 1 classes.\n",
      "Found 80 images belonging to 1 classes.\n",
      "Found 100 images belonging to 1 classes.\n",
      "Found 100 images belonging to 1 classes.\n"
     ]
    }
   ],
   "source": [
    "source = 'div2k'\n",
    "noise_std = 30\n",
    "grey = True\n",
    "im_gen_train, im_gen_val, im_gen_test, size, n_samples_train = im_generators(\n",
    "    source, \n",
    "    batch_size=1, \n",
    "    validation_split=0.1, \n",
    "    no_augment=False, \n",
    "    noise_std=noise_std,\n",
    "    grey=grey,\n",
    ")  "
   ]
  },
  {
   "cell_type": "code",
   "execution_count": 6,
   "metadata": {},
   "outputs": [
    {
     "name": "stdout",
     "output_type": "stream",
     "text": [
      "learned_wavelet_div2k_30_1573569554\n"
     ]
    }
   ],
   "source": [
    "n_coarse = 3\n",
    "if grey:\n",
    "    n_coarse = 1\n",
    "thresh = 2*noise_std/255\n",
    "run_params = {\n",
    "    'n_scales': 5, \n",
    "    'n_details': 256, \n",
    "    'n_coarse': n_coarse, \n",
    "    'n_groupping': 256,\n",
    "    'denoising_activation': SoftThresholding(thresh),\n",
    "    'wav_pooling': True,\n",
    "    'wav_use_bias': False,\n",
    "    'wav_normed': True,\n",
    "    'filters_normed': ['details', 'coarse'],\n",
    "}\n",
    "n_epochs = 500\n",
    "run_id = f'learned_wavelet_{source}_{noise_std}_{int(time.time())}'\n",
    "chkpt_path = f'checkpoints/{run_id}' + '-{epoch:02d}.hdf5'\n",
    "print(run_id)"
   ]
  },
  {
   "cell_type": "code",
   "execution_count": 7,
   "metadata": {},
   "outputs": [
    {
     "name": "stderr",
     "output_type": "stream",
     "text": [
      "WARNING: Logging before flag parsing goes to stderr.\n",
      "W1112 15:39:14.780871 140640970262272 callbacks.py:859] `period` argument is deprecated. Please use `save_freq` to specify the frequency in number of samples seen.\n"
     ]
    }
   ],
   "source": [
    "chkpt_cback = ModelCheckpoint(chkpt_path, period=n_epochs, save_weights_only=False)\n",
    "log_dir = op.join('logs', run_id)\n",
    "tboard_cback = TensorBoard(\n",
    "    log_dir=log_dir, \n",
    "    histogram_freq=0, \n",
    "    write_graph=True, \n",
    "    write_images=False, \n",
    ")\n",
    "tqdm_cb = TQDMNotebookCallback(metric_format=\"{name}: {value:e}\")\n",
    "tqdm_cb.on_train_batch_begin = tqdm_cb.on_batch_begin\n",
    "tqdm_cb.on_train_batch_end = tqdm_cb.on_batch_end\n",
    "val_noisy, val_gt = im_gen_val[0]\n",
    "tboard_image_cback = TensorBoardImage(\n",
    "    log_dir=log_dir + '/images',\n",
    "    image=val_gt[0:1],\n",
    "    noisy_image=val_noisy[0:1],\n",
    ")\n",
    "norm_cback = NormalisationAdjustment(momentum=0.99, n_pooling=5)\n",
    "norm_cback.on_train_batch_end = norm_cback.on_batch_end"
   ]
  },
  {
   "cell_type": "code",
   "execution_count": 8,
   "metadata": {
    "scrolled": true
   },
   "outputs": [
    {
     "name": "stdout",
     "output_type": "stream",
     "text": [
      "Model: \"model\"\n",
      "______________________________________________________________________________________________________________________________________________________\n",
      "Layer (type)                                     Output Shape                     Param #           Connected to                                      \n",
      "======================================================================================================================================================\n",
      "input_1 (InputLayer)                             [(None, None, None, 1)]          0                                                                   \n",
      "______________________________________________________________________________________________________________________________________________________\n",
      "low_pass_filtering_1 (Conv2D)                    (None, None, None, 1)            25                input_1[0][0]                                     \n",
      "______________________________________________________________________________________________________________________________________________________\n",
      "average_pooling2d (AveragePooling2D)             (None, None, None, 1)            0                 low_pass_filtering_1[0][0]                        \n",
      "______________________________________________________________________________________________________________________________________________________\n",
      "low_pass_filtering_2 (Conv2D)                    (None, None, None, 1)            25                average_pooling2d[0][0]                           \n",
      "______________________________________________________________________________________________________________________________________________________\n",
      "average_pooling2d_1 (AveragePooling2D)           (None, None, None, 1)            0                 low_pass_filtering_2[0][0]                        \n",
      "______________________________________________________________________________________________________________________________________________________\n",
      "low_pass_filtering_3 (Conv2D)                    (None, None, None, 1)            25                average_pooling2d_1[0][0]                         \n",
      "______________________________________________________________________________________________________________________________________________________\n",
      "average_pooling2d_2 (AveragePooling2D)           (None, None, None, 1)            0                 low_pass_filtering_3[0][0]                        \n",
      "______________________________________________________________________________________________________________________________________________________\n",
      "low_pass_filtering_4 (Conv2D)                    (None, None, None, 1)            25                average_pooling2d_2[0][0]                         \n",
      "______________________________________________________________________________________________________________________________________________________\n",
      "average_pooling2d_3 (AveragePooling2D)           (None, None, None, 1)            0                 low_pass_filtering_4[0][0]                        \n",
      "______________________________________________________________________________________________________________________________________________________\n",
      "high_pass_filtering_5 (Conv2D)                   (None, None, None, 1)            25                average_pooling2d_3[0][0]                         \n",
      "______________________________________________________________________________________________________________________________________________________\n",
      "wav_normalisation_5 (Lambda)                     (None, None, None, 1)            0                 high_pass_filtering_5[0][0]                       \n",
      "______________________________________________________________________________________________________________________________________________________\n",
      "details_tiling_5 (Conv2D)                        (None, None, None, 256)          2304              wav_normalisation_5[0][0]                         \n",
      "______________________________________________________________________________________________________________________________________________________\n",
      "normalisation_4 (Normalisation)                  (None, None, None, 256)          256               details_tiling_5[0][0]                            \n",
      "                                                                                                    activation_4[0][0]                                \n",
      "______________________________________________________________________________________________________________________________________________________\n",
      "activation_4 (Activation)                        (None, None, None, 256)          0                 normalisation_4[0][0]                             \n",
      "______________________________________________________________________________________________________________________________________________________\n",
      "low_pass_filtering_5 (Conv2D)                    (None, None, None, 1)            25                average_pooling2d_3[0][0]                         \n",
      "______________________________________________________________________________________________________________________________________________________\n",
      "wav_denormalisation_5 (Lambda)                   (None, None, None, 256)          0                 normalisation_4[1][0]                             \n",
      "______________________________________________________________________________________________________________________________________________________\n",
      "high_pass_filtering_4 (Conv2D)                   (None, None, None, 1)            25                average_pooling2d_2[0][0]                         \n",
      "______________________________________________________________________________________________________________________________________________________\n",
      "concatenate (Concatenate)                        (None, None, None, 257)          0                 low_pass_filtering_5[0][0]                        \n",
      "                                                                                                    wav_denormalisation_5[0][0]                       \n",
      "______________________________________________________________________________________________________________________________________________________\n",
      "wav_normalisation_4 (Lambda)                     (None, None, None, 1)            0                 high_pass_filtering_4[0][0]                       \n",
      "______________________________________________________________________________________________________________________________________________________\n",
      "groupping_conv_1 (Conv2D)                        (None, None, None, 256)          592128            concatenate[0][0]                                 \n",
      "______________________________________________________________________________________________________________________________________________________\n",
      "details_tiling_4 (Conv2D)                        (None, None, None, 256)          2304              wav_normalisation_4[0][0]                         \n",
      "______________________________________________________________________________________________________________________________________________________\n",
      "activation_5 (Activation)                        (None, None, None, 256)          0                 groupping_conv_1[0][0]                            \n",
      "______________________________________________________________________________________________________________________________________________________\n",
      "normalisation_3 (Normalisation)                  (None, None, None, 256)          256               details_tiling_4[0][0]                            \n",
      "                                                                                                    activation_3[0][0]                                \n",
      "______________________________________________________________________________________________________________________________________________________\n",
      "conv2d (Conv2D)                                  (None, None, None, 1)            256               activation_5[0][0]                                \n",
      "______________________________________________________________________________________________________________________________________________________\n",
      "activation_3 (Activation)                        (None, None, None, 256)          0                 normalisation_3[0][0]                             \n",
      "______________________________________________________________________________________________________________________________________________________\n",
      "activation_6 (Activation)                        (None, None, None, 1)            0                 conv2d[0][0]                                      \n",
      "______________________________________________________________________________________________________________________________________________________\n",
      "up_sampling2d (UpSampling2D)                     (None, None, None, 1)            0                 activation_6[0][0]                                \n",
      "______________________________________________________________________________________________________________________________________________________\n",
      "wav_denormalisation_4 (Lambda)                   (None, None, None, 256)          0                 normalisation_3[1][0]                             \n",
      "______________________________________________________________________________________________________________________________________________________\n",
      "high_pass_filtering_3 (Conv2D)                   (None, None, None, 1)            25                average_pooling2d_1[0][0]                         \n",
      "______________________________________________________________________________________________________________________________________________________\n",
      "concatenate_1 (Concatenate)                      (None, None, None, 257)          0                 up_sampling2d[0][0]                               \n",
      "                                                                                                    wav_denormalisation_4[0][0]                       \n",
      "______________________________________________________________________________________________________________________________________________________\n",
      "wav_normalisation_3 (Lambda)                     (None, None, None, 1)            0                 high_pass_filtering_3[0][0]                       \n",
      "______________________________________________________________________________________________________________________________________________________\n",
      "groupping_conv_2 (Conv2D)                        (None, None, None, 256)          592128            concatenate_1[0][0]                               \n",
      "______________________________________________________________________________________________________________________________________________________\n",
      "details_tiling_3 (Conv2D)                        (None, None, None, 256)          2304              wav_normalisation_3[0][0]                         \n",
      "______________________________________________________________________________________________________________________________________________________\n",
      "activation_7 (Activation)                        (None, None, None, 256)          0                 groupping_conv_2[0][0]                            \n",
      "______________________________________________________________________________________________________________________________________________________\n",
      "normalisation_2 (Normalisation)                  (None, None, None, 256)          256               details_tiling_3[0][0]                            \n",
      "                                                                                                    activation_2[0][0]                                \n",
      "______________________________________________________________________________________________________________________________________________________\n",
      "conv2d_1 (Conv2D)                                (None, None, None, 1)            256               activation_7[0][0]                                \n",
      "______________________________________________________________________________________________________________________________________________________\n",
      "activation_2 (Activation)                        (None, None, None, 256)          0                 normalisation_2[0][0]                             \n",
      "______________________________________________________________________________________________________________________________________________________\n",
      "activation_8 (Activation)                        (None, None, None, 1)            0                 conv2d_1[0][0]                                    \n",
      "______________________________________________________________________________________________________________________________________________________\n",
      "up_sampling2d_1 (UpSampling2D)                   (None, None, None, 1)            0                 activation_8[0][0]                                \n",
      "______________________________________________________________________________________________________________________________________________________\n",
      "wav_denormalisation_3 (Lambda)                   (None, None, None, 256)          0                 normalisation_2[1][0]                             \n",
      "______________________________________________________________________________________________________________________________________________________\n",
      "high_pass_filtering_2 (Conv2D)                   (None, None, None, 1)            25                average_pooling2d[0][0]                           \n",
      "______________________________________________________________________________________________________________________________________________________\n",
      "concatenate_2 (Concatenate)                      (None, None, None, 257)          0                 up_sampling2d_1[0][0]                             \n",
      "                                                                                                    wav_denormalisation_3[0][0]                       \n",
      "______________________________________________________________________________________________________________________________________________________\n",
      "wav_normalisation_2 (Lambda)                     (None, None, None, 1)            0                 high_pass_filtering_2[0][0]                       \n",
      "______________________________________________________________________________________________________________________________________________________\n",
      "groupping_conv_3 (Conv2D)                        (None, None, None, 256)          592128            concatenate_2[0][0]                               \n",
      "______________________________________________________________________________________________________________________________________________________\n",
      "details_tiling_2 (Conv2D)                        (None, None, None, 256)          2304              wav_normalisation_2[0][0]                         \n",
      "______________________________________________________________________________________________________________________________________________________\n",
      "activation_9 (Activation)                        (None, None, None, 256)          0                 groupping_conv_3[0][0]                            \n",
      "______________________________________________________________________________________________________________________________________________________\n",
      "normalisation_1 (Normalisation)                  (None, None, None, 256)          256               details_tiling_2[0][0]                            \n",
      "                                                                                                    activation_1[0][0]                                \n",
      "______________________________________________________________________________________________________________________________________________________\n",
      "conv2d_2 (Conv2D)                                (None, None, None, 1)            256               activation_9[0][0]                                \n",
      "______________________________________________________________________________________________________________________________________________________\n",
      "activation_1 (Activation)                        (None, None, None, 256)          0                 normalisation_1[0][0]                             \n",
      "______________________________________________________________________________________________________________________________________________________\n",
      "activation_10 (Activation)                       (None, None, None, 1)            0                 conv2d_2[0][0]                                    \n",
      "______________________________________________________________________________________________________________________________________________________\n",
      "up_sampling2d_2 (UpSampling2D)                   (None, None, None, 1)            0                 activation_10[0][0]                               \n",
      "______________________________________________________________________________________________________________________________________________________\n",
      "wav_denormalisation_2 (Lambda)                   (None, None, None, 256)          0                 normalisation_1[1][0]                             \n",
      "______________________________________________________________________________________________________________________________________________________\n",
      "high_pass_filtering_1 (Conv2D)                   (None, None, None, 1)            25                input_1[0][0]                                     \n",
      "______________________________________________________________________________________________________________________________________________________\n",
      "concatenate_3 (Concatenate)                      (None, None, None, 257)          0                 up_sampling2d_2[0][0]                             \n",
      "                                                                                                    wav_denormalisation_2[0][0]                       \n",
      "______________________________________________________________________________________________________________________________________________________\n",
      "wav_normalisation_1 (Lambda)                     (None, None, None, 1)            0                 high_pass_filtering_1[0][0]                       \n",
      "______________________________________________________________________________________________________________________________________________________\n",
      "groupping_conv_4 (Conv2D)                        (None, None, None, 256)          592128            concatenate_3[0][0]                               \n",
      "______________________________________________________________________________________________________________________________________________________\n",
      "details_tiling_1 (Conv2D)                        (None, None, None, 256)          2304              wav_normalisation_1[0][0]                         \n",
      "______________________________________________________________________________________________________________________________________________________\n",
      "activation_11 (Activation)                       (None, None, None, 256)          0                 groupping_conv_4[0][0]                            \n",
      "______________________________________________________________________________________________________________________________________________________\n",
      "normalisation (Normalisation)                    (None, None, None, 256)          256               details_tiling_1[0][0]                            \n",
      "                                                                                                    activation[0][0]                                  \n",
      "______________________________________________________________________________________________________________________________________________________\n",
      "conv2d_3 (Conv2D)                                (None, None, None, 1)            256               activation_11[0][0]                               \n",
      "______________________________________________________________________________________________________________________________________________________\n",
      "activation (Activation)                          (None, None, None, 256)          0                 normalisation[0][0]                               \n",
      "______________________________________________________________________________________________________________________________________________________\n",
      "activation_12 (Activation)                       (None, None, None, 1)            0                 conv2d_3[0][0]                                    \n",
      "______________________________________________________________________________________________________________________________________________________\n",
      "up_sampling2d_3 (UpSampling2D)                   (None, None, None, 1)            0                 activation_12[0][0]                               \n",
      "______________________________________________________________________________________________________________________________________________________\n",
      "wav_denormalisation_1 (Lambda)                   (None, None, None, 256)          0                 normalisation[1][0]                               \n",
      "______________________________________________________________________________________________________________________________________________________\n",
      "concatenate_4 (Concatenate)                      (None, None, None, 257)          0                 up_sampling2d_3[0][0]                             \n",
      "                                                                                                    wav_denormalisation_1[0][0]                       \n",
      "______________________________________________________________________________________________________________________________________________________\n",
      "groupping_conv_5 (Conv2D)                        (None, None, None, 256)          592128            concatenate_4[0][0]                               \n",
      "______________________________________________________________________________________________________________________________________________________\n",
      "activation_13 (Activation)                       (None, None, None, 256)          0                 groupping_conv_5[0][0]                            \n",
      "______________________________________________________________________________________________________________________________________________________\n",
      "conv2d_4 (Conv2D)                                (None, None, None, 1)            256               activation_13[0][0]                               \n",
      "______________________________________________________________________________________________________________________________________________________\n",
      "activation_14 (Activation)                       (None, None, None, 1)            0                 conv2d_4[0][0]                                    \n",
      "======================================================================================================================================================\n",
      "Total params: 2,974,970\n",
      "Trainable params: 2,973,440\n",
      "Non-trainable params: 1,530\n",
      "______________________________________________________________________________________________________________________________________________________\n",
      "None\n"
     ]
    }
   ],
   "source": [
    "n_channels = 3\n",
    "if grey:\n",
    "    n_channels = 1\n",
    "model = learned_wavelet(input_size=(None, None, n_channels), lr=1e-3, **run_params)\n",
    "print(model.summary(line_length=150))"
   ]
  },
  {
   "cell_type": "code",
   "execution_count": 9,
   "metadata": {
    "scrolled": true
   },
   "outputs": [],
   "source": [
    "# %%time\n",
    "# model.fit_generator(\n",
    "#     im_gen_train, \n",
    "# #     steps_per_epoch=int((1-validation_split) * n_samples_train / batch_size), \n",
    "#     steps_per_epoch=5, \n",
    "#     epochs=n_epochs,\n",
    "#     validation_data=im_gen_val,\n",
    "# #     validation_steps=int(validation_split * n_samples_train / batch_size),\n",
    "#     validation_steps=1,\n",
    "#     verbose=0,\n",
    "#     callbacks=[tqdm_cb, tboard_cback, chkpt_cback, tboard_image_cback, norm_cback],\n",
    "#     max_queue_size=100,\n",
    "#     use_multiprocessing=True,\n",
    "#     workers=35,\n",
    "#     shuffle=False,\n",
    "# )"
   ]
  },
  {
   "cell_type": "code",
   "execution_count": 10,
   "metadata": {
    "scrolled": true
   },
   "outputs": [
    {
     "name": "stdout",
     "output_type": "stream",
     "text": [
      "Train on 1 samples\n"
     ]
    },
    {
     "data": {
      "application/vnd.jupyter.widget-view+json": {
       "model_id": "c79b44d8da0e4062b922df4306499167",
       "version_major": 2,
       "version_minor": 0
      },
      "text/plain": [
       "HBox(children=(IntProgress(value=0, description='Training', max=20, style=ProgressStyle(description_width='ini…"
      ]
     },
     "metadata": {},
     "output_type": "display_data"
    },
    {
     "data": {
      "application/vnd.jupyter.widget-view+json": {
       "model_id": "",
       "version_major": 2,
       "version_minor": 0
      },
      "text/plain": [
       "HBox(children=(IntProgress(value=0, description='Epoch 0', max=1, style=ProgressStyle(description_width='initi…"
      ]
     },
     "metadata": {},
     "output_type": "display_data"
    },
    {
     "name": "stdout",
     "output_type": "stream",
     "text": [
      "Epoch 1/20\n",
      "1/1 - 4s - loss: 1.0000 - keras_psnr: 11.6873 - keras_ssim: 0.0139\n"
     ]
    },
    {
     "data": {
      "application/vnd.jupyter.widget-view+json": {
       "model_id": "",
       "version_major": 2,
       "version_minor": 0
      },
      "text/plain": [
       "HBox(children=(IntProgress(value=0, description='Epoch 1', max=1, style=ProgressStyle(description_width='initi…"
      ]
     },
     "metadata": {},
     "output_type": "display_data"
    },
    {
     "name": "stdout",
     "output_type": "stream",
     "text": [
      "Epoch 2/20\n"
     ]
    },
    {
     "name": "stderr",
     "output_type": "stream",
     "text": [
      "W1112 15:39:23.570662 140640970262272 callbacks.py:241] Method (on_train_batch_end) is slow compared to the batch update (0.223439). Check your callbacks.\n"
     ]
    },
    {
     "name": "stdout",
     "output_type": "stream",
     "text": [
      "1/1 - 0s - loss: 1.1981 - keras_psnr: 10.9025 - keras_ssim: 0.0020\n"
     ]
    },
    {
     "data": {
      "application/vnd.jupyter.widget-view+json": {
       "model_id": "",
       "version_major": 2,
       "version_minor": 0
      },
      "text/plain": [
       "HBox(children=(IntProgress(value=0, description='Epoch 2', max=1, style=ProgressStyle(description_width='initi…"
      ]
     },
     "metadata": {},
     "output_type": "display_data"
    },
    {
     "name": "stdout",
     "output_type": "stream",
     "text": [
      "Epoch 3/20\n"
     ]
    },
    {
     "name": "stderr",
     "output_type": "stream",
     "text": [
      "W1112 15:39:23.839141 140640970262272 callbacks.py:241] Method (on_train_batch_end) is slow compared to the batch update (0.143260). Check your callbacks.\n"
     ]
    },
    {
     "name": "stdout",
     "output_type": "stream",
     "text": [
      "1/1 - 0s - loss: 2.5604 - keras_psnr: 7.6044 - keras_ssim: 0.0025\n"
     ]
    },
    {
     "data": {
      "application/vnd.jupyter.widget-view+json": {
       "model_id": "",
       "version_major": 2,
       "version_minor": 0
      },
      "text/plain": [
       "HBox(children=(IntProgress(value=0, description='Epoch 3', max=1, style=ProgressStyle(description_width='initi…"
      ]
     },
     "metadata": {},
     "output_type": "display_data"
    },
    {
     "name": "stdout",
     "output_type": "stream",
     "text": [
      "Epoch 4/20\n"
     ]
    },
    {
     "name": "stderr",
     "output_type": "stream",
     "text": [
      "W1112 15:39:24.099596 140640970262272 callbacks.py:241] Method (on_train_batch_end) is slow compared to the batch update (0.134546). Check your callbacks.\n"
     ]
    },
    {
     "name": "stdout",
     "output_type": "stream",
     "text": [
      "1/1 - 0s - loss: 1.4214 - keras_psnr: 10.1602 - keras_ssim: 0.0291\n"
     ]
    },
    {
     "data": {
      "application/vnd.jupyter.widget-view+json": {
       "model_id": "",
       "version_major": 2,
       "version_minor": 0
      },
      "text/plain": [
       "HBox(children=(IntProgress(value=0, description='Epoch 4', max=1, style=ProgressStyle(description_width='initi…"
      ]
     },
     "metadata": {},
     "output_type": "display_data"
    },
    {
     "name": "stdout",
     "output_type": "stream",
     "text": [
      "Epoch 5/20\n"
     ]
    },
    {
     "name": "stderr",
     "output_type": "stream",
     "text": [
      "W1112 15:39:24.363886 140640970262272 callbacks.py:241] Method (on_train_batch_end) is slow compared to the batch update (0.144053). Check your callbacks.\n"
     ]
    },
    {
     "name": "stdout",
     "output_type": "stream",
     "text": [
      "1/1 - 0s - loss: 1.7114 - keras_psnr: 9.3539 - keras_ssim: 0.0575\n"
     ]
    },
    {
     "data": {
      "application/vnd.jupyter.widget-view+json": {
       "model_id": "",
       "version_major": 2,
       "version_minor": 0
      },
      "text/plain": [
       "HBox(children=(IntProgress(value=0, description='Epoch 5', max=1, style=ProgressStyle(description_width='initi…"
      ]
     },
     "metadata": {},
     "output_type": "display_data"
    },
    {
     "name": "stdout",
     "output_type": "stream",
     "text": [
      "Epoch 6/20\n"
     ]
    },
    {
     "name": "stderr",
     "output_type": "stream",
     "text": [
      "W1112 15:39:24.634099 140640970262272 callbacks.py:241] Method (on_train_batch_end) is slow compared to the batch update (0.148367). Check your callbacks.\n"
     ]
    },
    {
     "name": "stdout",
     "output_type": "stream",
     "text": [
      "1/1 - 0s - loss: 1.1942 - keras_psnr: 10.9168 - keras_ssim: 0.0367\n"
     ]
    },
    {
     "data": {
      "application/vnd.jupyter.widget-view+json": {
       "model_id": "",
       "version_major": 2,
       "version_minor": 0
      },
      "text/plain": [
       "HBox(children=(IntProgress(value=0, description='Epoch 6', max=1, style=ProgressStyle(description_width='initi…"
      ]
     },
     "metadata": {},
     "output_type": "display_data"
    },
    {
     "name": "stdout",
     "output_type": "stream",
     "text": [
      "Epoch 7/20\n"
     ]
    },
    {
     "name": "stderr",
     "output_type": "stream",
     "text": [
      "W1112 15:39:24.905940 140640970262272 callbacks.py:241] Method (on_train_batch_end) is slow compared to the batch update (0.146099). Check your callbacks.\n"
     ]
    },
    {
     "name": "stdout",
     "output_type": "stream",
     "text": [
      "1/1 - 0s - loss: 0.9842 - keras_psnr: 11.7567 - keras_ssim: 0.0253\n"
     ]
    },
    {
     "data": {
      "application/vnd.jupyter.widget-view+json": {
       "model_id": "",
       "version_major": 2,
       "version_minor": 0
      },
      "text/plain": [
       "HBox(children=(IntProgress(value=0, description='Epoch 7', max=1, style=ProgressStyle(description_width='initi…"
      ]
     },
     "metadata": {},
     "output_type": "display_data"
    },
    {
     "name": "stdout",
     "output_type": "stream",
     "text": [
      "Epoch 8/20\n"
     ]
    },
    {
     "name": "stderr",
     "output_type": "stream",
     "text": [
      "W1112 15:39:25.171598 140640970262272 callbacks.py:241] Method (on_train_batch_end) is slow compared to the batch update (0.143696). Check your callbacks.\n"
     ]
    },
    {
     "name": "stdout",
     "output_type": "stream",
     "text": [
      "1/1 - 0s - loss: 0.9113 - keras_psnr: 12.0906 - keras_ssim: 0.0189\n"
     ]
    },
    {
     "data": {
      "application/vnd.jupyter.widget-view+json": {
       "model_id": "",
       "version_major": 2,
       "version_minor": 0
      },
      "text/plain": [
       "HBox(children=(IntProgress(value=0, description='Epoch 8', max=1, style=ProgressStyle(description_width='initi…"
      ]
     },
     "metadata": {},
     "output_type": "display_data"
    },
    {
     "name": "stdout",
     "output_type": "stream",
     "text": [
      "Epoch 9/20\n"
     ]
    },
    {
     "name": "stderr",
     "output_type": "stream",
     "text": [
      "W1112 15:39:25.428303 140640970262272 callbacks.py:241] Method (on_train_batch_end) is slow compared to the batch update (0.133069). Check your callbacks.\n"
     ]
    },
    {
     "name": "stdout",
     "output_type": "stream",
     "text": [
      "1/1 - 0s - loss: 0.9533 - keras_psnr: 11.8953 - keras_ssim: 0.0124\n"
     ]
    },
    {
     "data": {
      "application/vnd.jupyter.widget-view+json": {
       "model_id": "",
       "version_major": 2,
       "version_minor": 0
      },
      "text/plain": [
       "HBox(children=(IntProgress(value=0, description='Epoch 9', max=1, style=ProgressStyle(description_width='initi…"
      ]
     },
     "metadata": {},
     "output_type": "display_data"
    },
    {
     "name": "stdout",
     "output_type": "stream",
     "text": [
      "Epoch 10/20\n"
     ]
    },
    {
     "name": "stderr",
     "output_type": "stream",
     "text": [
      "W1112 15:39:25.694834 140640970262272 callbacks.py:241] Method (on_train_batch_end) is slow compared to the batch update (0.140751). Check your callbacks.\n"
     ]
    },
    {
     "name": "stdout",
     "output_type": "stream",
     "text": [
      "1/1 - 0s - loss: 0.6821 - keras_psnr: 13.3490 - keras_ssim: 0.0149\n"
     ]
    },
    {
     "data": {
      "application/vnd.jupyter.widget-view+json": {
       "model_id": "",
       "version_major": 2,
       "version_minor": 0
      },
      "text/plain": [
       "HBox(children=(IntProgress(value=0, description='Epoch 10', max=1, style=ProgressStyle(description_width='init…"
      ]
     },
     "metadata": {},
     "output_type": "display_data"
    },
    {
     "name": "stdout",
     "output_type": "stream",
     "text": [
      "Epoch 11/20\n"
     ]
    },
    {
     "name": "stderr",
     "output_type": "stream",
     "text": [
      "W1112 15:39:25.983670 140640970262272 callbacks.py:241] Method (on_train_batch_end) is slow compared to the batch update (0.142037). Check your callbacks.\n"
     ]
    },
    {
     "name": "stdout",
     "output_type": "stream",
     "text": [
      "1/1 - 0s - loss: 1.0112 - keras_psnr: 11.6391 - keras_ssim: 0.0310\n"
     ]
    },
    {
     "data": {
      "application/vnd.jupyter.widget-view+json": {
       "model_id": "",
       "version_major": 2,
       "version_minor": 0
      },
      "text/plain": [
       "HBox(children=(IntProgress(value=0, description='Epoch 11', max=1, style=ProgressStyle(description_width='init…"
      ]
     },
     "metadata": {},
     "output_type": "display_data"
    },
    {
     "name": "stdout",
     "output_type": "stream",
     "text": [
      "Epoch 12/20\n"
     ]
    },
    {
     "name": "stderr",
     "output_type": "stream",
     "text": [
      "W1112 15:39:26.260824 140640970262272 callbacks.py:241] Method (on_train_batch_end) is slow compared to the batch update (0.147560). Check your callbacks.\n"
     ]
    },
    {
     "name": "stdout",
     "output_type": "stream",
     "text": [
      "1/1 - 0s - loss: 0.3865 - keras_psnr: 15.8154 - keras_ssim: 0.0773\n"
     ]
    },
    {
     "data": {
      "application/vnd.jupyter.widget-view+json": {
       "model_id": "",
       "version_major": 2,
       "version_minor": 0
      },
      "text/plain": [
       "HBox(children=(IntProgress(value=0, description='Epoch 12', max=1, style=ProgressStyle(description_width='init…"
      ]
     },
     "metadata": {},
     "output_type": "display_data"
    },
    {
     "name": "stdout",
     "output_type": "stream",
     "text": [
      "Epoch 13/20\n"
     ]
    },
    {
     "name": "stderr",
     "output_type": "stream",
     "text": [
      "W1112 15:39:26.527197 140640970262272 callbacks.py:241] Method (on_train_batch_end) is slow compared to the batch update (0.142250). Check your callbacks.\n"
     ]
    },
    {
     "name": "stdout",
     "output_type": "stream",
     "text": [
      "1/1 - 0s - loss: 0.5742 - keras_psnr: 14.0970 - keras_ssim: 0.0861\n"
     ]
    },
    {
     "data": {
      "application/vnd.jupyter.widget-view+json": {
       "model_id": "",
       "version_major": 2,
       "version_minor": 0
      },
      "text/plain": [
       "HBox(children=(IntProgress(value=0, description='Epoch 13', max=1, style=ProgressStyle(description_width='init…"
      ]
     },
     "metadata": {},
     "output_type": "display_data"
    },
    {
     "name": "stdout",
     "output_type": "stream",
     "text": [
      "Epoch 14/20\n"
     ]
    },
    {
     "name": "stderr",
     "output_type": "stream",
     "text": [
      "W1112 15:39:26.798288 140640970262272 callbacks.py:241] Method (on_train_batch_end) is slow compared to the batch update (0.136515). Check your callbacks.\n"
     ]
    },
    {
     "name": "stdout",
     "output_type": "stream",
     "text": [
      "1/1 - 0s - loss: 0.7339 - keras_psnr: 13.0312 - keras_ssim: 0.0681\n"
     ]
    },
    {
     "data": {
      "application/vnd.jupyter.widget-view+json": {
       "model_id": "",
       "version_major": 2,
       "version_minor": 0
      },
      "text/plain": [
       "HBox(children=(IntProgress(value=0, description='Epoch 14', max=1, style=ProgressStyle(description_width='init…"
      ]
     },
     "metadata": {},
     "output_type": "display_data"
    },
    {
     "name": "stdout",
     "output_type": "stream",
     "text": [
      "Epoch 15/20\n"
     ]
    },
    {
     "name": "stderr",
     "output_type": "stream",
     "text": [
      "W1112 15:39:27.058813 140640970262272 callbacks.py:241] Method (on_train_batch_end) is slow compared to the batch update (0.135068). Check your callbacks.\n"
     ]
    },
    {
     "name": "stdout",
     "output_type": "stream",
     "text": [
      "1/1 - 0s - loss: 0.6575 - keras_psnr: 13.5085 - keras_ssim: 0.0767\n"
     ]
    },
    {
     "data": {
      "application/vnd.jupyter.widget-view+json": {
       "model_id": "",
       "version_major": 2,
       "version_minor": 0
      },
      "text/plain": [
       "HBox(children=(IntProgress(value=0, description='Epoch 15', max=1, style=ProgressStyle(description_width='init…"
      ]
     },
     "metadata": {},
     "output_type": "display_data"
    },
    {
     "name": "stdout",
     "output_type": "stream",
     "text": [
      "Epoch 16/20\n"
     ]
    },
    {
     "name": "stderr",
     "output_type": "stream",
     "text": [
      "W1112 15:39:27.323155 140640970262272 callbacks.py:241] Method (on_train_batch_end) is slow compared to the batch update (0.138602). Check your callbacks.\n"
     ]
    },
    {
     "name": "stdout",
     "output_type": "stream",
     "text": [
      "1/1 - 0s - loss: 0.4227 - keras_psnr: 15.4267 - keras_ssim: 0.1232\n"
     ]
    },
    {
     "data": {
      "application/vnd.jupyter.widget-view+json": {
       "model_id": "",
       "version_major": 2,
       "version_minor": 0
      },
      "text/plain": [
       "HBox(children=(IntProgress(value=0, description='Epoch 16', max=1, style=ProgressStyle(description_width='init…"
      ]
     },
     "metadata": {},
     "output_type": "display_data"
    },
    {
     "name": "stdout",
     "output_type": "stream",
     "text": [
      "Epoch 17/20\n"
     ]
    },
    {
     "name": "stderr",
     "output_type": "stream",
     "text": [
      "W1112 15:39:27.585628 140640970262272 callbacks.py:241] Method (on_train_batch_end) is slow compared to the batch update (0.136806). Check your callbacks.\n"
     ]
    },
    {
     "name": "stdout",
     "output_type": "stream",
     "text": [
      "1/1 - 0s - loss: 0.2882 - keras_psnr: 17.0902 - keras_ssim: 0.1601\n"
     ]
    },
    {
     "data": {
      "application/vnd.jupyter.widget-view+json": {
       "model_id": "",
       "version_major": 2,
       "version_minor": 0
      },
      "text/plain": [
       "HBox(children=(IntProgress(value=0, description='Epoch 17', max=1, style=ProgressStyle(description_width='init…"
      ]
     },
     "metadata": {},
     "output_type": "display_data"
    },
    {
     "name": "stdout",
     "output_type": "stream",
     "text": [
      "Epoch 18/20\n"
     ]
    },
    {
     "name": "stderr",
     "output_type": "stream",
     "text": [
      "W1112 15:39:27.847534 140640970262272 callbacks.py:241] Method (on_train_batch_end) is slow compared to the batch update (0.136147). Check your callbacks.\n"
     ]
    },
    {
     "name": "stdout",
     "output_type": "stream",
     "text": [
      "1/1 - 0s - loss: 0.3909 - keras_psnr: 15.7672 - keras_ssim: 0.1201\n"
     ]
    },
    {
     "data": {
      "application/vnd.jupyter.widget-view+json": {
       "model_id": "",
       "version_major": 2,
       "version_minor": 0
      },
      "text/plain": [
       "HBox(children=(IntProgress(value=0, description='Epoch 18', max=1, style=ProgressStyle(description_width='init…"
      ]
     },
     "metadata": {},
     "output_type": "display_data"
    },
    {
     "name": "stdout",
     "output_type": "stream",
     "text": [
      "Epoch 19/20\n"
     ]
    },
    {
     "name": "stderr",
     "output_type": "stream",
     "text": [
      "W1112 15:39:28.124894 140640970262272 callbacks.py:241] Method (on_train_batch_end) is slow compared to the batch update (0.142864). Check your callbacks.\n"
     ]
    },
    {
     "name": "stdout",
     "output_type": "stream",
     "text": [
      "1/1 - 0s - loss: 0.5253 - keras_psnr: 14.4836 - keras_ssim: 0.1039\n"
     ]
    },
    {
     "data": {
      "application/vnd.jupyter.widget-view+json": {
       "model_id": "",
       "version_major": 2,
       "version_minor": 0
      },
      "text/plain": [
       "HBox(children=(IntProgress(value=0, description='Epoch 19', max=1, style=ProgressStyle(description_width='init…"
      ]
     },
     "metadata": {},
     "output_type": "display_data"
    },
    {
     "name": "stdout",
     "output_type": "stream",
     "text": [
      "Epoch 20/20\n"
     ]
    },
    {
     "name": "stderr",
     "output_type": "stream",
     "text": [
      "W1112 15:39:28.386079 140640970262272 callbacks.py:241] Method (on_train_batch_end) is slow compared to the batch update (0.140896). Check your callbacks.\n"
     ]
    },
    {
     "name": "stdout",
     "output_type": "stream",
     "text": [
      "1/1 - 0s - loss: 0.3806 - keras_psnr: 15.8826 - keras_ssim: 0.1330\n",
      "\n",
      "Original metrics\n",
      "23.271581883963698\n",
      "0.3025488964153973\n",
      "CPU times: user 9.73 s, sys: 1.85 s, total: 11.6 s\n",
      "Wall time: 11.3 s\n"
     ]
    }
   ],
   "source": [
    "%%time\n",
    "# overfitting trials\n",
    "data = im_gen_train[0]\n",
    "val_data = im_gen_val[0]\n",
    "model.fit(\n",
    "    x=data[0], \n",
    "    y=data[1], \n",
    "#     validation_data=val_data, \n",
    "    batch_size=data[0].shape[0], \n",
    "    callbacks=[tqdm_cb, tboard_cback, tboard_image_cback, norm_cback],\n",
    "    epochs=200, \n",
    "    verbose=2, \n",
    "    shuffle=False,\n",
    ")\n",
    "print('Original metrics')\n",
    "print(psnr(*data))\n",
    "print(ssim(*data))"
   ]
  },
  {
   "cell_type": "code",
   "execution_count": null,
   "metadata": {},
   "outputs": [],
   "source": []
  }
 ],
 "metadata": {
  "kernelspec": {
   "display_name": "Python 3",
   "language": "python",
   "name": "python3"
  },
  "language_info": {
   "codemirror_mode": {
    "name": "ipython",
    "version": 3
   },
   "file_extension": ".py",
   "mimetype": "text/x-python",
   "name": "python",
   "nbconvert_exporter": "python",
   "pygments_lexer": "ipython3",
   "version": "3.6.8"
  },
  "notify_time": "30"
 },
 "nbformat": 4,
 "nbformat_minor": 2
}
