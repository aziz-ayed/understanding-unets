{
 "cells": [
  {
   "cell_type": "code",
   "execution_count": 1,
   "metadata": {},
   "outputs": [
    {
     "name": "stdout",
     "output_type": "stream",
     "text": [
      "/volatile/home/Zaccharie/workspace/understanding-unets\n"
     ]
    }
   ],
   "source": [
    "%cd ../.."
   ]
  },
  {
   "cell_type": "code",
   "execution_count": 2,
   "metadata": {},
   "outputs": [],
   "source": [
    "# # this just to make sure we are using only on CPU\n",
    "# import os\n",
    "# os.environ[\"CUDA_VISIBLE_DEVICES\"]=\"-1\""
   ]
  },
  {
   "cell_type": "code",
   "execution_count": 3,
   "metadata": {},
   "outputs": [],
   "source": [
    "import os.path as op\n",
    "import time\n",
    "\n",
    "from fastmri_recon.config import *\n",
    "from fastmri_recon.data.fastmri_tf_datasets import train_masked_kspace_dataset_from_indexable\n",
    "from fastmri_recon.helpers.nn_mri import tf_fastmri_format\n",
    "from fastmri_recon.helpers.utils import keras_psnr, keras_ssim\n",
    "from tensorflow.keras.callbacks import TensorBoard, ModelCheckpoint, LearningRateScheduler\n",
    "import tensorflow_addons as tfa\n",
    "import tensorflow as tf\n",
    "from tensorflow.keras.optimizers import Adam\n",
    "from tqdm import tqdm_notebook\n",
    "\n",
    "from learning_wavelets.keras_utils.fourier import tf_masked_shifted_normed_fft2d, tf_masked_shifted_normed_ifft2d\n",
    "from learning_wavelets.models.ista import IstaLearnlet"
   ]
  },
  {
   "cell_type": "code",
   "execution_count": 4,
   "metadata": {},
   "outputs": [
    {
     "name": "stdout",
     "output_type": "stream",
     "text": [
      "Getting training files from /media/Zaccharie/UHRes/singlecoil_train/singlecoil_train/\n",
      "Getting training files from /media/Zaccharie/UHRes/singlecoil_val/\n"
     ]
    }
   ],
   "source": [
    "# paths\n",
    "train_path = f'{FASTMRI_DATA_DIR}singlecoil_train/singlecoil_train/'\n",
    "val_path = f'{FASTMRI_DATA_DIR}singlecoil_val/'\n",
    "test_path = f'{FASTMRI_DATA_DIR}singlecoil_test/'\n",
    "\n",
    "n_volumes_train = 973\n",
    "af = 4\n",
    "train_set = train_masked_kspace_dataset_from_indexable(\n",
    "    train_path,\n",
    "    AF=af,\n",
    "    contrast=None,\n",
    "    inner_slices=8,\n",
    "    rand=True,\n",
    "    scale_factor=1e6,\n",
    "    n_samples=None,\n",
    ")\n",
    "val_set = train_masked_kspace_dataset_from_indexable(\n",
    "    val_path,\n",
    "    AF=af,\n",
    "    contrast=None,\n",
    "    scale_factor=1e6,\n",
    ")"
   ]
  },
  {
   "cell_type": "code",
   "execution_count": 5,
   "metadata": {},
   "outputs": [],
   "source": [
    "learnlet_params = {\n",
    "    'denoising_activation': 'dynamic_soft_thresholding',\n",
    "    'learnlet_analysis_kwargs':{\n",
    "        'n_tiling': 16, \n",
    "        'mixing_details': False,    \n",
    "        'skip_connection': True,\n",
    "        'kernel_size': 3,\n",
    "    },\n",
    "    'learnlet_synthesis_kwargs': {\n",
    "        'res': True,\n",
    "        'kernel_size': 5,\n",
    "    },\n",
    "    'threshold_kwargs':{\n",
    "        'noise_std_norm': False,\n",
    "        'alpha_init': 2.0,\n",
    "    },\n",
    "    'n_scales': 2,\n",
    "    'exact_reconstruction': True,\n",
    "    'undecimated': True,\n",
    "    'clip': False,\n",
    "}\n",
    "\n",
    "model = IstaLearnlet(\n",
    "    n_iterations=3,\n",
    "    forward_operator=tf_masked_shifted_normed_fft2d,\n",
    "    adjoint_operator=tf_masked_shifted_normed_ifft2d,\n",
    "    postprocess=tf_fastmri_format,\n",
    "    fista_mode=True,\n",
    "    **learnlet_params,\n",
    ")\n",
    "model.compile(\n",
    "    optimizer=Adam(lr=1e-3),\n",
    "    loss='mse',\n",
    "    metrics=[keras_psnr, keras_ssim,],\n",
    ")"
   ]
  },
  {
   "cell_type": "code",
   "execution_count": 6,
   "metadata": {},
   "outputs": [
    {
     "name": "stdout",
     "output_type": "stream",
     "text": [
      "ista_learnlet_ellipses_1583844806\n"
     ]
    }
   ],
   "source": [
    "n_epochs = 1\n",
    "run_id = f'ista_learnlet_ellipses_{int(time.time())}'\n",
    "chkpt_path = f'checkpoints/{run_id}' + '-{epoch:02d}.hdf5'\n",
    "print(run_id)"
   ]
  },
  {
   "cell_type": "code",
   "execution_count": 7,
   "metadata": {},
   "outputs": [],
   "source": [
    "def l_rate_schedule(epoch):\n",
    "    return max(1e-3 / 2**(epoch//25), 1e-5)\n",
    "lrate_cback = LearningRateScheduler(l_rate_schedule)"
   ]
  },
  {
   "cell_type": "code",
   "execution_count": 8,
   "metadata": {},
   "outputs": [
    {
     "name": "stdout",
     "output_type": "stream",
     "text": [
      "WARNING:tensorflow:`period` argument is deprecated. Please use `save_freq` to specify the frequency in number of samples seen.\n"
     ]
    }
   ],
   "source": [
    "chkpt_cback = ModelCheckpoint(chkpt_path, period=n_epochs, save_weights_only=False)\n",
    "log_dir = op.join('logs', run_id)\n",
    "tboard_cback = TensorBoard(\n",
    "    log_dir=log_dir, \n",
    "    histogram_freq=0, \n",
    "    write_graph=False, \n",
    "    write_images=False, \n",
    "    profile_batch=0,\n",
    ")\n",
    "tqdm_cb = tfa.callbacks.TQDMProgressBar(metrics_format=\"{name}: {value:e}\")\n",
    "# val_noisy, val_gt = next(iter(im_ds_val))\n",
    "# tboard_image_cback = TensorBoardImage(\n",
    "#     log_dir=log_dir + '/images',\n",
    "#     image=val_gt[0:1],\n",
    "#     noisy_image=val_noisy[0:1],\n",
    "# )"
   ]
  },
  {
   "cell_type": "code",
   "execution_count": 9,
   "metadata": {
    "scrolled": false
   },
   "outputs": [
    {
     "data": {
      "application/vnd.jupyter.widget-view+json": {
       "model_id": "547502e526a349ca8c7366e9831ca526",
       "version_major": 2,
       "version_minor": 0
      },
      "text/plain": [
       "HBox(children=(FloatProgress(value=0.0, description='Training', layout=Layout(flex='2'), max=1.0, style=Progre…"
      ]
     },
     "metadata": {},
     "output_type": "display_data"
    },
    {
     "name": "stdout",
     "output_type": "stream",
     "text": [
      "Epoch 1/1\n"
     ]
    },
    {
     "data": {
      "application/vnd.jupyter.widget-view+json": {
       "model_id": "5514c00574bd47a696c1db7178a77b7d",
       "version_major": 2,
       "version_minor": 0
      },
      "text/plain": [
       "HBox(children=(FloatProgress(value=0.0, layout=Layout(flex='2'), max=973.0), HTML(value='')), layout=Layout(di…"
      ]
     },
     "metadata": {},
     "output_type": "display_data"
    },
    {
     "name": "stdout",
     "output_type": "stream",
     "text": [
      "\n",
      "\n"
     ]
    },
    {
     "data": {
      "text/plain": [
       "<tensorflow.python.keras.callbacks.History at 0x7f75b8620e80>"
      ]
     },
     "execution_count": 9,
     "metadata": {},
     "output_type": "execute_result"
    }
   ],
   "source": [
    "model.fit(\n",
    "    train_set, \n",
    "    steps_per_epoch=n_volumes_train, \n",
    "#     steps_per_epoch=5, \n",
    "    epochs=n_epochs,\n",
    "    validation_data=val_set,\n",
    "#     validation_steps=int(validation_split * n_samples_train / batch_size),\n",
    "    validation_steps=1,\n",
    "    verbose=0,\n",
    "    callbacks=[tqdm_cb, tboard_cback, chkpt_cback],\n",
    "#     callbacks=[tqdm_cb, norm_cback, lrate_cback],\n",
    "#     callbacks=[tqdm_cb, tboard_cback, chkpt_cback, tboard_image_cback, norm_cback, lrate_cback],\n",
    "    shuffle=False,\n",
    ")"
   ]
  },
  {
   "cell_type": "code",
   "execution_count": 10,
   "metadata": {
    "scrolled": true
   },
   "outputs": [],
   "source": [
    "# # %%time\n",
    "# # overfitting trials\n",
    "# data = next(iter(train_set))\n",
    "# val_data = next(iter(val_set))\n",
    "\n",
    "# model.fit(\n",
    "#     x=data[0], \n",
    "#     y=data[1], \n",
    "# #     validation_data=val_data, \n",
    "#     batch_size=1, \n",
    "# #     callbacks=[tqdm_cb, tboard_cback, tboard_image_cback, norm_cback, lrate_cback],\n",
    "#     callbacks=[tqdm_cb, lrate_cback],\n",
    "#     epochs=1, \n",
    "#     verbose=0, \n",
    "#     shuffle=False,\n",
    "# )"
   ]
  },
  {
   "cell_type": "code",
   "execution_count": 11,
   "metadata": {},
   "outputs": [
    {
     "data": {
      "text/plain": [
       "[array([1.4283597], dtype=float32),\n",
       " array([0.60190666], dtype=float32),\n",
       " array([1.123911], dtype=float32)]"
      ]
     },
     "execution_count": 11,
     "metadata": {},
     "output_type": "execute_result"
    }
   ],
   "source": [
    "[ib.alpha.numpy() for ib in model.ista_blocks]"
   ]
  },
  {
   "cell_type": "code",
   "execution_count": 11,
   "metadata": {},
   "outputs": [
    {
     "data": {
      "text/plain": [
       "[array([1.4283597], dtype=float32),\n",
       " array([0.60190666], dtype=float32),\n",
       " array([1.123911], dtype=float32)]"
      ]
     },
     "execution_count": 11,
     "metadata": {},
     "output_type": "execute_result"
    }
   ],
   "source": [
    "[ib.momentum.numpy() for ib in model.ista_blocks]"
   ]
  },
  {
   "cell_type": "code",
   "execution_count": null,
   "metadata": {},
   "outputs": [],
   "source": []
  }
 ],
 "metadata": {
  "kernelspec": {
   "display_name": "Python 3",
   "language": "python",
   "name": "python3"
  },
  "language_info": {
   "codemirror_mode": {
    "name": "ipython",
    "version": 3
   },
   "file_extension": ".py",
   "mimetype": "text/x-python",
   "name": "python",
   "nbconvert_exporter": "python",
   "pygments_lexer": "ipython3",
   "version": "3.6.8"
  },
  "notify_time": "10"
 },
 "nbformat": 4,
 "nbformat_minor": 2
}
