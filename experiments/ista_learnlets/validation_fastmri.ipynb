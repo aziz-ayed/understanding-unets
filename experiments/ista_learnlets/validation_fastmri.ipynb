{
 "cells": [
  {
   "cell_type": "code",
   "execution_count": 1,
   "metadata": {},
   "outputs": [
    {
     "name": "stdout",
     "output_type": "stream",
     "text": [
      "/volatile/home/Zaccharie/workspace/understanding-unets\n"
     ]
    }
   ],
   "source": [
    "%cd ../.."
   ]
  },
  {
   "cell_type": "code",
   "execution_count": 2,
   "metadata": {},
   "outputs": [],
   "source": [
    "# # this just to make sure we are using only on CPU\n",
    "# import os\n",
    "# os.environ[\"CUDA_VISIBLE_DEVICES\"]=\"-1\""
   ]
  },
  {
   "cell_type": "code",
   "execution_count": 3,
   "metadata": {},
   "outputs": [],
   "source": [
    "import os.path as op\n",
    "import time\n",
    "\n",
    "from fastmri_recon.config import *\n",
    "from fastmri_recon.data.fastmri_tf_datasets import train_masked_kspace_dataset_from_indexable\n",
    "from fastmri_recon.helpers.nn_mri import tf_fastmri_format\n",
    "import tensorflow_addons as tfa\n",
    "import tensorflow as tf\n",
    "from tensorflow.keras.optimizers import Adam\n",
    "from tqdm.notebook import tqdm\n",
    "\n",
    "from learning_wavelets.keras_utils.fourier import tf_masked_shifted_normed_fft2d, tf_masked_shifted_normed_ifft2d\n",
    "from learning_wavelets.models.ista import IstaLearnlet"
   ]
  },
  {
   "cell_type": "code",
   "execution_count": 4,
   "metadata": {},
   "outputs": [
    {
     "name": "stdout",
     "output_type": "stream",
     "text": [
      "Getting training files from /media/Zaccharie/UHRes/singlecoil_val/\n"
     ]
    }
   ],
   "source": [
    "# paths\n",
    "val_path = f'{FASTMRI_DATA_DIR}singlecoil_val/'\n",
    "\n",
    "n_volumes_train = 973\n",
    "af = 4\n",
    "val_set = train_masked_kspace_dataset_from_indexable(\n",
    "    val_path,\n",
    "    AF=af,\n",
    "    contrast='CORPD_FBK',  # ['CORPDFS_FBK', 'CORPD_FBK', None]\n",
    "    scale_factor=1e6,\n",
    ")"
   ]
  },
  {
   "cell_type": "code",
   "execution_count": 5,
   "metadata": {},
   "outputs": [],
   "source": [
    "learnlet_params = {\n",
    "    'denoising_activation': 'dynamic_soft_thresholding',\n",
    "    'learnlet_analysis_kwargs':{\n",
    "        'n_tiling': 16, \n",
    "        'mixing_details': False,    \n",
    "        'skip_connection': True,\n",
    "        'kernel_size': 7,\n",
    "    },\n",
    "    'learnlet_synthesis_kwargs': {\n",
    "        'res': True,\n",
    "        'kernel_size': 9,\n",
    "    },\n",
    "    'threshold_kwargs':{\n",
    "        'noise_std_norm': False,\n",
    "        'alpha_init': 2.0,\n",
    "    },\n",
    "    'n_scales': 4,\n",
    "    'n_reweights_learn': 1,\n",
    "    'exact_reconstruction': True,\n",
    "    'undecimated': True,\n",
    "    'clip': False,\n",
    "}\n",
    "\n",
    "model = IstaLearnlet(\n",
    "    n_iterations=5,\n",
    "    forward_operator=tf_masked_shifted_normed_fft2d,\n",
    "    adjoint_operator=tf_masked_shifted_normed_ifft2d,\n",
    "    postprocess=tf_fastmri_format,\n",
    "    fista_mode=True,\n",
    "    **learnlet_params,\n",
    ")\n",
    "model([tf.zeros((1, 640, 320, 1), dtype=tf.complex64), tf.zeros((1, 640, 320), dtype=tf.complex64)])\n",
    "model.load_weights(\n",
    "    'checkpoints/fista_learnlet_fastmri_16_5_dynamic_soft_thresholding_1583847877-300.hdf5',\n",
    ")"
   ]
  },
  {
   "cell_type": "code",
   "execution_count": 8,
   "metadata": {
    "scrolled": false
   },
   "outputs": [
    {
     "data": {
      "application/vnd.jupyter.widget-view+json": {
       "model_id": "14c76eaf2a2c42cdb549bb8e6cc42f7b",
       "version_major": 2,
       "version_minor": 0
      },
      "text/plain": [
       "HBox(children=(FloatProgress(value=1.0, bar_style='info', max=1.0), HTML(value='')))"
      ]
     },
     "metadata": {},
     "output_type": "display_data"
    },
    {
     "name": "stdout",
     "output_type": "stream",
     "text": [
      "\n"
     ]
    },
    {
     "data": {
      "text/plain": [
       "<tf.Tensor: shape=(), dtype=float32, numpy=33.316612>"
      ]
     },
     "execution_count": 8,
     "metadata": {},
     "output_type": "execute_result"
    }
   ],
   "source": [
    "n_samples = 100\n",
    "psnrs = tf.TensorArray(tf.float32, size=n_samples)\n",
    "i = 0\n",
    "for kspace_mask, image in tqdm(val_set.take(n_samples)):\n",
    "    res = tf.convert_to_tensor(model.predict(kspace_mask, batch_size=1))\n",
    "    psnrs = psnrs.write(i, tf.reduce_mean(tf.image.psnr(res[..., 0][None, ...], image[..., 0][None, ...], max_val=tf.reduce_max(image))))\n",
    "    i += 1\n",
    "tf.reduce_mean(psnrs.stack())"
   ]
  },
  {
   "cell_type": "code",
   "execution_count": null,
   "metadata": {},
   "outputs": [],
   "source": []
  }
 ],
 "metadata": {
  "kernelspec": {
   "display_name": "Python 3",
   "language": "python",
   "name": "python3"
  },
  "language_info": {
   "codemirror_mode": {
    "name": "ipython",
    "version": 3
   },
   "file_extension": ".py",
   "mimetype": "text/x-python",
   "name": "python",
   "nbconvert_exporter": "python",
   "pygments_lexer": "ipython3",
   "version": "3.6.8"
  }
 },
 "nbformat": 4,
 "nbformat_minor": 2
}
