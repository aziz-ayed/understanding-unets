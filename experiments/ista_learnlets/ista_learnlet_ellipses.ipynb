{
 "cells": [
  {
   "cell_type": "code",
   "execution_count": 1,
   "metadata": {},
   "outputs": [
    {
     "name": "stdout",
     "output_type": "stream",
     "text": [
      "/volatile/home/Zaccharie/workspace/understanding-unets\n"
     ]
    }
   ],
   "source": [
    "%cd .."
   ]
  },
  {
   "cell_type": "code",
   "execution_count": 2,
   "metadata": {},
   "outputs": [],
   "source": [
    "import os.path as op\n",
    "import time\n",
    "\n",
    "from tensorflow.keras.callbacks import TensorBoard, ModelCheckpoint, LearningRateScheduler\n",
    "import tensorflow_addons as tfa\n",
    "import tensorflow as tf\n",
    "from tensorflow.keras.optimizers import Adam\n",
    "from tqdm import tqdm_notebook\n",
    "\n",
    "from learning_wavelets.data.toy_datasets import masked_kspace_ellipse_dataset\n",
    "from learning_wavelets.evaluate import keras_psnr, keras_ssim\n",
    "from learning_wavelets.keras_utils.fourier import tf_masked_shifted_normed_fft2d, tf_masked_shifted_normed_ifft2d\n",
    "from learning_wavelets.models.ista import IstaLearnlet"
   ]
  },
  {
   "cell_type": "code",
   "execution_count": 3,
   "metadata": {},
   "outputs": [],
   "source": [
    "im_size = 128\n",
    "af = 1.5\n",
    "kspace_ds_train = masked_kspace_ellipse_dataset(im_size, af=af, batch_size=1)\n",
    "kspace_ds_val = masked_kspace_ellipse_dataset(im_size, af=af)"
   ]
  },
  {
   "cell_type": "code",
   "execution_count": 4,
   "metadata": {},
   "outputs": [],
   "source": [
    "learnlet_params = {\n",
    "    'denoising_activation': 'dynamic_soft_thresholding',\n",
    "    'learnlet_analysis_kwargs':{\n",
    "        'n_tiling': 16, \n",
    "        'mixing_details': False,    \n",
    "        'skip_connection': True,\n",
    "        'kernel_size': 7,\n",
    "    },\n",
    "    'learnlet_synthesis_kwargs': {\n",
    "        'res': True,\n",
    "        'kernel_size': 9,\n",
    "    },\n",
    "    'threshold_kwargs':{\n",
    "        'noise_std_norm': False,\n",
    "        'alpha_init': 0.1,\n",
    "    },\n",
    "    'n_scales': 3,\n",
    "    'exact_reconstruction': True,\n",
    "    'undecimated': True,\n",
    "    'clip': False,\n",
    "}\n",
    "\n",
    "model = IstaLearnlet(\n",
    "    n_iterations=10,\n",
    "    forward_operator=tf_masked_shifted_normed_fft2d,\n",
    "    adjoint_operator=tf_masked_shifted_normed_ifft2d,\n",
    "    **learnlet_params,\n",
    ")\n",
    "model.compile(\n",
    "    optimizer=Adam(lr=1e-3),\n",
    "    loss='mse',\n",
    "    metrics=[keras_psnr, keras_ssim,],\n",
    ")"
   ]
  },
  {
   "cell_type": "code",
   "execution_count": 5,
   "metadata": {},
   "outputs": [
    {
     "name": "stdout",
     "output_type": "stream",
     "text": [
      "ista_learnlet_ellipses_1583426578\n"
     ]
    }
   ],
   "source": [
    "n_epochs = 500\n",
    "run_id = f'ista_learnlet_ellipses_{int(time.time())}'\n",
    "chkpt_path = f'checkpoints/{run_id}' + '-{epoch:02d}.hdf5'\n",
    "print(run_id)"
   ]
  },
  {
   "cell_type": "code",
   "execution_count": 6,
   "metadata": {},
   "outputs": [],
   "source": [
    "def l_rate_schedule(epoch):\n",
    "    return max(1e-3 / 2**(epoch//25), 1e-5)\n",
    "lrate_cback = LearningRateScheduler(l_rate_schedule)"
   ]
  },
  {
   "cell_type": "code",
   "execution_count": 7,
   "metadata": {},
   "outputs": [
    {
     "name": "stdout",
     "output_type": "stream",
     "text": [
      "WARNING:tensorflow:`period` argument is deprecated. Please use `save_freq` to specify the frequency in number of samples seen.\n"
     ]
    }
   ],
   "source": [
    "chkpt_cback = ModelCheckpoint(chkpt_path, period=n_epochs, save_weights_only=False)\n",
    "log_dir = op.join('logs', run_id)\n",
    "tboard_cback = TensorBoard(\n",
    "    log_dir=log_dir, \n",
    "    histogram_freq=0, \n",
    "    write_graph=False, \n",
    "    write_images=False, \n",
    "    profile_batch=0,\n",
    ")\n",
    "tqdm_cb = tfa.callbacks.TQDMProgressBar(metrics_format=\"{name}: {value:e}\")\n",
    "# val_noisy, val_gt = next(iter(im_ds_val))\n",
    "# tboard_image_cback = TensorBoardImage(\n",
    "#     log_dir=log_dir + '/images',\n",
    "#     image=val_gt[0:1],\n",
    "#     noisy_image=val_noisy[0:1],\n",
    "# )"
   ]
  },
  {
   "cell_type": "code",
   "execution_count": 8,
   "metadata": {
    "scrolled": true
   },
   "outputs": [
    {
     "name": "stdout",
     "output_type": "stream",
     "text": [
      "Original psnr  tf.Tensor([9.363954], shape=(1,), dtype=float32)\n",
      "Train on 1 samples\n"
     ]
    },
    {
     "data": {
      "application/vnd.jupyter.widget-view+json": {
       "model_id": "9768d8baae9d408187ff146ff65d13a8",
       "version_major": 2,
       "version_minor": 0
      },
      "text/plain": [
       "HBox(children=(FloatProgress(value=0.0, description='Training', layout=Layout(flex='2'), style=ProgressStyle(d…"
      ]
     },
     "metadata": {},
     "output_type": "display_data"
    },
    {
     "name": "stdout",
     "output_type": "stream",
     "text": [
      "Epoch 1/100\n"
     ]
    },
    {
     "data": {
      "application/vnd.jupyter.widget-view+json": {
       "model_id": "0e7a1f0a61934dc9adb79eb30f3bf230",
       "version_major": 2,
       "version_minor": 0
      },
      "text/plain": [
       "HBox(children=(FloatProgress(value=0.0, layout=Layout(flex='2'), max=1.0), HTML(value='')), layout=Layout(disp…"
      ]
     },
     "metadata": {},
     "output_type": "display_data"
    },
    {
     "name": "stdout",
     "output_type": "stream",
     "text": [
      "Epoch 1/100\n",
      "\n",
      "1/1 - 20s - loss: 0.1001 - keras_psnr: 9.9956 - keras_ssim: 0.2175\n",
      "Epoch 2/100\n"
     ]
    },
    {
     "data": {
      "application/vnd.jupyter.widget-view+json": {
       "model_id": "6333693b48764fc3aacd3972d32df7bd",
       "version_major": 2,
       "version_minor": 0
      },
      "text/plain": [
       "HBox(children=(FloatProgress(value=0.0, layout=Layout(flex='2'), max=1.0), HTML(value='')), layout=Layout(disp…"
      ]
     },
     "metadata": {},
     "output_type": "display_data"
    },
    {
     "name": "stdout",
     "output_type": "stream",
     "text": [
      "Epoch 2/100\n",
      "\n",
      "1/1 - 0s - loss: 0.1136 - keras_psnr: 9.4451 - keras_ssim: 0.1679\n",
      "Epoch 3/100\n"
     ]
    },
    {
     "data": {
      "application/vnd.jupyter.widget-view+json": {
       "model_id": "e994e66b1376461399f015c603df90d0",
       "version_major": 2,
       "version_minor": 0
      },
      "text/plain": [
       "HBox(children=(FloatProgress(value=0.0, layout=Layout(flex='2'), max=1.0), HTML(value='')), layout=Layout(disp…"
      ]
     },
     "metadata": {},
     "output_type": "display_data"
    },
    {
     "name": "stdout",
     "output_type": "stream",
     "text": [
      "Epoch 3/100\n",
      "\n",
      "1/1 - 0s - loss: 0.1022 - keras_psnr: 9.9042 - keras_ssim: 0.1451\n",
      "Epoch 4/100\n"
     ]
    },
    {
     "data": {
      "application/vnd.jupyter.widget-view+json": {
       "model_id": "c4d3c827030c4841ade68095d0aa4f48",
       "version_major": 2,
       "version_minor": 0
      },
      "text/plain": [
       "HBox(children=(FloatProgress(value=0.0, layout=Layout(flex='2'), max=1.0), HTML(value='')), layout=Layout(disp…"
      ]
     },
     "metadata": {},
     "output_type": "display_data"
    },
    {
     "name": "stdout",
     "output_type": "stream",
     "text": [
      "Epoch 4/100\n",
      "\n",
      "1/1 - 0s - loss: 0.0942 - keras_psnr: 10.2589 - keras_ssim: 0.1267\n",
      "Epoch 5/100\n"
     ]
    },
    {
     "data": {
      "application/vnd.jupyter.widget-view+json": {
       "model_id": "b726f73b90de40b4834da217e265c9e2",
       "version_major": 2,
       "version_minor": 0
      },
      "text/plain": [
       "HBox(children=(FloatProgress(value=0.0, layout=Layout(flex='2'), max=1.0), HTML(value='')), layout=Layout(disp…"
      ]
     },
     "metadata": {},
     "output_type": "display_data"
    },
    {
     "name": "stdout",
     "output_type": "stream",
     "text": [
      "Epoch 5/100\n",
      "\n",
      "1/1 - 0s - loss: 0.0896 - keras_psnr: 10.4783 - keras_ssim: 0.1137\n",
      "Epoch 6/100\n"
     ]
    },
    {
     "data": {
      "application/vnd.jupyter.widget-view+json": {
       "model_id": "ee0300fbc7dd492490af9bd70847b486",
       "version_major": 2,
       "version_minor": 0
      },
      "text/plain": [
       "HBox(children=(FloatProgress(value=0.0, layout=Layout(flex='2'), max=1.0), HTML(value='')), layout=Layout(disp…"
      ]
     },
     "metadata": {},
     "output_type": "display_data"
    },
    {
     "name": "stdout",
     "output_type": "stream",
     "text": [
      "Epoch 6/100\n",
      "\n",
      "1/1 - 0s - loss: 0.0869 - keras_psnr: 10.6110 - keras_ssim: 0.1098\n",
      "Epoch 7/100\n"
     ]
    },
    {
     "data": {
      "application/vnd.jupyter.widget-view+json": {
       "model_id": "005621c5d6304c998e1887da54c353cf",
       "version_major": 2,
       "version_minor": 0
      },
      "text/plain": [
       "HBox(children=(FloatProgress(value=0.0, layout=Layout(flex='2'), max=1.0), HTML(value='')), layout=Layout(disp…"
      ]
     },
     "metadata": {},
     "output_type": "display_data"
    },
    {
     "name": "stdout",
     "output_type": "stream",
     "text": [
      "Epoch 7/100\n",
      "\n",
      "1/1 - 0s - loss: 0.0847 - keras_psnr: 10.7218 - keras_ssim: 0.1130\n",
      "Epoch 8/100\n"
     ]
    },
    {
     "data": {
      "application/vnd.jupyter.widget-view+json": {
       "model_id": "6b7cd362460a437f9d569b08b9173789",
       "version_major": 2,
       "version_minor": 0
      },
      "text/plain": [
       "HBox(children=(FloatProgress(value=0.0, layout=Layout(flex='2'), max=1.0), HTML(value='')), layout=Layout(disp…"
      ]
     },
     "metadata": {},
     "output_type": "display_data"
    },
    {
     "name": "stdout",
     "output_type": "stream",
     "text": [
      "Epoch 8/100\n",
      "\n",
      "1/1 - 0s - loss: 0.0821 - keras_psnr: 10.8541 - keras_ssim: 0.1223\n",
      "Epoch 9/100\n"
     ]
    },
    {
     "data": {
      "application/vnd.jupyter.widget-view+json": {
       "model_id": "9e99c585643a4e1684d10b291a408975",
       "version_major": 2,
       "version_minor": 0
      },
      "text/plain": [
       "HBox(children=(FloatProgress(value=0.0, layout=Layout(flex='2'), max=1.0), HTML(value='')), layout=Layout(disp…"
      ]
     },
     "metadata": {},
     "output_type": "display_data"
    },
    {
     "name": "stdout",
     "output_type": "stream",
     "text": [
      "Epoch 9/100\n",
      "\n",
      "1/1 - 0s - loss: 0.0797 - keras_psnr: 10.9857 - keras_ssim: 0.1365\n",
      "Epoch 10/100\n"
     ]
    },
    {
     "data": {
      "application/vnd.jupyter.widget-view+json": {
       "model_id": "be94b452471649a9ac0baf1cb50fc2de",
       "version_major": 2,
       "version_minor": 0
      },
      "text/plain": [
       "HBox(children=(FloatProgress(value=0.0, layout=Layout(flex='2'), max=1.0), HTML(value='')), layout=Layout(disp…"
      ]
     },
     "metadata": {},
     "output_type": "display_data"
    },
    {
     "name": "stdout",
     "output_type": "stream",
     "text": [
      "Epoch 10/100\n",
      "\n",
      "1/1 - 0s - loss: 0.0782 - keras_psnr: 11.0695 - keras_ssim: 0.1522\n",
      "Epoch 11/100\n"
     ]
    },
    {
     "data": {
      "application/vnd.jupyter.widget-view+json": {
       "model_id": "e492fde4851e41f49b47525138ad6f8f",
       "version_major": 2,
       "version_minor": 0
      },
      "text/plain": [
       "HBox(children=(FloatProgress(value=0.0, layout=Layout(flex='2'), max=1.0), HTML(value='')), layout=Layout(disp…"
      ]
     },
     "metadata": {},
     "output_type": "display_data"
    },
    {
     "name": "stdout",
     "output_type": "stream",
     "text": [
      "Epoch 11/100\n",
      "\n",
      "1/1 - 0s - loss: 0.0776 - keras_psnr: 11.0988 - keras_ssim: 0.1665\n",
      "Epoch 12/100\n"
     ]
    },
    {
     "data": {
      "application/vnd.jupyter.widget-view+json": {
       "model_id": "8ff7f61fb0d6416bbaa8594ccce6e2b8",
       "version_major": 2,
       "version_minor": 0
      },
      "text/plain": [
       "HBox(children=(FloatProgress(value=0.0, layout=Layout(flex='2'), max=1.0), HTML(value='')), layout=Layout(disp…"
      ]
     },
     "metadata": {},
     "output_type": "display_data"
    },
    {
     "name": "stdout",
     "output_type": "stream",
     "text": [
      "Epoch 12/100\n",
      "\n",
      "1/1 - 0s - loss: 0.0775 - keras_psnr: 11.1062 - keras_ssim: 0.1775\n",
      "Epoch 13/100\n"
     ]
    },
    {
     "data": {
      "application/vnd.jupyter.widget-view+json": {
       "model_id": "4bef0df29b5a4a5788a92dedf2d2dcc8",
       "version_major": 2,
       "version_minor": 0
      },
      "text/plain": [
       "HBox(children=(FloatProgress(value=0.0, layout=Layout(flex='2'), max=1.0), HTML(value='')), layout=Layout(disp…"
      ]
     },
     "metadata": {},
     "output_type": "display_data"
    },
    {
     "name": "stdout",
     "output_type": "stream",
     "text": [
      "Epoch 13/100\n",
      "\n",
      "1/1 - 0s - loss: 0.0773 - keras_psnr: 11.1155 - keras_ssim: 0.1839\n",
      "Epoch 14/100\n"
     ]
    },
    {
     "data": {
      "application/vnd.jupyter.widget-view+json": {
       "model_id": "0c5f301c888845ab97717e72217d951b",
       "version_major": 2,
       "version_minor": 0
      },
      "text/plain": [
       "HBox(children=(FloatProgress(value=0.0, layout=Layout(flex='2'), max=1.0), HTML(value='')), layout=Layout(disp…"
      ]
     },
     "metadata": {},
     "output_type": "display_data"
    },
    {
     "name": "stdout",
     "output_type": "stream",
     "text": [
      "Epoch 14/100\n",
      "\n",
      "1/1 - 0s - loss: 0.0769 - keras_psnr: 11.1424 - keras_ssim: 0.1854\n",
      "Epoch 15/100\n"
     ]
    },
    {
     "data": {
      "application/vnd.jupyter.widget-view+json": {
       "model_id": "35a6b25dda9a4b3aa57149c3978c308a",
       "version_major": 2,
       "version_minor": 0
      },
      "text/plain": [
       "HBox(children=(FloatProgress(value=0.0, layout=Layout(flex='2'), max=1.0), HTML(value='')), layout=Layout(disp…"
      ]
     },
     "metadata": {},
     "output_type": "display_data"
    },
    {
     "name": "stdout",
     "output_type": "stream",
     "text": [
      "Epoch 15/100\n",
      "\n",
      "1/1 - 0s - loss: 0.0761 - keras_psnr: 11.1865 - keras_ssim: 0.1827\n",
      "Epoch 16/100\n"
     ]
    },
    {
     "data": {
      "application/vnd.jupyter.widget-view+json": {
       "model_id": "59a9948b6544477da1afe646b6a8a817",
       "version_major": 2,
       "version_minor": 0
      },
      "text/plain": [
       "HBox(children=(FloatProgress(value=0.0, layout=Layout(flex='2'), max=1.0), HTML(value='')), layout=Layout(disp…"
      ]
     },
     "metadata": {},
     "output_type": "display_data"
    },
    {
     "name": "stdout",
     "output_type": "stream",
     "text": [
      "Epoch 16/100\n",
      "\n",
      "1/1 - 0s - loss: 0.0753 - keras_psnr: 11.2348 - keras_ssim: 0.1766\n",
      "Epoch 17/100\n"
     ]
    },
    {
     "data": {
      "application/vnd.jupyter.widget-view+json": {
       "model_id": "d142ac2d955d4d8f9ba084340501a712",
       "version_major": 2,
       "version_minor": 0
      },
      "text/plain": [
       "HBox(children=(FloatProgress(value=0.0, layout=Layout(flex='2'), max=1.0), HTML(value='')), layout=Layout(disp…"
      ]
     },
     "metadata": {},
     "output_type": "display_data"
    },
    {
     "name": "stdout",
     "output_type": "stream",
     "text": [
      "Epoch 17/100\n",
      "\n",
      "1/1 - 0s - loss: 0.0746 - keras_psnr: 11.2721 - keras_ssim: 0.1688\n",
      "Epoch 18/100\n"
     ]
    },
    {
     "data": {
      "application/vnd.jupyter.widget-view+json": {
       "model_id": "8eadcac0e5eb49f49135c03ae1725fc0",
       "version_major": 2,
       "version_minor": 0
      },
      "text/plain": [
       "HBox(children=(FloatProgress(value=0.0, layout=Layout(flex='2'), max=1.0), HTML(value='')), layout=Layout(disp…"
      ]
     },
     "metadata": {},
     "output_type": "display_data"
    },
    {
     "name": "stdout",
     "output_type": "stream",
     "text": [
      "Epoch 18/100\n",
      "\n",
      "1/1 - 0s - loss: 0.0743 - keras_psnr: 11.2925 - keras_ssim: 0.1609\n",
      "Epoch 19/100\n"
     ]
    },
    {
     "data": {
      "application/vnd.jupyter.widget-view+json": {
       "model_id": "9fb1cf17ee864d4c88941806a9847aa5",
       "version_major": 2,
       "version_minor": 0
      },
      "text/plain": [
       "HBox(children=(FloatProgress(value=0.0, layout=Layout(flex='2'), max=1.0), HTML(value='')), layout=Layout(disp…"
      ]
     },
     "metadata": {},
     "output_type": "display_data"
    },
    {
     "name": "stdout",
     "output_type": "stream",
     "text": [
      "Epoch 19/100\n",
      "\n",
      "1/1 - 0s - loss: 0.0741 - keras_psnr: 11.3035 - keras_ssim: 0.1550\n",
      "Epoch 20/100\n"
     ]
    },
    {
     "data": {
      "application/vnd.jupyter.widget-view+json": {
       "model_id": "42f1a2f10ccd4d1cbcda02a2b5902a8f",
       "version_major": 2,
       "version_minor": 0
      },
      "text/plain": [
       "HBox(children=(FloatProgress(value=0.0, layout=Layout(flex='2'), max=1.0), HTML(value='')), layout=Layout(disp…"
      ]
     },
     "metadata": {},
     "output_type": "display_data"
    },
    {
     "name": "stdout",
     "output_type": "stream",
     "text": [
      "Epoch 20/100\n",
      "\n",
      "1/1 - 0s - loss: 0.0738 - keras_psnr: 11.3196 - keras_ssim: 0.1524\n",
      "Epoch 21/100\n"
     ]
    },
    {
     "data": {
      "application/vnd.jupyter.widget-view+json": {
       "model_id": "34af4d86b4d9444b945ed029e7c28822",
       "version_major": 2,
       "version_minor": 0
      },
      "text/plain": [
       "HBox(children=(FloatProgress(value=0.0, layout=Layout(flex='2'), max=1.0), HTML(value='')), layout=Layout(disp…"
      ]
     },
     "metadata": {},
     "output_type": "display_data"
    },
    {
     "name": "stdout",
     "output_type": "stream",
     "text": [
      "Epoch 21/100\n",
      "\n",
      "1/1 - 0s - loss: 0.0733 - keras_psnr: 11.3487 - keras_ssim: 0.1536\n",
      "Epoch 22/100\n"
     ]
    },
    {
     "data": {
      "application/vnd.jupyter.widget-view+json": {
       "model_id": "96b67ae67ff74a5b890f9bcfee8c358e",
       "version_major": 2,
       "version_minor": 0
      },
      "text/plain": [
       "HBox(children=(FloatProgress(value=0.0, layout=Layout(flex='2'), max=1.0), HTML(value='')), layout=Layout(disp…"
      ]
     },
     "metadata": {},
     "output_type": "display_data"
    },
    {
     "name": "stdout",
     "output_type": "stream",
     "text": [
      "Epoch 22/100\n",
      "\n",
      "1/1 - 0s - loss: 0.0727 - keras_psnr: 11.3845 - keras_ssim: 0.1577\n",
      "Epoch 23/100\n"
     ]
    },
    {
     "data": {
      "application/vnd.jupyter.widget-view+json": {
       "model_id": "0cade4ff4a3140ec8d83998fac7a562d",
       "version_major": 2,
       "version_minor": 0
      },
      "text/plain": [
       "HBox(children=(FloatProgress(value=0.0, layout=Layout(flex='2'), max=1.0), HTML(value='')), layout=Layout(disp…"
      ]
     },
     "metadata": {},
     "output_type": "display_data"
    },
    {
     "name": "stdout",
     "output_type": "stream",
     "text": [
      "Epoch 23/100\n",
      "\n",
      "1/1 - 0s - loss: 0.0722 - keras_psnr: 11.4175 - keras_ssim: 0.1635\n",
      "Epoch 24/100\n"
     ]
    },
    {
     "data": {
      "application/vnd.jupyter.widget-view+json": {
       "model_id": "2b343ac6efc846068017e8efc3efea37",
       "version_major": 2,
       "version_minor": 0
      },
      "text/plain": [
       "HBox(children=(FloatProgress(value=0.0, layout=Layout(flex='2'), max=1.0), HTML(value='')), layout=Layout(disp…"
      ]
     },
     "metadata": {},
     "output_type": "display_data"
    },
    {
     "name": "stdout",
     "output_type": "stream",
     "text": [
      "Epoch 24/100\n",
      "\n",
      "1/1 - 0s - loss: 0.0718 - keras_psnr: 11.4412 - keras_ssim: 0.1697\n",
      "Epoch 25/100\n"
     ]
    },
    {
     "data": {
      "application/vnd.jupyter.widget-view+json": {
       "model_id": "31546aa171ed447a9d0569adb8ba6588",
       "version_major": 2,
       "version_minor": 0
      },
      "text/plain": [
       "HBox(children=(FloatProgress(value=0.0, layout=Layout(flex='2'), max=1.0), HTML(value='')), layout=Layout(disp…"
      ]
     },
     "metadata": {},
     "output_type": "display_data"
    },
    {
     "name": "stdout",
     "output_type": "stream",
     "text": [
      "Epoch 25/100\n",
      "\n",
      "1/1 - 0s - loss: 0.0715 - keras_psnr: 11.4570 - keras_ssim: 0.1749\n",
      "Epoch 26/100\n"
     ]
    },
    {
     "data": {
      "application/vnd.jupyter.widget-view+json": {
       "model_id": "3c41b4f1b3c84a7eaf9d86af0d3caa88",
       "version_major": 2,
       "version_minor": 0
      },
      "text/plain": [
       "HBox(children=(FloatProgress(value=0.0, layout=Layout(flex='2'), max=1.0), HTML(value='')), layout=Layout(disp…"
      ]
     },
     "metadata": {},
     "output_type": "display_data"
    },
    {
     "name": "stdout",
     "output_type": "stream",
     "text": [
      "Epoch 26/100\n",
      "\n",
      "1/1 - 0s - loss: 0.0713 - keras_psnr: 11.4711 - keras_ssim: 0.1781\n",
      "Epoch 27/100\n"
     ]
    },
    {
     "data": {
      "application/vnd.jupyter.widget-view+json": {
       "model_id": "ce21c7396d164078a99f1c9a55f4428e",
       "version_major": 2,
       "version_minor": 0
      },
      "text/plain": [
       "HBox(children=(FloatProgress(value=0.0, layout=Layout(flex='2'), max=1.0), HTML(value='')), layout=Layout(disp…"
      ]
     },
     "metadata": {},
     "output_type": "display_data"
    },
    {
     "name": "stdout",
     "output_type": "stream",
     "text": [
      "Epoch 27/100\n",
      "\n",
      "1/1 - 0s - loss: 0.0711 - keras_psnr: 11.4800 - keras_ssim: 0.1787\n",
      "Epoch 28/100\n"
     ]
    },
    {
     "data": {
      "application/vnd.jupyter.widget-view+json": {
       "model_id": "5019469abc2c446d9c3dd1a66a048b11",
       "version_major": 2,
       "version_minor": 0
      },
      "text/plain": [
       "HBox(children=(FloatProgress(value=0.0, layout=Layout(flex='2'), max=1.0), HTML(value='')), layout=Layout(disp…"
      ]
     },
     "metadata": {},
     "output_type": "display_data"
    },
    {
     "name": "stdout",
     "output_type": "stream",
     "text": [
      "Epoch 28/100\n",
      "\n",
      "1/1 - 0s - loss: 0.0709 - keras_psnr: 11.4911 - keras_ssim: 0.1783\n",
      "Epoch 29/100\n"
     ]
    },
    {
     "data": {
      "application/vnd.jupyter.widget-view+json": {
       "model_id": "fdd75b77d0444ca98170d390d761da32",
       "version_major": 2,
       "version_minor": 0
      },
      "text/plain": [
       "HBox(children=(FloatProgress(value=0.0, layout=Layout(flex='2'), max=1.0), HTML(value='')), layout=Layout(disp…"
      ]
     },
     "metadata": {},
     "output_type": "display_data"
    },
    {
     "name": "stdout",
     "output_type": "stream",
     "text": [
      "Epoch 29/100\n",
      "\n",
      "1/1 - 0s - loss: 0.0707 - keras_psnr: 11.5029 - keras_ssim: 0.1771\n",
      "Epoch 30/100\n"
     ]
    },
    {
     "data": {
      "application/vnd.jupyter.widget-view+json": {
       "model_id": "1621c1b7c59f4878adc0422a3a9558e6",
       "version_major": 2,
       "version_minor": 0
      },
      "text/plain": [
       "HBox(children=(FloatProgress(value=0.0, layout=Layout(flex='2'), max=1.0), HTML(value='')), layout=Layout(disp…"
      ]
     },
     "metadata": {},
     "output_type": "display_data"
    },
    {
     "name": "stdout",
     "output_type": "stream",
     "text": [
      "Epoch 30/100\n",
      "\n",
      "1/1 - 0s - loss: 0.0706 - keras_psnr: 11.5140 - keras_ssim: 0.1756\n",
      "Epoch 31/100\n"
     ]
    },
    {
     "data": {
      "application/vnd.jupyter.widget-view+json": {
       "model_id": "70a0863032c44a48acc16ed22b41bc04",
       "version_major": 2,
       "version_minor": 0
      },
      "text/plain": [
       "HBox(children=(FloatProgress(value=0.0, layout=Layout(flex='2'), max=1.0), HTML(value='')), layout=Layout(disp…"
      ]
     },
     "metadata": {},
     "output_type": "display_data"
    },
    {
     "name": "stdout",
     "output_type": "stream",
     "text": [
      "Epoch 31/100\n",
      "\n",
      "1/1 - 0s - loss: 0.0704 - keras_psnr: 11.5232 - keras_ssim: 0.1739\n",
      "Epoch 32/100\n"
     ]
    },
    {
     "data": {
      "application/vnd.jupyter.widget-view+json": {
       "model_id": "4e930e4ae4f84d58b59c43fb1177f6f9",
       "version_major": 2,
       "version_minor": 0
      },
      "text/plain": [
       "HBox(children=(FloatProgress(value=0.0, layout=Layout(flex='2'), max=1.0), HTML(value='')), layout=Layout(disp…"
      ]
     },
     "metadata": {},
     "output_type": "display_data"
    },
    {
     "name": "stdout",
     "output_type": "stream",
     "text": [
      "Epoch 32/100\n",
      "\n",
      "1/1 - 0s - loss: 0.0703 - keras_psnr: 11.5306 - keras_ssim: 0.1725\n",
      "Epoch 33/100\n"
     ]
    },
    {
     "data": {
      "application/vnd.jupyter.widget-view+json": {
       "model_id": "384f452cddd4416d932c3ea64316eabc",
       "version_major": 2,
       "version_minor": 0
      },
      "text/plain": [
       "HBox(children=(FloatProgress(value=0.0, layout=Layout(flex='2'), max=1.0), HTML(value='')), layout=Layout(disp…"
      ]
     },
     "metadata": {},
     "output_type": "display_data"
    },
    {
     "name": "stdout",
     "output_type": "stream",
     "text": [
      "Epoch 33/100\n",
      "\n",
      "1/1 - 0s - loss: 0.0702 - keras_psnr: 11.5366 - keras_ssim: 0.1716\n",
      "Epoch 34/100\n"
     ]
    },
    {
     "data": {
      "application/vnd.jupyter.widget-view+json": {
       "model_id": "0589a73955f445a2b32688e0d22935c7",
       "version_major": 2,
       "version_minor": 0
      },
      "text/plain": [
       "HBox(children=(FloatProgress(value=0.0, layout=Layout(flex='2'), max=1.0), HTML(value='')), layout=Layout(disp…"
      ]
     },
     "metadata": {},
     "output_type": "display_data"
    },
    {
     "name": "stdout",
     "output_type": "stream",
     "text": [
      "Epoch 34/100\n",
      "\n",
      "1/1 - 0s - loss: 0.0701 - keras_psnr: 11.5429 - keras_ssim: 0.1714\n",
      "Epoch 35/100\n"
     ]
    },
    {
     "data": {
      "application/vnd.jupyter.widget-view+json": {
       "model_id": "806181d64fd941d5ac3610057ca28b3c",
       "version_major": 2,
       "version_minor": 0
      },
      "text/plain": [
       "HBox(children=(FloatProgress(value=0.0, layout=Layout(flex='2'), max=1.0), HTML(value='')), layout=Layout(disp…"
      ]
     },
     "metadata": {},
     "output_type": "display_data"
    },
    {
     "name": "stdout",
     "output_type": "stream",
     "text": [
      "Epoch 35/100\n",
      "\n",
      "1/1 - 0s - loss: 0.0700 - keras_psnr: 11.5507 - keras_ssim: 0.1721\n",
      "Epoch 36/100\n"
     ]
    },
    {
     "data": {
      "application/vnd.jupyter.widget-view+json": {
       "model_id": "4ad1d78ea58d44dd8e550e47922eb76e",
       "version_major": 2,
       "version_minor": 0
      },
      "text/plain": [
       "HBox(children=(FloatProgress(value=0.0, layout=Layout(flex='2'), max=1.0), HTML(value='')), layout=Layout(disp…"
      ]
     },
     "metadata": {},
     "output_type": "display_data"
    },
    {
     "name": "stdout",
     "output_type": "stream",
     "text": [
      "Epoch 36/100\n",
      "\n",
      "1/1 - 0s - loss: 0.0698 - keras_psnr: 11.5600 - keras_ssim: 0.1736\n",
      "Epoch 37/100\n"
     ]
    },
    {
     "data": {
      "application/vnd.jupyter.widget-view+json": {
       "model_id": "dfedca4c723341a69f907a1d7a2e97a1",
       "version_major": 2,
       "version_minor": 0
      },
      "text/plain": [
       "HBox(children=(FloatProgress(value=0.0, layout=Layout(flex='2'), max=1.0), HTML(value='')), layout=Layout(disp…"
      ]
     },
     "metadata": {},
     "output_type": "display_data"
    },
    {
     "name": "stdout",
     "output_type": "stream",
     "text": [
      "Epoch 37/100\n",
      "\n",
      "1/1 - 0s - loss: 0.0697 - keras_psnr: 11.5697 - keras_ssim: 0.1758\n",
      "Epoch 38/100\n"
     ]
    },
    {
     "data": {
      "application/vnd.jupyter.widget-view+json": {
       "model_id": "9bc4a4c625344dd5a3eeade731bde1ca",
       "version_major": 2,
       "version_minor": 0
      },
      "text/plain": [
       "HBox(children=(FloatProgress(value=0.0, layout=Layout(flex='2'), max=1.0), HTML(value='')), layout=Layout(disp…"
      ]
     },
     "metadata": {},
     "output_type": "display_data"
    },
    {
     "name": "stdout",
     "output_type": "stream",
     "text": [
      "Epoch 38/100\n",
      "\n",
      "1/1 - 0s - loss: 0.0695 - keras_psnr: 11.5786 - keras_ssim: 0.1783\n",
      "Epoch 39/100\n"
     ]
    },
    {
     "data": {
      "application/vnd.jupyter.widget-view+json": {
       "model_id": "8cf1e175b4ee4fd3b666b6e241d885fa",
       "version_major": 2,
       "version_minor": 0
      },
      "text/plain": [
       "HBox(children=(FloatProgress(value=0.0, layout=Layout(flex='2'), max=1.0), HTML(value='')), layout=Layout(disp…"
      ]
     },
     "metadata": {},
     "output_type": "display_data"
    },
    {
     "name": "stdout",
     "output_type": "stream",
     "text": [
      "Epoch 39/100\n",
      "\n",
      "1/1 - 0s - loss: 0.0694 - keras_psnr: 11.5865 - keras_ssim: 0.1808\n",
      "Epoch 40/100\n"
     ]
    },
    {
     "data": {
      "application/vnd.jupyter.widget-view+json": {
       "model_id": "abb3567f25ed40da9f8025b29763b8ab",
       "version_major": 2,
       "version_minor": 0
      },
      "text/plain": [
       "HBox(children=(FloatProgress(value=0.0, layout=Layout(flex='2'), max=1.0), HTML(value='')), layout=Layout(disp…"
      ]
     },
     "metadata": {},
     "output_type": "display_data"
    },
    {
     "name": "stdout",
     "output_type": "stream",
     "text": [
      "Epoch 40/100\n",
      "\n",
      "1/1 - 0s - loss: 0.0693 - keras_psnr: 11.5931 - keras_ssim: 0.1830\n",
      "Epoch 41/100\n"
     ]
    },
    {
     "data": {
      "application/vnd.jupyter.widget-view+json": {
       "model_id": "7669bc1c9d1f4a579bb343d405f765a6",
       "version_major": 2,
       "version_minor": 0
      },
      "text/plain": [
       "HBox(children=(FloatProgress(value=0.0, layout=Layout(flex='2'), max=1.0), HTML(value='')), layout=Layout(disp…"
      ]
     },
     "metadata": {},
     "output_type": "display_data"
    },
    {
     "name": "stdout",
     "output_type": "stream",
     "text": [
      "Epoch 41/100\n",
      "\n",
      "1/1 - 0s - loss: 0.0692 - keras_psnr: 11.5990 - keras_ssim: 0.1847\n",
      "Epoch 42/100\n"
     ]
    },
    {
     "data": {
      "application/vnd.jupyter.widget-view+json": {
       "model_id": "307180c85f4c4c92aa3e0ff6992079cf",
       "version_major": 2,
       "version_minor": 0
      },
      "text/plain": [
       "HBox(children=(FloatProgress(value=0.0, layout=Layout(flex='2'), max=1.0), HTML(value='')), layout=Layout(disp…"
      ]
     },
     "metadata": {},
     "output_type": "display_data"
    },
    {
     "name": "stdout",
     "output_type": "stream",
     "text": [
      "Epoch 42/100\n",
      "\n",
      "1/1 - 0s - loss: 0.0691 - keras_psnr: 11.6050 - keras_ssim: 0.1858\n",
      "Epoch 43/100\n"
     ]
    },
    {
     "data": {
      "application/vnd.jupyter.widget-view+json": {
       "model_id": "2cabb951bf0045e990b25c7e4ad76cdb",
       "version_major": 2,
       "version_minor": 0
      },
      "text/plain": [
       "HBox(children=(FloatProgress(value=0.0, layout=Layout(flex='2'), max=1.0), HTML(value='')), layout=Layout(disp…"
      ]
     },
     "metadata": {},
     "output_type": "display_data"
    },
    {
     "name": "stdout",
     "output_type": "stream",
     "text": [
      "Epoch 43/100\n",
      "\n",
      "1/1 - 0s - loss: 0.0690 - keras_psnr: 11.6115 - keras_ssim: 0.1863\n",
      "Epoch 44/100\n"
     ]
    },
    {
     "data": {
      "application/vnd.jupyter.widget-view+json": {
       "model_id": "192676a292094d7587fcc61d847dbc4f",
       "version_major": 2,
       "version_minor": 0
      },
      "text/plain": [
       "HBox(children=(FloatProgress(value=0.0, layout=Layout(flex='2'), max=1.0), HTML(value='')), layout=Layout(disp…"
      ]
     },
     "metadata": {},
     "output_type": "display_data"
    },
    {
     "name": "stdout",
     "output_type": "stream",
     "text": [
      "Epoch 44/100\n",
      "\n",
      "1/1 - 0s - loss: 0.0689 - keras_psnr: 11.6184 - keras_ssim: 0.1863\n",
      "Epoch 45/100\n"
     ]
    },
    {
     "data": {
      "application/vnd.jupyter.widget-view+json": {
       "model_id": "858d2d2338bc446a906267d4209eec6d",
       "version_major": 2,
       "version_minor": 0
      },
      "text/plain": [
       "HBox(children=(FloatProgress(value=0.0, layout=Layout(flex='2'), max=1.0), HTML(value='')), layout=Layout(disp…"
      ]
     },
     "metadata": {},
     "output_type": "display_data"
    },
    {
     "name": "stdout",
     "output_type": "stream",
     "text": [
      "Epoch 45/100\n",
      "\n",
      "1/1 - 0s - loss: 0.0688 - keras_psnr: 11.6252 - keras_ssim: 0.1858\n",
      "Epoch 46/100\n"
     ]
    },
    {
     "data": {
      "application/vnd.jupyter.widget-view+json": {
       "model_id": "a1906731afbd4831bba6320296ac23e9",
       "version_major": 2,
       "version_minor": 0
      },
      "text/plain": [
       "HBox(children=(FloatProgress(value=0.0, layout=Layout(flex='2'), max=1.0), HTML(value='')), layout=Layout(disp…"
      ]
     },
     "metadata": {},
     "output_type": "display_data"
    },
    {
     "name": "stdout",
     "output_type": "stream",
     "text": [
      "Epoch 46/100\n",
      "\n",
      "1/1 - 0s - loss: 0.0687 - keras_psnr: 11.6317 - keras_ssim: 0.1850\n",
      "Epoch 47/100\n"
     ]
    },
    {
     "data": {
      "application/vnd.jupyter.widget-view+json": {
       "model_id": "a960584d973c4c7bbd72b44a6d9547e9",
       "version_major": 2,
       "version_minor": 0
      },
      "text/plain": [
       "HBox(children=(FloatProgress(value=0.0, layout=Layout(flex='2'), max=1.0), HTML(value='')), layout=Layout(disp…"
      ]
     },
     "metadata": {},
     "output_type": "display_data"
    },
    {
     "name": "stdout",
     "output_type": "stream",
     "text": [
      "Epoch 47/100\n",
      "\n",
      "1/1 - 0s - loss: 0.0686 - keras_psnr: 11.6373 - keras_ssim: 0.1842\n",
      "Epoch 48/100\n"
     ]
    },
    {
     "data": {
      "application/vnd.jupyter.widget-view+json": {
       "model_id": "201926dda7d04f0fa9c824657e5ebc8b",
       "version_major": 2,
       "version_minor": 0
      },
      "text/plain": [
       "HBox(children=(FloatProgress(value=0.0, layout=Layout(flex='2'), max=1.0), HTML(value='')), layout=Layout(disp…"
      ]
     },
     "metadata": {},
     "output_type": "display_data"
    },
    {
     "name": "stdout",
     "output_type": "stream",
     "text": [
      "Epoch 48/100\n",
      "\n",
      "1/1 - 0s - loss: 0.0685 - keras_psnr: 11.6423 - keras_ssim: 0.1836\n",
      "Epoch 49/100\n"
     ]
    },
    {
     "data": {
      "application/vnd.jupyter.widget-view+json": {
       "model_id": "f268b80bbb524007a4398cd561285c3e",
       "version_major": 2,
       "version_minor": 0
      },
      "text/plain": [
       "HBox(children=(FloatProgress(value=0.0, layout=Layout(flex='2'), max=1.0), HTML(value='')), layout=Layout(disp…"
      ]
     },
     "metadata": {},
     "output_type": "display_data"
    },
    {
     "name": "stdout",
     "output_type": "stream",
     "text": [
      "Epoch 49/100\n",
      "\n",
      "1/1 - 0s - loss: 0.0684 - keras_psnr: 11.6471 - keras_ssim: 0.1834\n",
      "Epoch 50/100\n"
     ]
    },
    {
     "data": {
      "application/vnd.jupyter.widget-view+json": {
       "model_id": "5aaab68666e0402380963c3c464e74a2",
       "version_major": 2,
       "version_minor": 0
      },
      "text/plain": [
       "HBox(children=(FloatProgress(value=0.0, layout=Layout(flex='2'), max=1.0), HTML(value='')), layout=Layout(disp…"
      ]
     },
     "metadata": {},
     "output_type": "display_data"
    },
    {
     "name": "stdout",
     "output_type": "stream",
     "text": [
      "Epoch 50/100\n",
      "\n",
      "1/1 - 0s - loss: 0.0684 - keras_psnr: 11.6523 - keras_ssim: 0.1836\n",
      "Epoch 51/100\n"
     ]
    },
    {
     "data": {
      "application/vnd.jupyter.widget-view+json": {
       "model_id": "d751f4a736724e018676024434ad8519",
       "version_major": 2,
       "version_minor": 0
      },
      "text/plain": [
       "HBox(children=(FloatProgress(value=0.0, layout=Layout(flex='2'), max=1.0), HTML(value='')), layout=Layout(disp…"
      ]
     },
     "metadata": {},
     "output_type": "display_data"
    },
    {
     "name": "stdout",
     "output_type": "stream",
     "text": [
      "Epoch 51/100\n",
      "\n",
      "1/1 - 0s - loss: 0.0683 - keras_psnr: 11.6579 - keras_ssim: 0.1843\n",
      "Epoch 52/100\n"
     ]
    },
    {
     "data": {
      "application/vnd.jupyter.widget-view+json": {
       "model_id": "a655ba0f92764227a15ec6cc98c0b2f5",
       "version_major": 2,
       "version_minor": 0
      },
      "text/plain": [
       "HBox(children=(FloatProgress(value=0.0, layout=Layout(flex='2'), max=1.0), HTML(value='')), layout=Layout(disp…"
      ]
     },
     "metadata": {},
     "output_type": "display_data"
    },
    {
     "name": "stdout",
     "output_type": "stream",
     "text": [
      "Epoch 52/100\n",
      "\n",
      "1/1 - 0s - loss: 0.0682 - keras_psnr: 11.6608 - keras_ssim: 0.1849\n",
      "Epoch 53/100\n"
     ]
    },
    {
     "data": {
      "application/vnd.jupyter.widget-view+json": {
       "model_id": "39634c263a9649ba94a46dd92dfa947c",
       "version_major": 2,
       "version_minor": 0
      },
      "text/plain": [
       "HBox(children=(FloatProgress(value=0.0, layout=Layout(flex='2'), max=1.0), HTML(value='')), layout=Layout(disp…"
      ]
     },
     "metadata": {},
     "output_type": "display_data"
    },
    {
     "name": "stdout",
     "output_type": "stream",
     "text": [
      "Epoch 53/100\n",
      "\n",
      "1/1 - 0s - loss: 0.0682 - keras_psnr: 11.6639 - keras_ssim: 0.1856\n",
      "Epoch 54/100\n"
     ]
    },
    {
     "data": {
      "application/vnd.jupyter.widget-view+json": {
       "model_id": "6950c9d1bd1a442dbdaadf0fd968325e",
       "version_major": 2,
       "version_minor": 0
      },
      "text/plain": [
       "HBox(children=(FloatProgress(value=0.0, layout=Layout(flex='2'), max=1.0), HTML(value='')), layout=Layout(disp…"
      ]
     },
     "metadata": {},
     "output_type": "display_data"
    },
    {
     "name": "stdout",
     "output_type": "stream",
     "text": [
      "Epoch 54/100\n",
      "\n",
      "1/1 - 0s - loss: 0.0681 - keras_psnr: 11.6668 - keras_ssim: 0.1863\n",
      "Epoch 55/100\n"
     ]
    },
    {
     "data": {
      "application/vnd.jupyter.widget-view+json": {
       "model_id": "cae93769d9714ad4b891f4b023494a8b",
       "version_major": 2,
       "version_minor": 0
      },
      "text/plain": [
       "HBox(children=(FloatProgress(value=0.0, layout=Layout(flex='2'), max=1.0), HTML(value='')), layout=Layout(disp…"
      ]
     },
     "metadata": {},
     "output_type": "display_data"
    },
    {
     "name": "stdout",
     "output_type": "stream",
     "text": [
      "Epoch 55/100\n",
      "\n",
      "1/1 - 0s - loss: 0.0681 - keras_psnr: 11.6696 - keras_ssim: 0.1870\n",
      "Epoch 56/100\n"
     ]
    },
    {
     "data": {
      "application/vnd.jupyter.widget-view+json": {
       "model_id": "2747284af795499aad2a806b16bba7bd",
       "version_major": 2,
       "version_minor": 0
      },
      "text/plain": [
       "HBox(children=(FloatProgress(value=0.0, layout=Layout(flex='2'), max=1.0), HTML(value='')), layout=Layout(disp…"
      ]
     },
     "metadata": {},
     "output_type": "display_data"
    },
    {
     "name": "stdout",
     "output_type": "stream",
     "text": [
      "Epoch 56/100\n",
      "\n",
      "1/1 - 0s - loss: 0.0680 - keras_psnr: 11.6722 - keras_ssim: 0.1877\n",
      "Epoch 57/100\n"
     ]
    },
    {
     "data": {
      "application/vnd.jupyter.widget-view+json": {
       "model_id": "cd993fb474b04fc5acc032290732153e",
       "version_major": 2,
       "version_minor": 0
      },
      "text/plain": [
       "HBox(children=(FloatProgress(value=0.0, layout=Layout(flex='2'), max=1.0), HTML(value='')), layout=Layout(disp…"
      ]
     },
     "metadata": {},
     "output_type": "display_data"
    },
    {
     "name": "stdout",
     "output_type": "stream",
     "text": [
      "Epoch 57/100\n",
      "\n",
      "1/1 - 0s - loss: 0.0680 - keras_psnr: 11.6748 - keras_ssim: 0.1882\n",
      "Epoch 58/100\n"
     ]
    },
    {
     "data": {
      "application/vnd.jupyter.widget-view+json": {
       "model_id": "35cabd27ef9744e5b3cb3755f5088d3d",
       "version_major": 2,
       "version_minor": 0
      },
      "text/plain": [
       "HBox(children=(FloatProgress(value=0.0, layout=Layout(flex='2'), max=1.0), HTML(value='')), layout=Layout(disp…"
      ]
     },
     "metadata": {},
     "output_type": "display_data"
    },
    {
     "name": "stdout",
     "output_type": "stream",
     "text": [
      "Epoch 58/100\n",
      "\n",
      "1/1 - 0s - loss: 0.0680 - keras_psnr: 11.6774 - keras_ssim: 0.1887\n",
      "Epoch 59/100\n"
     ]
    },
    {
     "data": {
      "application/vnd.jupyter.widget-view+json": {
       "model_id": "1f58e0189b0b4e05969b91887cd1f4f6",
       "version_major": 2,
       "version_minor": 0
      },
      "text/plain": [
       "HBox(children=(FloatProgress(value=0.0, layout=Layout(flex='2'), max=1.0), HTML(value='')), layout=Layout(disp…"
      ]
     },
     "metadata": {},
     "output_type": "display_data"
    },
    {
     "name": "stdout",
     "output_type": "stream",
     "text": [
      "Epoch 59/100\n",
      "\n",
      "1/1 - 0s - loss: 0.0679 - keras_psnr: 11.6801 - keras_ssim: 0.1890\n",
      "Epoch 60/100\n"
     ]
    },
    {
     "data": {
      "application/vnd.jupyter.widget-view+json": {
       "model_id": "c88db1bb6d7949359e7987615057ebd3",
       "version_major": 2,
       "version_minor": 0
      },
      "text/plain": [
       "HBox(children=(FloatProgress(value=0.0, layout=Layout(flex='2'), max=1.0), HTML(value='')), layout=Layout(disp…"
      ]
     },
     "metadata": {},
     "output_type": "display_data"
    },
    {
     "name": "stdout",
     "output_type": "stream",
     "text": [
      "Epoch 60/100\n",
      "\n",
      "1/1 - 0s - loss: 0.0679 - keras_psnr: 11.6827 - keras_ssim: 0.1891\n",
      "Epoch 61/100\n"
     ]
    },
    {
     "data": {
      "application/vnd.jupyter.widget-view+json": {
       "model_id": "7ed9d9c73b524619ac500794e6f140af",
       "version_major": 2,
       "version_minor": 0
      },
      "text/plain": [
       "HBox(children=(FloatProgress(value=0.0, layout=Layout(flex='2'), max=1.0), HTML(value='')), layout=Layout(disp…"
      ]
     },
     "metadata": {},
     "output_type": "display_data"
    },
    {
     "name": "stdout",
     "output_type": "stream",
     "text": [
      "Epoch 61/100\n",
      "\n",
      "1/1 - 0s - loss: 0.0678 - keras_psnr: 11.6855 - keras_ssim: 0.1891\n",
      "Epoch 62/100\n"
     ]
    },
    {
     "data": {
      "application/vnd.jupyter.widget-view+json": {
       "model_id": "aa06c0a59b0f4d329abf18c6a5704c1a",
       "version_major": 2,
       "version_minor": 0
      },
      "text/plain": [
       "HBox(children=(FloatProgress(value=0.0, layout=Layout(flex='2'), max=1.0), HTML(value='')), layout=Layout(disp…"
      ]
     },
     "metadata": {},
     "output_type": "display_data"
    },
    {
     "name": "stdout",
     "output_type": "stream",
     "text": [
      "Epoch 62/100\n",
      "\n",
      "1/1 - 0s - loss: 0.0678 - keras_psnr: 11.6882 - keras_ssim: 0.1891\n",
      "Epoch 63/100\n"
     ]
    },
    {
     "data": {
      "application/vnd.jupyter.widget-view+json": {
       "model_id": "e8feb6191cb246459e26ca22a88c34ae",
       "version_major": 2,
       "version_minor": 0
      },
      "text/plain": [
       "HBox(children=(FloatProgress(value=0.0, layout=Layout(flex='2'), max=1.0), HTML(value='')), layout=Layout(disp…"
      ]
     },
     "metadata": {},
     "output_type": "display_data"
    },
    {
     "name": "stdout",
     "output_type": "stream",
     "text": [
      "Epoch 63/100\n",
      "\n",
      "1/1 - 0s - loss: 0.0678 - keras_psnr: 11.6909 - keras_ssim: 0.1890\n",
      "Epoch 64/100\n"
     ]
    },
    {
     "data": {
      "application/vnd.jupyter.widget-view+json": {
       "model_id": "451c0d38e785438ab11e901ecc40e4fe",
       "version_major": 2,
       "version_minor": 0
      },
      "text/plain": [
       "HBox(children=(FloatProgress(value=0.0, layout=Layout(flex='2'), max=1.0), HTML(value='')), layout=Layout(disp…"
      ]
     },
     "metadata": {},
     "output_type": "display_data"
    },
    {
     "name": "stdout",
     "output_type": "stream",
     "text": [
      "Epoch 64/100\n",
      "\n",
      "1/1 - 0s - loss: 0.0677 - keras_psnr: 11.6935 - keras_ssim: 0.1889\n",
      "Epoch 65/100\n"
     ]
    },
    {
     "data": {
      "application/vnd.jupyter.widget-view+json": {
       "model_id": "a5b7bd9c6be24203af1a9d9cafacd8c6",
       "version_major": 2,
       "version_minor": 0
      },
      "text/plain": [
       "HBox(children=(FloatProgress(value=0.0, layout=Layout(flex='2'), max=1.0), HTML(value='')), layout=Layout(disp…"
      ]
     },
     "metadata": {},
     "output_type": "display_data"
    },
    {
     "name": "stdout",
     "output_type": "stream",
     "text": [
      "Epoch 65/100\n",
      "\n",
      "1/1 - 0s - loss: 0.0677 - keras_psnr: 11.6962 - keras_ssim: 0.1888\n",
      "Epoch 66/100\n"
     ]
    },
    {
     "data": {
      "application/vnd.jupyter.widget-view+json": {
       "model_id": "d72ca73cf68340d1afcbaf5bfd1bd206",
       "version_major": 2,
       "version_minor": 0
      },
      "text/plain": [
       "HBox(children=(FloatProgress(value=0.0, layout=Layout(flex='2'), max=1.0), HTML(value='')), layout=Layout(disp…"
      ]
     },
     "metadata": {},
     "output_type": "display_data"
    },
    {
     "name": "stdout",
     "output_type": "stream",
     "text": [
      "Epoch 66/100\n",
      "\n",
      "1/1 - 0s - loss: 0.0676 - keras_psnr: 11.6987 - keras_ssim: 0.1887\n",
      "Epoch 67/100\n"
     ]
    },
    {
     "data": {
      "application/vnd.jupyter.widget-view+json": {
       "model_id": "ee582f9b35844ab68f30d0e40a933d17",
       "version_major": 2,
       "version_minor": 0
      },
      "text/plain": [
       "HBox(children=(FloatProgress(value=0.0, layout=Layout(flex='2'), max=1.0), HTML(value='')), layout=Layout(disp…"
      ]
     },
     "metadata": {},
     "output_type": "display_data"
    },
    {
     "name": "stdout",
     "output_type": "stream",
     "text": [
      "Epoch 67/100\n",
      "\n",
      "1/1 - 0s - loss: 0.0676 - keras_psnr: 11.7013 - keras_ssim: 0.1887\n",
      "Epoch 68/100\n"
     ]
    },
    {
     "data": {
      "application/vnd.jupyter.widget-view+json": {
       "model_id": "b5d161c2002b40ccad327967cc0e299f",
       "version_major": 2,
       "version_minor": 0
      },
      "text/plain": [
       "HBox(children=(FloatProgress(value=0.0, layout=Layout(flex='2'), max=1.0), HTML(value='')), layout=Layout(disp…"
      ]
     },
     "metadata": {},
     "output_type": "display_data"
    },
    {
     "name": "stdout",
     "output_type": "stream",
     "text": [
      "Epoch 68/100\n",
      "\n",
      "1/1 - 0s - loss: 0.0675 - keras_psnr: 11.7039 - keras_ssim: 0.1889\n",
      "Epoch 69/100\n"
     ]
    },
    {
     "data": {
      "application/vnd.jupyter.widget-view+json": {
       "model_id": "4f74dc5f64524ddc87d42d276fd8e30f",
       "version_major": 2,
       "version_minor": 0
      },
      "text/plain": [
       "HBox(children=(FloatProgress(value=0.0, layout=Layout(flex='2'), max=1.0), HTML(value='')), layout=Layout(disp…"
      ]
     },
     "metadata": {},
     "output_type": "display_data"
    },
    {
     "name": "stdout",
     "output_type": "stream",
     "text": [
      "Epoch 69/100\n",
      "\n",
      "1/1 - 0s - loss: 0.0675 - keras_psnr: 11.7065 - keras_ssim: 0.1891\n",
      "Epoch 70/100\n"
     ]
    },
    {
     "data": {
      "application/vnd.jupyter.widget-view+json": {
       "model_id": "fccc958906694806bd9ce4a8ebb61266",
       "version_major": 2,
       "version_minor": 0
      },
      "text/plain": [
       "HBox(children=(FloatProgress(value=0.0, layout=Layout(flex='2'), max=1.0), HTML(value='')), layout=Layout(disp…"
      ]
     },
     "metadata": {},
     "output_type": "display_data"
    },
    {
     "name": "stdout",
     "output_type": "stream",
     "text": [
      "Epoch 70/100\n",
      "\n",
      "1/1 - 0s - loss: 0.0675 - keras_psnr: 11.7091 - keras_ssim: 0.1894\n",
      "Epoch 71/100\n"
     ]
    },
    {
     "data": {
      "application/vnd.jupyter.widget-view+json": {
       "model_id": "148db53850c5485abc5546372fe0e406",
       "version_major": 2,
       "version_minor": 0
      },
      "text/plain": [
       "HBox(children=(FloatProgress(value=0.0, layout=Layout(flex='2'), max=1.0), HTML(value='')), layout=Layout(disp…"
      ]
     },
     "metadata": {},
     "output_type": "display_data"
    },
    {
     "name": "stdout",
     "output_type": "stream",
     "text": [
      "Epoch 71/100\n",
      "\n",
      "1/1 - 0s - loss: 0.0674 - keras_psnr: 11.7117 - keras_ssim: 0.1898\n",
      "Epoch 72/100\n"
     ]
    },
    {
     "data": {
      "application/vnd.jupyter.widget-view+json": {
       "model_id": "09295dcabef4423ab1d9ed757e9ae13b",
       "version_major": 2,
       "version_minor": 0
      },
      "text/plain": [
       "HBox(children=(FloatProgress(value=0.0, layout=Layout(flex='2'), max=1.0), HTML(value='')), layout=Layout(disp…"
      ]
     },
     "metadata": {},
     "output_type": "display_data"
    },
    {
     "name": "stdout",
     "output_type": "stream",
     "text": [
      "Epoch 72/100\n",
      "\n",
      "1/1 - 0s - loss: 0.0674 - keras_psnr: 11.7143 - keras_ssim: 0.1901\n",
      "Epoch 73/100\n"
     ]
    },
    {
     "data": {
      "application/vnd.jupyter.widget-view+json": {
       "model_id": "286acaf03b6d41ef9e170d174e8be9c2",
       "version_major": 2,
       "version_minor": 0
      },
      "text/plain": [
       "HBox(children=(FloatProgress(value=0.0, layout=Layout(flex='2'), max=1.0), HTML(value='')), layout=Layout(disp…"
      ]
     },
     "metadata": {},
     "output_type": "display_data"
    },
    {
     "name": "stdout",
     "output_type": "stream",
     "text": [
      "Epoch 73/100\n",
      "\n",
      "1/1 - 0s - loss: 0.0673 - keras_psnr: 11.7169 - keras_ssim: 0.1905\n",
      "Epoch 74/100\n"
     ]
    },
    {
     "data": {
      "application/vnd.jupyter.widget-view+json": {
       "model_id": "9f8b5935ee6444e3879a89298bfd8fa6",
       "version_major": 2,
       "version_minor": 0
      },
      "text/plain": [
       "HBox(children=(FloatProgress(value=0.0, layout=Layout(flex='2'), max=1.0), HTML(value='')), layout=Layout(disp…"
      ]
     },
     "metadata": {},
     "output_type": "display_data"
    },
    {
     "name": "stdout",
     "output_type": "stream",
     "text": [
      "Epoch 74/100\n",
      "\n",
      "1/1 - 0s - loss: 0.0673 - keras_psnr: 11.7195 - keras_ssim: 0.1909\n",
      "Epoch 75/100\n"
     ]
    },
    {
     "data": {
      "application/vnd.jupyter.widget-view+json": {
       "model_id": "bf76d483641c490baeb0be2767ed87b6",
       "version_major": 2,
       "version_minor": 0
      },
      "text/plain": [
       "HBox(children=(FloatProgress(value=0.0, layout=Layout(flex='2'), max=1.0), HTML(value='')), layout=Layout(disp…"
      ]
     },
     "metadata": {},
     "output_type": "display_data"
    },
    {
     "name": "stdout",
     "output_type": "stream",
     "text": [
      "Epoch 75/100\n",
      "\n",
      "1/1 - 0s - loss: 0.0673 - keras_psnr: 11.7220 - keras_ssim: 0.1912\n",
      "Epoch 76/100\n"
     ]
    },
    {
     "data": {
      "application/vnd.jupyter.widget-view+json": {
       "model_id": "2999237a68e84f709d0dec5d485cfadf",
       "version_major": 2,
       "version_minor": 0
      },
      "text/plain": [
       "HBox(children=(FloatProgress(value=0.0, layout=Layout(flex='2'), max=1.0), HTML(value='')), layout=Layout(disp…"
      ]
     },
     "metadata": {},
     "output_type": "display_data"
    },
    {
     "name": "stdout",
     "output_type": "stream",
     "text": [
      "Epoch 76/100\n",
      "\n",
      "1/1 - 0s - loss: 0.0672 - keras_psnr: 11.7246 - keras_ssim: 0.1914\n",
      "Epoch 77/100\n"
     ]
    },
    {
     "data": {
      "application/vnd.jupyter.widget-view+json": {
       "model_id": "25f729f64f604e9792a3c8c603889e89",
       "version_major": 2,
       "version_minor": 0
      },
      "text/plain": [
       "HBox(children=(FloatProgress(value=0.0, layout=Layout(flex='2'), max=1.0), HTML(value='')), layout=Layout(disp…"
      ]
     },
     "metadata": {},
     "output_type": "display_data"
    },
    {
     "name": "stdout",
     "output_type": "stream",
     "text": [
      "Epoch 77/100\n",
      "\n",
      "1/1 - 0s - loss: 0.0672 - keras_psnr: 11.7259 - keras_ssim: 0.1915\n",
      "Epoch 78/100\n"
     ]
    },
    {
     "data": {
      "application/vnd.jupyter.widget-view+json": {
       "model_id": "36848a0f753743db8cf5caf4ba5a4a22",
       "version_major": 2,
       "version_minor": 0
      },
      "text/plain": [
       "HBox(children=(FloatProgress(value=0.0, layout=Layout(flex='2'), max=1.0), HTML(value='')), layout=Layout(disp…"
      ]
     },
     "metadata": {},
     "output_type": "display_data"
    },
    {
     "name": "stdout",
     "output_type": "stream",
     "text": [
      "Epoch 78/100\n",
      "\n",
      "1/1 - 0s - loss: 0.0672 - keras_psnr: 11.7272 - keras_ssim: 0.1915\n",
      "Epoch 79/100\n"
     ]
    },
    {
     "data": {
      "application/vnd.jupyter.widget-view+json": {
       "model_id": "c1a76a0c85f44143b386b18abec3e1a3",
       "version_major": 2,
       "version_minor": 0
      },
      "text/plain": [
       "HBox(children=(FloatProgress(value=0.0, layout=Layout(flex='2'), max=1.0), HTML(value='')), layout=Layout(disp…"
      ]
     },
     "metadata": {},
     "output_type": "display_data"
    },
    {
     "name": "stdout",
     "output_type": "stream",
     "text": [
      "Epoch 79/100\n",
      "\n",
      "1/1 - 0s - loss: 0.0672 - keras_psnr: 11.7285 - keras_ssim: 0.1916\n",
      "Epoch 80/100\n"
     ]
    },
    {
     "data": {
      "application/vnd.jupyter.widget-view+json": {
       "model_id": "6fb54757dadc4a3f874337af975c75cf",
       "version_major": 2,
       "version_minor": 0
      },
      "text/plain": [
       "HBox(children=(FloatProgress(value=0.0, layout=Layout(flex='2'), max=1.0), HTML(value='')), layout=Layout(disp…"
      ]
     },
     "metadata": {},
     "output_type": "display_data"
    },
    {
     "name": "stdout",
     "output_type": "stream",
     "text": [
      "Epoch 80/100\n",
      "\n",
      "1/1 - 0s - loss: 0.0671 - keras_psnr: 11.7298 - keras_ssim: 0.1916\n",
      "Epoch 81/100\n"
     ]
    },
    {
     "data": {
      "application/vnd.jupyter.widget-view+json": {
       "model_id": "fffd9abbd6864c80b412174deeb14f6f",
       "version_major": 2,
       "version_minor": 0
      },
      "text/plain": [
       "HBox(children=(FloatProgress(value=0.0, layout=Layout(flex='2'), max=1.0), HTML(value='')), layout=Layout(disp…"
      ]
     },
     "metadata": {},
     "output_type": "display_data"
    },
    {
     "name": "stdout",
     "output_type": "stream",
     "text": [
      "Epoch 81/100\n",
      "\n",
      "1/1 - 0s - loss: 0.0671 - keras_psnr: 11.7311 - keras_ssim: 0.1917\n",
      "Epoch 82/100\n"
     ]
    },
    {
     "data": {
      "application/vnd.jupyter.widget-view+json": {
       "model_id": "e47d9f505ad94b88ae7c711f2e84577b",
       "version_major": 2,
       "version_minor": 0
      },
      "text/plain": [
       "HBox(children=(FloatProgress(value=0.0, layout=Layout(flex='2'), max=1.0), HTML(value='')), layout=Layout(disp…"
      ]
     },
     "metadata": {},
     "output_type": "display_data"
    },
    {
     "name": "stdout",
     "output_type": "stream",
     "text": [
      "Epoch 82/100\n",
      "\n",
      "1/1 - 0s - loss: 0.0671 - keras_psnr: 11.7325 - keras_ssim: 0.1917\n",
      "Epoch 83/100\n"
     ]
    },
    {
     "data": {
      "application/vnd.jupyter.widget-view+json": {
       "model_id": "3553e6ad2eca4ae4b0e4f3f54720a620",
       "version_major": 2,
       "version_minor": 0
      },
      "text/plain": [
       "HBox(children=(FloatProgress(value=0.0, layout=Layout(flex='2'), max=1.0), HTML(value='')), layout=Layout(disp…"
      ]
     },
     "metadata": {},
     "output_type": "display_data"
    },
    {
     "name": "stdout",
     "output_type": "stream",
     "text": [
      "Epoch 83/100\n",
      "\n",
      "1/1 - 0s - loss: 0.0671 - keras_psnr: 11.7338 - keras_ssim: 0.1917\n",
      "Epoch 84/100\n"
     ]
    },
    {
     "data": {
      "application/vnd.jupyter.widget-view+json": {
       "model_id": "a156f8d76cfb44ddac162a3b9ba4b640",
       "version_major": 2,
       "version_minor": 0
      },
      "text/plain": [
       "HBox(children=(FloatProgress(value=0.0, layout=Layout(flex='2'), max=1.0), HTML(value='')), layout=Layout(disp…"
      ]
     },
     "metadata": {},
     "output_type": "display_data"
    },
    {
     "name": "stdout",
     "output_type": "stream",
     "text": [
      "Epoch 84/100\n",
      "\n",
      "1/1 - 0s - loss: 0.0671 - keras_psnr: 11.7351 - keras_ssim: 0.1918\n",
      "Epoch 85/100\n"
     ]
    },
    {
     "data": {
      "application/vnd.jupyter.widget-view+json": {
       "model_id": "0a0e836c66f549b4b7bb92176906c0b5",
       "version_major": 2,
       "version_minor": 0
      },
      "text/plain": [
       "HBox(children=(FloatProgress(value=0.0, layout=Layout(flex='2'), max=1.0), HTML(value='')), layout=Layout(disp…"
      ]
     },
     "metadata": {},
     "output_type": "display_data"
    },
    {
     "name": "stdout",
     "output_type": "stream",
     "text": [
      "Epoch 85/100\n",
      "\n",
      "1/1 - 0s - loss: 0.0670 - keras_psnr: 11.7364 - keras_ssim: 0.1918\n",
      "Epoch 86/100\n"
     ]
    },
    {
     "data": {
      "application/vnd.jupyter.widget-view+json": {
       "model_id": "1f1e272395fa449b8d9a2ae34679c1d7",
       "version_major": 2,
       "version_minor": 0
      },
      "text/plain": [
       "HBox(children=(FloatProgress(value=0.0, layout=Layout(flex='2'), max=1.0), HTML(value='')), layout=Layout(disp…"
      ]
     },
     "metadata": {},
     "output_type": "display_data"
    },
    {
     "name": "stdout",
     "output_type": "stream",
     "text": [
      "Epoch 86/100\n",
      "\n",
      "1/1 - 0s - loss: 0.0670 - keras_psnr: 11.7378 - keras_ssim: 0.1919\n",
      "Epoch 87/100\n"
     ]
    },
    {
     "data": {
      "application/vnd.jupyter.widget-view+json": {
       "model_id": "7137f503db9a42c9abf95c51cecb1bf7",
       "version_major": 2,
       "version_minor": 0
      },
      "text/plain": [
       "HBox(children=(FloatProgress(value=0.0, layout=Layout(flex='2'), max=1.0), HTML(value='')), layout=Layout(disp…"
      ]
     },
     "metadata": {},
     "output_type": "display_data"
    },
    {
     "name": "stdout",
     "output_type": "stream",
     "text": [
      "Epoch 87/100\n",
      "\n",
      "1/1 - 0s - loss: 0.0670 - keras_psnr: 11.7391 - keras_ssim: 0.1920\n",
      "Epoch 88/100\n"
     ]
    },
    {
     "data": {
      "application/vnd.jupyter.widget-view+json": {
       "model_id": "f44ff4de74ad47c68384196a5f31f0eb",
       "version_major": 2,
       "version_minor": 0
      },
      "text/plain": [
       "HBox(children=(FloatProgress(value=0.0, layout=Layout(flex='2'), max=1.0), HTML(value='')), layout=Layout(disp…"
      ]
     },
     "metadata": {},
     "output_type": "display_data"
    },
    {
     "name": "stdout",
     "output_type": "stream",
     "text": [
      "Epoch 88/100\n",
      "\n",
      "1/1 - 0s - loss: 0.0670 - keras_psnr: 11.7405 - keras_ssim: 0.1921\n",
      "Epoch 89/100\n"
     ]
    },
    {
     "data": {
      "application/vnd.jupyter.widget-view+json": {
       "model_id": "2cfb566d02094bc7bdd704e0164266d4",
       "version_major": 2,
       "version_minor": 0
      },
      "text/plain": [
       "HBox(children=(FloatProgress(value=0.0, layout=Layout(flex='2'), max=1.0), HTML(value='')), layout=Layout(disp…"
      ]
     },
     "metadata": {},
     "output_type": "display_data"
    },
    {
     "name": "stdout",
     "output_type": "stream",
     "text": [
      "Epoch 89/100\n",
      "\n",
      "1/1 - 0s - loss: 0.0670 - keras_psnr: 11.7418 - keras_ssim: 0.1922\n",
      "Epoch 90/100\n"
     ]
    },
    {
     "data": {
      "application/vnd.jupyter.widget-view+json": {
       "model_id": "1e4cc78c2fcd4783a7d2db2dee73af75",
       "version_major": 2,
       "version_minor": 0
      },
      "text/plain": [
       "HBox(children=(FloatProgress(value=0.0, layout=Layout(flex='2'), max=1.0), HTML(value='')), layout=Layout(disp…"
      ]
     },
     "metadata": {},
     "output_type": "display_data"
    },
    {
     "name": "stdout",
     "output_type": "stream",
     "text": [
      "Epoch 90/100\n",
      "\n",
      "1/1 - 0s - loss: 0.0669 - keras_psnr: 11.7432 - keras_ssim: 0.1923\n",
      "Epoch 91/100\n"
     ]
    },
    {
     "data": {
      "application/vnd.jupyter.widget-view+json": {
       "model_id": "6978285304364d5b85e57a248d7a3144",
       "version_major": 2,
       "version_minor": 0
      },
      "text/plain": [
       "HBox(children=(FloatProgress(value=0.0, layout=Layout(flex='2'), max=1.0), HTML(value='')), layout=Layout(disp…"
      ]
     },
     "metadata": {},
     "output_type": "display_data"
    },
    {
     "name": "stdout",
     "output_type": "stream",
     "text": [
      "Epoch 91/100\n",
      "\n",
      "1/1 - 0s - loss: 0.0669 - keras_psnr: 11.7445 - keras_ssim: 0.1925\n",
      "Epoch 92/100\n"
     ]
    },
    {
     "data": {
      "application/vnd.jupyter.widget-view+json": {
       "model_id": "84bf867cf4ee46f9a8029424492ff25d",
       "version_major": 2,
       "version_minor": 0
      },
      "text/plain": [
       "HBox(children=(FloatProgress(value=0.0, layout=Layout(flex='2'), max=1.0), HTML(value='')), layout=Layout(disp…"
      ]
     },
     "metadata": {},
     "output_type": "display_data"
    },
    {
     "name": "stdout",
     "output_type": "stream",
     "text": [
      "Epoch 92/100\n",
      "\n",
      "1/1 - 0s - loss: 0.0669 - keras_psnr: 11.7459 - keras_ssim: 0.1926\n",
      "Epoch 93/100\n"
     ]
    },
    {
     "data": {
      "application/vnd.jupyter.widget-view+json": {
       "model_id": "12851e401f994f1aac6bd1fcfaf57d5f",
       "version_major": 2,
       "version_minor": 0
      },
      "text/plain": [
       "HBox(children=(FloatProgress(value=0.0, layout=Layout(flex='2'), max=1.0), HTML(value='')), layout=Layout(disp…"
      ]
     },
     "metadata": {},
     "output_type": "display_data"
    },
    {
     "name": "stdout",
     "output_type": "stream",
     "text": [
      "Epoch 93/100\n",
      "\n",
      "1/1 - 0s - loss: 0.0669 - keras_psnr: 11.7472 - keras_ssim: 0.1928\n",
      "Epoch 94/100\n"
     ]
    },
    {
     "data": {
      "application/vnd.jupyter.widget-view+json": {
       "model_id": "572f538cd9f749e8bbe5f264cbdb6707",
       "version_major": 2,
       "version_minor": 0
      },
      "text/plain": [
       "HBox(children=(FloatProgress(value=0.0, layout=Layout(flex='2'), max=1.0), HTML(value='')), layout=Layout(disp…"
      ]
     },
     "metadata": {},
     "output_type": "display_data"
    },
    {
     "name": "stdout",
     "output_type": "stream",
     "text": [
      "Epoch 94/100\n",
      "\n",
      "1/1 - 0s - loss: 0.0669 - keras_psnr: 11.7486 - keras_ssim: 0.1929\n",
      "Epoch 95/100\n"
     ]
    },
    {
     "data": {
      "application/vnd.jupyter.widget-view+json": {
       "model_id": "aec7fb3ea01e4e459af1fa37e4c930b7",
       "version_major": 2,
       "version_minor": 0
      },
      "text/plain": [
       "HBox(children=(FloatProgress(value=0.0, layout=Layout(flex='2'), max=1.0), HTML(value='')), layout=Layout(disp…"
      ]
     },
     "metadata": {},
     "output_type": "display_data"
    },
    {
     "name": "stdout",
     "output_type": "stream",
     "text": [
      "Epoch 95/100\n",
      "\n",
      "1/1 - 0s - loss: 0.0668 - keras_psnr: 11.7500 - keras_ssim: 0.1931\n",
      "Epoch 96/100\n"
     ]
    },
    {
     "data": {
      "application/vnd.jupyter.widget-view+json": {
       "model_id": "c6b539c663674979b6a38f2e8e0db29c",
       "version_major": 2,
       "version_minor": 0
      },
      "text/plain": [
       "HBox(children=(FloatProgress(value=0.0, layout=Layout(flex='2'), max=1.0), HTML(value='')), layout=Layout(disp…"
      ]
     },
     "metadata": {},
     "output_type": "display_data"
    },
    {
     "name": "stdout",
     "output_type": "stream",
     "text": [
      "Epoch 96/100\n",
      "\n",
      "1/1 - 0s - loss: 0.0668 - keras_psnr: 11.7514 - keras_ssim: 0.1933\n",
      "Epoch 97/100\n"
     ]
    },
    {
     "data": {
      "application/vnd.jupyter.widget-view+json": {
       "model_id": "a153a691725e492d9e8a58dae41c1173",
       "version_major": 2,
       "version_minor": 0
      },
      "text/plain": [
       "HBox(children=(FloatProgress(value=0.0, layout=Layout(flex='2'), max=1.0), HTML(value='')), layout=Layout(disp…"
      ]
     },
     "metadata": {},
     "output_type": "display_data"
    },
    {
     "name": "stdout",
     "output_type": "stream",
     "text": [
      "Epoch 97/100\n",
      "\n",
      "1/1 - 0s - loss: 0.0668 - keras_psnr: 11.7527 - keras_ssim: 0.1934\n",
      "Epoch 98/100\n"
     ]
    },
    {
     "data": {
      "application/vnd.jupyter.widget-view+json": {
       "model_id": "55864eea6c834d84b8f8fde44abfc069",
       "version_major": 2,
       "version_minor": 0
      },
      "text/plain": [
       "HBox(children=(FloatProgress(value=0.0, layout=Layout(flex='2'), max=1.0), HTML(value='')), layout=Layout(disp…"
      ]
     },
     "metadata": {},
     "output_type": "display_data"
    },
    {
     "name": "stdout",
     "output_type": "stream",
     "text": [
      "Epoch 98/100\n",
      "\n",
      "1/1 - 0s - loss: 0.0668 - keras_psnr: 11.7541 - keras_ssim: 0.1935\n",
      "Epoch 99/100\n"
     ]
    },
    {
     "data": {
      "application/vnd.jupyter.widget-view+json": {
       "model_id": "a942ac9408a44c858413a49887493c27",
       "version_major": 2,
       "version_minor": 0
      },
      "text/plain": [
       "HBox(children=(FloatProgress(value=0.0, layout=Layout(flex='2'), max=1.0), HTML(value='')), layout=Layout(disp…"
      ]
     },
     "metadata": {},
     "output_type": "display_data"
    },
    {
     "name": "stdout",
     "output_type": "stream",
     "text": [
      "Epoch 99/100\n",
      "\n",
      "1/1 - 0s - loss: 0.0667 - keras_psnr: 11.7555 - keras_ssim: 0.1936\n",
      "Epoch 100/100\n"
     ]
    },
    {
     "data": {
      "application/vnd.jupyter.widget-view+json": {
       "model_id": "3dbfc6b924074b64abe8930406a45797",
       "version_major": 2,
       "version_minor": 0
      },
      "text/plain": [
       "HBox(children=(FloatProgress(value=0.0, layout=Layout(flex='2'), max=1.0), HTML(value='')), layout=Layout(disp…"
      ]
     },
     "metadata": {},
     "output_type": "display_data"
    },
    {
     "name": "stdout",
     "output_type": "stream",
     "text": [
      "Epoch 100/100\n",
      "\n",
      "1/1 - 0s - loss: 0.0667 - keras_psnr: 11.7569 - keras_ssim: 0.1937\n",
      "\n",
      "CPU times: user 44.5 s, sys: 5.31 s, total: 49.8 s\n",
      "Wall time: 44.6 s\n"
     ]
    },
    {
     "data": {
      "text/plain": [
       "<tensorflow.python.keras.callbacks.History at 0x7f7895f6f3c8>"
      ]
     },
     "execution_count": 8,
     "metadata": {},
     "output_type": "execute_result"
    }
   ],
   "source": [
    "%%time\n",
    "# overfitting trials\n",
    "data = next(iter(kspace_ds_train))\n",
    "val_data = next(iter(kspace_ds_val))\n",
    "\n",
    "# original psnr\n",
    "(kspace_channeled, mask), image = data\n",
    "res_z_filled = tf.math.abs(tf_masked_shifted_normed_ifft2d(kspace_channeled[..., 0], mask)[..., None])\n",
    "print('Original psnr ', tf.image.psnr(image, res_z_filled, max_val=1))\n",
    "\n",
    "model.fit(\n",
    "    x=data[0], \n",
    "    y=data[1], \n",
    "#     validation_data=val_data, \n",
    "    batch_size=1, \n",
    "#     callbacks=[tqdm_cb, tboard_cback, tboard_image_cback, norm_cback, lrate_cback],\n",
    "    callbacks=[tqdm_cb, tboard_cback, lrate_cback],\n",
    "    epochs=100, \n",
    "    verbose=2, \n",
    "    shuffle=False,\n",
    ")"
   ]
  },
  {
   "cell_type": "code",
   "execution_count": 9,
   "metadata": {},
   "outputs": [],
   "source": [
    "res = model([kspace_channeled, mask])"
   ]
  },
  {
   "cell_type": "code",
   "execution_count": 13,
   "metadata": {},
   "outputs": [
    {
     "data": {
      "application/javascript": [
       "/* Put everything inside the global mpl namespace */\n",
       "window.mpl = {};\n",
       "\n",
       "\n",
       "mpl.get_websocket_type = function() {\n",
       "    if (typeof(WebSocket) !== 'undefined') {\n",
       "        return WebSocket;\n",
       "    } else if (typeof(MozWebSocket) !== 'undefined') {\n",
       "        return MozWebSocket;\n",
       "    } else {\n",
       "        alert('Your browser does not have WebSocket support. ' +\n",
       "              'Please try Chrome, Safari or Firefox ≥ 6. ' +\n",
       "              'Firefox 4 and 5 are also supported but you ' +\n",
       "              'have to enable WebSockets in about:config.');\n",
       "    };\n",
       "}\n",
       "\n",
       "mpl.figure = function(figure_id, websocket, ondownload, parent_element) {\n",
       "    this.id = figure_id;\n",
       "\n",
       "    this.ws = websocket;\n",
       "\n",
       "    this.supports_binary = (this.ws.binaryType != undefined);\n",
       "\n",
       "    if (!this.supports_binary) {\n",
       "        var warnings = document.getElementById(\"mpl-warnings\");\n",
       "        if (warnings) {\n",
       "            warnings.style.display = 'block';\n",
       "            warnings.textContent = (\n",
       "                \"This browser does not support binary websocket messages. \" +\n",
       "                    \"Performance may be slow.\");\n",
       "        }\n",
       "    }\n",
       "\n",
       "    this.imageObj = new Image();\n",
       "\n",
       "    this.context = undefined;\n",
       "    this.message = undefined;\n",
       "    this.canvas = undefined;\n",
       "    this.rubberband_canvas = undefined;\n",
       "    this.rubberband_context = undefined;\n",
       "    this.format_dropdown = undefined;\n",
       "\n",
       "    this.image_mode = 'full';\n",
       "\n",
       "    this.root = $('<div/>');\n",
       "    this._root_extra_style(this.root)\n",
       "    this.root.attr('style', 'display: inline-block');\n",
       "\n",
       "    $(parent_element).append(this.root);\n",
       "\n",
       "    this._init_header(this);\n",
       "    this._init_canvas(this);\n",
       "    this._init_toolbar(this);\n",
       "\n",
       "    var fig = this;\n",
       "\n",
       "    this.waiting = false;\n",
       "\n",
       "    this.ws.onopen =  function () {\n",
       "            fig.send_message(\"supports_binary\", {value: fig.supports_binary});\n",
       "            fig.send_message(\"send_image_mode\", {});\n",
       "            if (mpl.ratio != 1) {\n",
       "                fig.send_message(\"set_dpi_ratio\", {'dpi_ratio': mpl.ratio});\n",
       "            }\n",
       "            fig.send_message(\"refresh\", {});\n",
       "        }\n",
       "\n",
       "    this.imageObj.onload = function() {\n",
       "            if (fig.image_mode == 'full') {\n",
       "                // Full images could contain transparency (where diff images\n",
       "                // almost always do), so we need to clear the canvas so that\n",
       "                // there is no ghosting.\n",
       "                fig.context.clearRect(0, 0, fig.canvas.width, fig.canvas.height);\n",
       "            }\n",
       "            fig.context.drawImage(fig.imageObj, 0, 0);\n",
       "        };\n",
       "\n",
       "    this.imageObj.onunload = function() {\n",
       "        fig.ws.close();\n",
       "    }\n",
       "\n",
       "    this.ws.onmessage = this._make_on_message_function(this);\n",
       "\n",
       "    this.ondownload = ondownload;\n",
       "}\n",
       "\n",
       "mpl.figure.prototype._init_header = function() {\n",
       "    var titlebar = $(\n",
       "        '<div class=\"ui-dialog-titlebar ui-widget-header ui-corner-all ' +\n",
       "        'ui-helper-clearfix\"/>');\n",
       "    var titletext = $(\n",
       "        '<div class=\"ui-dialog-title\" style=\"width: 100%; ' +\n",
       "        'text-align: center; padding: 3px;\"/>');\n",
       "    titlebar.append(titletext)\n",
       "    this.root.append(titlebar);\n",
       "    this.header = titletext[0];\n",
       "}\n",
       "\n",
       "\n",
       "\n",
       "mpl.figure.prototype._canvas_extra_style = function(canvas_div) {\n",
       "\n",
       "}\n",
       "\n",
       "\n",
       "mpl.figure.prototype._root_extra_style = function(canvas_div) {\n",
       "\n",
       "}\n",
       "\n",
       "mpl.figure.prototype._init_canvas = function() {\n",
       "    var fig = this;\n",
       "\n",
       "    var canvas_div = $('<div/>');\n",
       "\n",
       "    canvas_div.attr('style', 'position: relative; clear: both; outline: 0');\n",
       "\n",
       "    function canvas_keyboard_event(event) {\n",
       "        return fig.key_event(event, event['data']);\n",
       "    }\n",
       "\n",
       "    canvas_div.keydown('key_press', canvas_keyboard_event);\n",
       "    canvas_div.keyup('key_release', canvas_keyboard_event);\n",
       "    this.canvas_div = canvas_div\n",
       "    this._canvas_extra_style(canvas_div)\n",
       "    this.root.append(canvas_div);\n",
       "\n",
       "    var canvas = $('<canvas/>');\n",
       "    canvas.addClass('mpl-canvas');\n",
       "    canvas.attr('style', \"left: 0; top: 0; z-index: 0; outline: 0\")\n",
       "\n",
       "    this.canvas = canvas[0];\n",
       "    this.context = canvas[0].getContext(\"2d\");\n",
       "\n",
       "    var backingStore = this.context.backingStorePixelRatio ||\n",
       "\tthis.context.webkitBackingStorePixelRatio ||\n",
       "\tthis.context.mozBackingStorePixelRatio ||\n",
       "\tthis.context.msBackingStorePixelRatio ||\n",
       "\tthis.context.oBackingStorePixelRatio ||\n",
       "\tthis.context.backingStorePixelRatio || 1;\n",
       "\n",
       "    mpl.ratio = (window.devicePixelRatio || 1) / backingStore;\n",
       "\n",
       "    var rubberband = $('<canvas/>');\n",
       "    rubberband.attr('style', \"position: absolute; left: 0; top: 0; z-index: 1;\")\n",
       "\n",
       "    var pass_mouse_events = true;\n",
       "\n",
       "    canvas_div.resizable({\n",
       "        start: function(event, ui) {\n",
       "            pass_mouse_events = false;\n",
       "        },\n",
       "        resize: function(event, ui) {\n",
       "            fig.request_resize(ui.size.width, ui.size.height);\n",
       "        },\n",
       "        stop: function(event, ui) {\n",
       "            pass_mouse_events = true;\n",
       "            fig.request_resize(ui.size.width, ui.size.height);\n",
       "        },\n",
       "    });\n",
       "\n",
       "    function mouse_event_fn(event) {\n",
       "        if (pass_mouse_events)\n",
       "            return fig.mouse_event(event, event['data']);\n",
       "    }\n",
       "\n",
       "    rubberband.mousedown('button_press', mouse_event_fn);\n",
       "    rubberband.mouseup('button_release', mouse_event_fn);\n",
       "    // Throttle sequential mouse events to 1 every 20ms.\n",
       "    rubberband.mousemove('motion_notify', mouse_event_fn);\n",
       "\n",
       "    rubberband.mouseenter('figure_enter', mouse_event_fn);\n",
       "    rubberband.mouseleave('figure_leave', mouse_event_fn);\n",
       "\n",
       "    canvas_div.on(\"wheel\", function (event) {\n",
       "        event = event.originalEvent;\n",
       "        event['data'] = 'scroll'\n",
       "        if (event.deltaY < 0) {\n",
       "            event.step = 1;\n",
       "        } else {\n",
       "            event.step = -1;\n",
       "        }\n",
       "        mouse_event_fn(event);\n",
       "    });\n",
       "\n",
       "    canvas_div.append(canvas);\n",
       "    canvas_div.append(rubberband);\n",
       "\n",
       "    this.rubberband = rubberband;\n",
       "    this.rubberband_canvas = rubberband[0];\n",
       "    this.rubberband_context = rubberband[0].getContext(\"2d\");\n",
       "    this.rubberband_context.strokeStyle = \"#000000\";\n",
       "\n",
       "    this._resize_canvas = function(width, height) {\n",
       "        // Keep the size of the canvas, canvas container, and rubber band\n",
       "        // canvas in synch.\n",
       "        canvas_div.css('width', width)\n",
       "        canvas_div.css('height', height)\n",
       "\n",
       "        canvas.attr('width', width * mpl.ratio);\n",
       "        canvas.attr('height', height * mpl.ratio);\n",
       "        canvas.attr('style', 'width: ' + width + 'px; height: ' + height + 'px;');\n",
       "\n",
       "        rubberband.attr('width', width);\n",
       "        rubberband.attr('height', height);\n",
       "    }\n",
       "\n",
       "    // Set the figure to an initial 600x600px, this will subsequently be updated\n",
       "    // upon first draw.\n",
       "    this._resize_canvas(600, 600);\n",
       "\n",
       "    // Disable right mouse context menu.\n",
       "    $(this.rubberband_canvas).bind(\"contextmenu\",function(e){\n",
       "        return false;\n",
       "    });\n",
       "\n",
       "    function set_focus () {\n",
       "        canvas.focus();\n",
       "        canvas_div.focus();\n",
       "    }\n",
       "\n",
       "    window.setTimeout(set_focus, 100);\n",
       "}\n",
       "\n",
       "mpl.figure.prototype._init_toolbar = function() {\n",
       "    var fig = this;\n",
       "\n",
       "    var nav_element = $('<div/>');\n",
       "    nav_element.attr('style', 'width: 100%');\n",
       "    this.root.append(nav_element);\n",
       "\n",
       "    // Define a callback function for later on.\n",
       "    function toolbar_event(event) {\n",
       "        return fig.toolbar_button_onclick(event['data']);\n",
       "    }\n",
       "    function toolbar_mouse_event(event) {\n",
       "        return fig.toolbar_button_onmouseover(event['data']);\n",
       "    }\n",
       "\n",
       "    for(var toolbar_ind in mpl.toolbar_items) {\n",
       "        var name = mpl.toolbar_items[toolbar_ind][0];\n",
       "        var tooltip = mpl.toolbar_items[toolbar_ind][1];\n",
       "        var image = mpl.toolbar_items[toolbar_ind][2];\n",
       "        var method_name = mpl.toolbar_items[toolbar_ind][3];\n",
       "\n",
       "        if (!name) {\n",
       "            // put a spacer in here.\n",
       "            continue;\n",
       "        }\n",
       "        var button = $('<button/>');\n",
       "        button.addClass('ui-button ui-widget ui-state-default ui-corner-all ' +\n",
       "                        'ui-button-icon-only');\n",
       "        button.attr('role', 'button');\n",
       "        button.attr('aria-disabled', 'false');\n",
       "        button.click(method_name, toolbar_event);\n",
       "        button.mouseover(tooltip, toolbar_mouse_event);\n",
       "\n",
       "        var icon_img = $('<span/>');\n",
       "        icon_img.addClass('ui-button-icon-primary ui-icon');\n",
       "        icon_img.addClass(image);\n",
       "        icon_img.addClass('ui-corner-all');\n",
       "\n",
       "        var tooltip_span = $('<span/>');\n",
       "        tooltip_span.addClass('ui-button-text');\n",
       "        tooltip_span.html(tooltip);\n",
       "\n",
       "        button.append(icon_img);\n",
       "        button.append(tooltip_span);\n",
       "\n",
       "        nav_element.append(button);\n",
       "    }\n",
       "\n",
       "    var fmt_picker_span = $('<span/>');\n",
       "\n",
       "    var fmt_picker = $('<select/>');\n",
       "    fmt_picker.addClass('mpl-toolbar-option ui-widget ui-widget-content');\n",
       "    fmt_picker_span.append(fmt_picker);\n",
       "    nav_element.append(fmt_picker_span);\n",
       "    this.format_dropdown = fmt_picker[0];\n",
       "\n",
       "    for (var ind in mpl.extensions) {\n",
       "        var fmt = mpl.extensions[ind];\n",
       "        var option = $(\n",
       "            '<option/>', {selected: fmt === mpl.default_extension}).html(fmt);\n",
       "        fmt_picker.append(option);\n",
       "    }\n",
       "\n",
       "    // Add hover states to the ui-buttons\n",
       "    $( \".ui-button\" ).hover(\n",
       "        function() { $(this).addClass(\"ui-state-hover\");},\n",
       "        function() { $(this).removeClass(\"ui-state-hover\");}\n",
       "    );\n",
       "\n",
       "    var status_bar = $('<span class=\"mpl-message\"/>');\n",
       "    nav_element.append(status_bar);\n",
       "    this.message = status_bar[0];\n",
       "}\n",
       "\n",
       "mpl.figure.prototype.request_resize = function(x_pixels, y_pixels) {\n",
       "    // Request matplotlib to resize the figure. Matplotlib will then trigger a resize in the client,\n",
       "    // which will in turn request a refresh of the image.\n",
       "    this.send_message('resize', {'width': x_pixels, 'height': y_pixels});\n",
       "}\n",
       "\n",
       "mpl.figure.prototype.send_message = function(type, properties) {\n",
       "    properties['type'] = type;\n",
       "    properties['figure_id'] = this.id;\n",
       "    this.ws.send(JSON.stringify(properties));\n",
       "}\n",
       "\n",
       "mpl.figure.prototype.send_draw_message = function() {\n",
       "    if (!this.waiting) {\n",
       "        this.waiting = true;\n",
       "        this.ws.send(JSON.stringify({type: \"draw\", figure_id: this.id}));\n",
       "    }\n",
       "}\n",
       "\n",
       "\n",
       "mpl.figure.prototype.handle_save = function(fig, msg) {\n",
       "    var format_dropdown = fig.format_dropdown;\n",
       "    var format = format_dropdown.options[format_dropdown.selectedIndex].value;\n",
       "    fig.ondownload(fig, format);\n",
       "}\n",
       "\n",
       "\n",
       "mpl.figure.prototype.handle_resize = function(fig, msg) {\n",
       "    var size = msg['size'];\n",
       "    if (size[0] != fig.canvas.width || size[1] != fig.canvas.height) {\n",
       "        fig._resize_canvas(size[0], size[1]);\n",
       "        fig.send_message(\"refresh\", {});\n",
       "    };\n",
       "}\n",
       "\n",
       "mpl.figure.prototype.handle_rubberband = function(fig, msg) {\n",
       "    var x0 = msg['x0'] / mpl.ratio;\n",
       "    var y0 = (fig.canvas.height - msg['y0']) / mpl.ratio;\n",
       "    var x1 = msg['x1'] / mpl.ratio;\n",
       "    var y1 = (fig.canvas.height - msg['y1']) / mpl.ratio;\n",
       "    x0 = Math.floor(x0) + 0.5;\n",
       "    y0 = Math.floor(y0) + 0.5;\n",
       "    x1 = Math.floor(x1) + 0.5;\n",
       "    y1 = Math.floor(y1) + 0.5;\n",
       "    var min_x = Math.min(x0, x1);\n",
       "    var min_y = Math.min(y0, y1);\n",
       "    var width = Math.abs(x1 - x0);\n",
       "    var height = Math.abs(y1 - y0);\n",
       "\n",
       "    fig.rubberband_context.clearRect(\n",
       "        0, 0, fig.canvas.width / mpl.ratio, fig.canvas.height / mpl.ratio);\n",
       "\n",
       "    fig.rubberband_context.strokeRect(min_x, min_y, width, height);\n",
       "}\n",
       "\n",
       "mpl.figure.prototype.handle_figure_label = function(fig, msg) {\n",
       "    // Updates the figure title.\n",
       "    fig.header.textContent = msg['label'];\n",
       "}\n",
       "\n",
       "mpl.figure.prototype.handle_cursor = function(fig, msg) {\n",
       "    var cursor = msg['cursor'];\n",
       "    switch(cursor)\n",
       "    {\n",
       "    case 0:\n",
       "        cursor = 'pointer';\n",
       "        break;\n",
       "    case 1:\n",
       "        cursor = 'default';\n",
       "        break;\n",
       "    case 2:\n",
       "        cursor = 'crosshair';\n",
       "        break;\n",
       "    case 3:\n",
       "        cursor = 'move';\n",
       "        break;\n",
       "    }\n",
       "    fig.rubberband_canvas.style.cursor = cursor;\n",
       "}\n",
       "\n",
       "mpl.figure.prototype.handle_message = function(fig, msg) {\n",
       "    fig.message.textContent = msg['message'];\n",
       "}\n",
       "\n",
       "mpl.figure.prototype.handle_draw = function(fig, msg) {\n",
       "    // Request the server to send over a new figure.\n",
       "    fig.send_draw_message();\n",
       "}\n",
       "\n",
       "mpl.figure.prototype.handle_image_mode = function(fig, msg) {\n",
       "    fig.image_mode = msg['mode'];\n",
       "}\n",
       "\n",
       "mpl.figure.prototype.updated_canvas_event = function() {\n",
       "    // Called whenever the canvas gets updated.\n",
       "    this.send_message(\"ack\", {});\n",
       "}\n",
       "\n",
       "// A function to construct a web socket function for onmessage handling.\n",
       "// Called in the figure constructor.\n",
       "mpl.figure.prototype._make_on_message_function = function(fig) {\n",
       "    return function socket_on_message(evt) {\n",
       "        if (evt.data instanceof Blob) {\n",
       "            /* FIXME: We get \"Resource interpreted as Image but\n",
       "             * transferred with MIME type text/plain:\" errors on\n",
       "             * Chrome.  But how to set the MIME type?  It doesn't seem\n",
       "             * to be part of the websocket stream */\n",
       "            evt.data.type = \"image/png\";\n",
       "\n",
       "            /* Free the memory for the previous frames */\n",
       "            if (fig.imageObj.src) {\n",
       "                (window.URL || window.webkitURL).revokeObjectURL(\n",
       "                    fig.imageObj.src);\n",
       "            }\n",
       "\n",
       "            fig.imageObj.src = (window.URL || window.webkitURL).createObjectURL(\n",
       "                evt.data);\n",
       "            fig.updated_canvas_event();\n",
       "            fig.waiting = false;\n",
       "            return;\n",
       "        }\n",
       "        else if (typeof evt.data === 'string' && evt.data.slice(0, 21) == \"data:image/png;base64\") {\n",
       "            fig.imageObj.src = evt.data;\n",
       "            fig.updated_canvas_event();\n",
       "            fig.waiting = false;\n",
       "            return;\n",
       "        }\n",
       "\n",
       "        var msg = JSON.parse(evt.data);\n",
       "        var msg_type = msg['type'];\n",
       "\n",
       "        // Call the  \"handle_{type}\" callback, which takes\n",
       "        // the figure and JSON message as its only arguments.\n",
       "        try {\n",
       "            var callback = fig[\"handle_\" + msg_type];\n",
       "        } catch (e) {\n",
       "            console.log(\"No handler for the '\" + msg_type + \"' message type: \", msg);\n",
       "            return;\n",
       "        }\n",
       "\n",
       "        if (callback) {\n",
       "            try {\n",
       "                // console.log(\"Handling '\" + msg_type + \"' message: \", msg);\n",
       "                callback(fig, msg);\n",
       "            } catch (e) {\n",
       "                console.log(\"Exception inside the 'handler_\" + msg_type + \"' callback:\", e, e.stack, msg);\n",
       "            }\n",
       "        }\n",
       "    };\n",
       "}\n",
       "\n",
       "// from http://stackoverflow.com/questions/1114465/getting-mouse-location-in-canvas\n",
       "mpl.findpos = function(e) {\n",
       "    //this section is from http://www.quirksmode.org/js/events_properties.html\n",
       "    var targ;\n",
       "    if (!e)\n",
       "        e = window.event;\n",
       "    if (e.target)\n",
       "        targ = e.target;\n",
       "    else if (e.srcElement)\n",
       "        targ = e.srcElement;\n",
       "    if (targ.nodeType == 3) // defeat Safari bug\n",
       "        targ = targ.parentNode;\n",
       "\n",
       "    // jQuery normalizes the pageX and pageY\n",
       "    // pageX,Y are the mouse positions relative to the document\n",
       "    // offset() returns the position of the element relative to the document\n",
       "    var x = e.pageX - $(targ).offset().left;\n",
       "    var y = e.pageY - $(targ).offset().top;\n",
       "\n",
       "    return {\"x\": x, \"y\": y};\n",
       "};\n",
       "\n",
       "/*\n",
       " * return a copy of an object with only non-object keys\n",
       " * we need this to avoid circular references\n",
       " * http://stackoverflow.com/a/24161582/3208463\n",
       " */\n",
       "function simpleKeys (original) {\n",
       "  return Object.keys(original).reduce(function (obj, key) {\n",
       "    if (typeof original[key] !== 'object')\n",
       "        obj[key] = original[key]\n",
       "    return obj;\n",
       "  }, {});\n",
       "}\n",
       "\n",
       "mpl.figure.prototype.mouse_event = function(event, name) {\n",
       "    var canvas_pos = mpl.findpos(event)\n",
       "\n",
       "    if (name === 'button_press')\n",
       "    {\n",
       "        this.canvas.focus();\n",
       "        this.canvas_div.focus();\n",
       "    }\n",
       "\n",
       "    var x = canvas_pos.x * mpl.ratio;\n",
       "    var y = canvas_pos.y * mpl.ratio;\n",
       "\n",
       "    this.send_message(name, {x: x, y: y, button: event.button,\n",
       "                             step: event.step,\n",
       "                             guiEvent: simpleKeys(event)});\n",
       "\n",
       "    /* This prevents the web browser from automatically changing to\n",
       "     * the text insertion cursor when the button is pressed.  We want\n",
       "     * to control all of the cursor setting manually through the\n",
       "     * 'cursor' event from matplotlib */\n",
       "    event.preventDefault();\n",
       "    return false;\n",
       "}\n",
       "\n",
       "mpl.figure.prototype._key_event_extra = function(event, name) {\n",
       "    // Handle any extra behaviour associated with a key event\n",
       "}\n",
       "\n",
       "mpl.figure.prototype.key_event = function(event, name) {\n",
       "\n",
       "    // Prevent repeat events\n",
       "    if (name == 'key_press')\n",
       "    {\n",
       "        if (event.which === this._key)\n",
       "            return;\n",
       "        else\n",
       "            this._key = event.which;\n",
       "    }\n",
       "    if (name == 'key_release')\n",
       "        this._key = null;\n",
       "\n",
       "    var value = '';\n",
       "    if (event.ctrlKey && event.which != 17)\n",
       "        value += \"ctrl+\";\n",
       "    if (event.altKey && event.which != 18)\n",
       "        value += \"alt+\";\n",
       "    if (event.shiftKey && event.which != 16)\n",
       "        value += \"shift+\";\n",
       "\n",
       "    value += 'k';\n",
       "    value += event.which.toString();\n",
       "\n",
       "    this._key_event_extra(event, name);\n",
       "\n",
       "    this.send_message(name, {key: value,\n",
       "                             guiEvent: simpleKeys(event)});\n",
       "    return false;\n",
       "}\n",
       "\n",
       "mpl.figure.prototype.toolbar_button_onclick = function(name) {\n",
       "    if (name == 'download') {\n",
       "        this.handle_save(this, null);\n",
       "    } else {\n",
       "        this.send_message(\"toolbar_button\", {name: name});\n",
       "    }\n",
       "};\n",
       "\n",
       "mpl.figure.prototype.toolbar_button_onmouseover = function(tooltip) {\n",
       "    this.message.textContent = tooltip;\n",
       "};\n",
       "mpl.toolbar_items = [[\"Home\", \"Reset original view\", \"fa fa-home icon-home\", \"home\"], [\"Back\", \"Back to previous view\", \"fa fa-arrow-left icon-arrow-left\", \"back\"], [\"Forward\", \"Forward to next view\", \"fa fa-arrow-right icon-arrow-right\", \"forward\"], [\"\", \"\", \"\", \"\"], [\"Pan\", \"Pan axes with left mouse, zoom with right\", \"fa fa-arrows icon-move\", \"pan\"], [\"Zoom\", \"Zoom to rectangle\", \"fa fa-square-o icon-check-empty\", \"zoom\"], [\"\", \"\", \"\", \"\"], [\"Download\", \"Download plot\", \"fa fa-floppy-o icon-save\", \"download\"]];\n",
       "\n",
       "mpl.extensions = [\"eps\", \"jpeg\", \"pdf\", \"png\", \"ps\", \"raw\", \"svg\", \"tif\"];\n",
       "\n",
       "mpl.default_extension = \"png\";var comm_websocket_adapter = function(comm) {\n",
       "    // Create a \"websocket\"-like object which calls the given IPython comm\n",
       "    // object with the appropriate methods. Currently this is a non binary\n",
       "    // socket, so there is still some room for performance tuning.\n",
       "    var ws = {};\n",
       "\n",
       "    ws.close = function() {\n",
       "        comm.close()\n",
       "    };\n",
       "    ws.send = function(m) {\n",
       "        //console.log('sending', m);\n",
       "        comm.send(m);\n",
       "    };\n",
       "    // Register the callback with on_msg.\n",
       "    comm.on_msg(function(msg) {\n",
       "        //console.log('receiving', msg['content']['data'], msg);\n",
       "        // Pass the mpl event to the overridden (by mpl) onmessage function.\n",
       "        ws.onmessage(msg['content']['data'])\n",
       "    });\n",
       "    return ws;\n",
       "}\n",
       "\n",
       "mpl.mpl_figure_comm = function(comm, msg) {\n",
       "    // This is the function which gets called when the mpl process\n",
       "    // starts-up an IPython Comm through the \"matplotlib\" channel.\n",
       "\n",
       "    var id = msg.content.data.id;\n",
       "    // Get hold of the div created by the display call when the Comm\n",
       "    // socket was opened in Python.\n",
       "    var element = $(\"#\" + id);\n",
       "    var ws_proxy = comm_websocket_adapter(comm)\n",
       "\n",
       "    function ondownload(figure, format) {\n",
       "        window.open(figure.imageObj.src);\n",
       "    }\n",
       "\n",
       "    var fig = new mpl.figure(id, ws_proxy,\n",
       "                           ondownload,\n",
       "                           element.get(0));\n",
       "\n",
       "    // Call onopen now - mpl needs it, as it is assuming we've passed it a real\n",
       "    // web socket which is closed, not our websocket->open comm proxy.\n",
       "    ws_proxy.onopen();\n",
       "\n",
       "    fig.parent_element = element.get(0);\n",
       "    fig.cell_info = mpl.find_output_cell(\"<div id='\" + id + \"'></div>\");\n",
       "    if (!fig.cell_info) {\n",
       "        console.error(\"Failed to find cell for figure\", id, fig);\n",
       "        return;\n",
       "    }\n",
       "\n",
       "    var output_index = fig.cell_info[2]\n",
       "    var cell = fig.cell_info[0];\n",
       "\n",
       "};\n",
       "\n",
       "mpl.figure.prototype.handle_close = function(fig, msg) {\n",
       "    var width = fig.canvas.width/mpl.ratio\n",
       "    fig.root.unbind('remove')\n",
       "\n",
       "    // Update the output cell to use the data from the current canvas.\n",
       "    fig.push_to_output();\n",
       "    var dataURL = fig.canvas.toDataURL();\n",
       "    // Re-enable the keyboard manager in IPython - without this line, in FF,\n",
       "    // the notebook keyboard shortcuts fail.\n",
       "    IPython.keyboard_manager.enable()\n",
       "    $(fig.parent_element).html('<img src=\"' + dataURL + '\" width=\"' + width + '\">');\n",
       "    fig.close_ws(fig, msg);\n",
       "}\n",
       "\n",
       "mpl.figure.prototype.close_ws = function(fig, msg){\n",
       "    fig.send_message('closing', msg);\n",
       "    // fig.ws.close()\n",
       "}\n",
       "\n",
       "mpl.figure.prototype.push_to_output = function(remove_interactive) {\n",
       "    // Turn the data on the canvas into data in the output cell.\n",
       "    var width = this.canvas.width/mpl.ratio\n",
       "    var dataURL = this.canvas.toDataURL();\n",
       "    this.cell_info[1]['text/html'] = '<img src=\"' + dataURL + '\" width=\"' + width + '\">';\n",
       "}\n",
       "\n",
       "mpl.figure.prototype.updated_canvas_event = function() {\n",
       "    // Tell IPython that the notebook contents must change.\n",
       "    IPython.notebook.set_dirty(true);\n",
       "    this.send_message(\"ack\", {});\n",
       "    var fig = this;\n",
       "    // Wait a second, then push the new image to the DOM so\n",
       "    // that it is saved nicely (might be nice to debounce this).\n",
       "    setTimeout(function () { fig.push_to_output() }, 1000);\n",
       "}\n",
       "\n",
       "mpl.figure.prototype._init_toolbar = function() {\n",
       "    var fig = this;\n",
       "\n",
       "    var nav_element = $('<div/>');\n",
       "    nav_element.attr('style', 'width: 100%');\n",
       "    this.root.append(nav_element);\n",
       "\n",
       "    // Define a callback function for later on.\n",
       "    function toolbar_event(event) {\n",
       "        return fig.toolbar_button_onclick(event['data']);\n",
       "    }\n",
       "    function toolbar_mouse_event(event) {\n",
       "        return fig.toolbar_button_onmouseover(event['data']);\n",
       "    }\n",
       "\n",
       "    for(var toolbar_ind in mpl.toolbar_items){\n",
       "        var name = mpl.toolbar_items[toolbar_ind][0];\n",
       "        var tooltip = mpl.toolbar_items[toolbar_ind][1];\n",
       "        var image = mpl.toolbar_items[toolbar_ind][2];\n",
       "        var method_name = mpl.toolbar_items[toolbar_ind][3];\n",
       "\n",
       "        if (!name) { continue; };\n",
       "\n",
       "        var button = $('<button class=\"btn btn-default\" href=\"#\" title=\"' + name + '\"><i class=\"fa ' + image + ' fa-lg\"></i></button>');\n",
       "        button.click(method_name, toolbar_event);\n",
       "        button.mouseover(tooltip, toolbar_mouse_event);\n",
       "        nav_element.append(button);\n",
       "    }\n",
       "\n",
       "    // Add the status bar.\n",
       "    var status_bar = $('<span class=\"mpl-message\" style=\"text-align:right; float: right;\"/>');\n",
       "    nav_element.append(status_bar);\n",
       "    this.message = status_bar[0];\n",
       "\n",
       "    // Add the close button to the window.\n",
       "    var buttongrp = $('<div class=\"btn-group inline pull-right\"></div>');\n",
       "    var button = $('<button class=\"btn btn-mini btn-primary\" href=\"#\" title=\"Stop Interaction\"><i class=\"fa fa-power-off icon-remove icon-large\"></i></button>');\n",
       "    button.click(function (evt) { fig.handle_close(fig, {}); } );\n",
       "    button.mouseover('Stop Interaction', toolbar_mouse_event);\n",
       "    buttongrp.append(button);\n",
       "    var titlebar = this.root.find($('.ui-dialog-titlebar'));\n",
       "    titlebar.prepend(buttongrp);\n",
       "}\n",
       "\n",
       "mpl.figure.prototype._root_extra_style = function(el){\n",
       "    var fig = this\n",
       "    el.on(\"remove\", function(){\n",
       "\tfig.close_ws(fig, {});\n",
       "    });\n",
       "}\n",
       "\n",
       "mpl.figure.prototype._canvas_extra_style = function(el){\n",
       "    // this is important to make the div 'focusable\n",
       "    el.attr('tabindex', 0)\n",
       "    // reach out to IPython and tell the keyboard manager to turn it's self\n",
       "    // off when our div gets focus\n",
       "\n",
       "    // location in version 3\n",
       "    if (IPython.notebook.keyboard_manager) {\n",
       "        IPython.notebook.keyboard_manager.register_events(el);\n",
       "    }\n",
       "    else {\n",
       "        // location in version 2\n",
       "        IPython.keyboard_manager.register_events(el);\n",
       "    }\n",
       "\n",
       "}\n",
       "\n",
       "mpl.figure.prototype._key_event_extra = function(event, name) {\n",
       "    var manager = IPython.notebook.keyboard_manager;\n",
       "    if (!manager)\n",
       "        manager = IPython.keyboard_manager;\n",
       "\n",
       "    // Check for shift+enter\n",
       "    if (event.shiftKey && event.which == 13) {\n",
       "        this.canvas_div.blur();\n",
       "        // select the cell after this one\n",
       "        var index = IPython.notebook.find_cell_index(this.cell_info[0]);\n",
       "        IPython.notebook.select(index + 1);\n",
       "    }\n",
       "}\n",
       "\n",
       "mpl.figure.prototype.handle_save = function(fig, msg) {\n",
       "    fig.ondownload(fig, null);\n",
       "}\n",
       "\n",
       "\n",
       "mpl.find_output_cell = function(html_output) {\n",
       "    // Return the cell and output element which can be found *uniquely* in the notebook.\n",
       "    // Note - this is a bit hacky, but it is done because the \"notebook_saving.Notebook\"\n",
       "    // IPython event is triggered only after the cells have been serialised, which for\n",
       "    // our purposes (turning an active figure into a static one), is too late.\n",
       "    var cells = IPython.notebook.get_cells();\n",
       "    var ncells = cells.length;\n",
       "    for (var i=0; i<ncells; i++) {\n",
       "        var cell = cells[i];\n",
       "        if (cell.cell_type === 'code'){\n",
       "            for (var j=0; j<cell.output_area.outputs.length; j++) {\n",
       "                var data = cell.output_area.outputs[j];\n",
       "                if (data.data) {\n",
       "                    // IPython >= 3 moved mimebundle to data attribute of output\n",
       "                    data = data.data;\n",
       "                }\n",
       "                if (data['text/html'] == html_output) {\n",
       "                    return [cell, data, j];\n",
       "                }\n",
       "            }\n",
       "        }\n",
       "    }\n",
       "}\n",
       "\n",
       "// Register the function which deals with the matplotlib target/channel.\n",
       "// The kernel may be null if the page has been refreshed.\n",
       "if (IPython.notebook.kernel != null) {\n",
       "    IPython.notebook.kernel.comm_manager.register_target('matplotlib', mpl.mpl_figure_comm);\n",
       "}\n"
      ],
      "text/plain": [
       "<IPython.core.display.Javascript object>"
      ]
     },
     "metadata": {},
     "output_type": "display_data"
    },
    {
     "data": {
      "text/html": [
       "<img src=\"data:image/png;base64,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\" width=\"639.9999861283738\">"
      ],
      "text/plain": [
       "<IPython.core.display.HTML object>"
      ]
     },
     "metadata": {},
     "output_type": "display_data"
    },
    {
     "data": {
      "text/plain": [
       "<matplotlib.image.AxesImage at 0x7f785ca67a58>"
      ]
     },
     "execution_count": 13,
     "metadata": {},
     "output_type": "execute_result"
    }
   ],
   "source": [
    "%matplotlib nbagg\n",
    "import matplotlib.pyplot as plt\n",
    "import numpy as np\n",
    "\n",
    "fig, axs = plt.subplots(1, 3)\n",
    "axs[0].imshow(np.squeeze(image))\n",
    "axs[1].imshow(np.squeeze(res_z_filled))\n",
    "axs[2].imshow(np.squeeze(res))"
   ]
  },
  {
   "cell_type": "code",
   "execution_count": 15,
   "metadata": {},
   "outputs": [
    {
     "data": {
      "text/plain": [
       "[array([0.12991482], dtype=float32),\n",
       " array([0.12110147], dtype=float32),\n",
       " array([0.10401861], dtype=float32)]"
      ]
     },
     "execution_count": 15,
     "metadata": {},
     "output_type": "execute_result"
    }
   ],
   "source": [
    "[l.alpha.numpy() for l in model.learnlet.threshold.thresholding_layers]"
   ]
  },
  {
   "cell_type": "code",
   "execution_count": 17,
   "metadata": {},
   "outputs": [
    {
     "data": {
      "text/plain": [
       "[array([1.0039057], dtype=float32),\n",
       " array([1.0042788], dtype=float32),\n",
       " array([1.0091071], dtype=float32),\n",
       " array([1.0066142], dtype=float32),\n",
       " array([0.99543643], dtype=float32),\n",
       " array([0.99326044], dtype=float32),\n",
       " array([0.9943367], dtype=float32),\n",
       " array([0.9795294], dtype=float32),\n",
       " array([0.958928], dtype=float32),\n",
       " array([0.9612178], dtype=float32)]"
      ]
     },
     "execution_count": 17,
     "metadata": {},
     "output_type": "execute_result"
    }
   ],
   "source": [
    "[a.numpy() for a in model.alphas]"
   ]
  }
 ],
 "metadata": {
  "kernelspec": {
   "display_name": "Python 3",
   "language": "python",
   "name": "python3"
  },
  "language_info": {
   "codemirror_mode": {
    "name": "ipython",
    "version": 3
   },
   "file_extension": ".py",
   "mimetype": "text/x-python",
   "name": "python",
   "nbconvert_exporter": "python",
   "pygments_lexer": "ipython3",
   "version": "3.6.8"
  }
 },
 "nbformat": 4,
 "nbformat_minor": 2
}
